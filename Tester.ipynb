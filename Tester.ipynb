{
 "cells": [
  {
   "cell_type": "code",
   "execution_count": 263,
   "metadata": {},
   "outputs": [],
   "source": [
    "import numpy as np"
   ]
  },
  {
   "cell_type": "code",
   "execution_count": 264,
   "metadata": {},
   "outputs": [],
   "source": [
    "import torch"
   ]
  },
  {
   "cell_type": "code",
   "execution_count": 265,
   "metadata": {},
   "outputs": [
    {
     "data": {
      "text/plain": [
       "tensor([[1., 2., 3., 4., 5., 6., 7.],\n",
       "        [3., 5., 6., 7., 8., 4., 5.]])"
      ]
     },
     "execution_count": 265,
     "metadata": {},
     "output_type": "execute_result"
    }
   ],
   "source": [
    "x = torch.FloatTensor([[1,2,3,4,5,6,7],[3,5,6,7,8,4,5]])\n",
    "x"
   ]
  },
  {
   "cell_type": "code",
   "execution_count": 4,
   "metadata": {},
   "outputs": [
    {
     "data": {
      "text/plain": [
       "tensor([[[1., 3.],\n",
       "         [2., 5.],\n",
       "         [3., 6.],\n",
       "         [4., 7.],\n",
       "         [5., 8.],\n",
       "         [6., 4.],\n",
       "         [7., 5.]]])"
      ]
     },
     "execution_count": 4,
     "metadata": {},
     "output_type": "execute_result"
    }
   ],
   "source": [
    "x.unfold(0,2,2)"
   ]
  },
  {
   "cell_type": "code",
   "execution_count": 5,
   "metadata": {},
   "outputs": [],
   "source": [
    "mock_filter_1 = torch.tensor([[1.0,2,1],[2,4,5],[6,7,8]])\n",
    "mock_filter_2 = torch.tensor([[1.0,6,7],[1,9,5],[4,7,8]])\n",
    "mock_filter_3 = torch.tensor([[1.0,3,1],[7,0,5],[9,7,0]])\n",
    "mock_filter_4 = torch.tensor([[3.0,2,4],[0,4,5],[1,7,0]])"
   ]
  },
  {
   "cell_type": "code",
   "execution_count": 6,
   "metadata": {},
   "outputs": [],
   "source": [
    "mock_filter_combined = torch.stack([mock_filter_1, mock_filter_2, mock_filter_3, mock_filter_4]) "
   ]
  },
  {
   "cell_type": "code",
   "execution_count": 7,
   "metadata": {},
   "outputs": [],
   "source": [
    "mock_filter_combined = torch.stack([mock_filter_combined, mock_filter_combined], dim=1)"
   ]
  },
  {
   "cell_type": "code",
   "execution_count": 8,
   "metadata": {},
   "outputs": [
    {
     "data": {
      "text/plain": [
       "torch.Size([4, 2, 3, 3])"
      ]
     },
     "execution_count": 8,
     "metadata": {},
     "output_type": "execute_result"
    }
   ],
   "source": [
    "mock_filter_combined.shape"
   ]
  },
  {
   "cell_type": "code",
   "execution_count": 9,
   "metadata": {},
   "outputs": [
    {
     "name": "stdout",
     "output_type": "stream",
     "text": [
      "tensor([[[1., 2., 1.],\n",
      "         [2., 4., 5.],\n",
      "         [6., 7., 8.]],\n",
      "\n",
      "        [[1., 2., 1.],\n",
      "         [2., 4., 5.],\n",
      "         [6., 7., 8.]]])\n",
      "tensor([[[1., 6., 7.],\n",
      "         [1., 9., 5.],\n",
      "         [4., 7., 8.]],\n",
      "\n",
      "        [[1., 6., 7.],\n",
      "         [1., 9., 5.],\n",
      "         [4., 7., 8.]]])\n",
      "tensor([[[1., 3., 1.],\n",
      "         [7., 0., 5.],\n",
      "         [9., 7., 0.]],\n",
      "\n",
      "        [[1., 3., 1.],\n",
      "         [7., 0., 5.],\n",
      "         [9., 7., 0.]]])\n",
      "tensor([[[3., 2., 4.],\n",
      "         [0., 4., 5.],\n",
      "         [1., 7., 0.]],\n",
      "\n",
      "        [[3., 2., 4.],\n",
      "         [0., 4., 5.],\n",
      "         [1., 7., 0.]]])\n"
     ]
    }
   ],
   "source": [
    "print(mock_filter_combined[0])\n",
    "print(mock_filter_combined[1])\n",
    "print(mock_filter_combined[2])\n",
    "print(mock_filter_combined[3])"
   ]
  },
  {
   "cell_type": "code",
   "execution_count": 10,
   "metadata": {},
   "outputs": [],
   "source": [
    "filter_groups = mock_filter_combined.unfold(0, 2, 2)"
   ]
  },
  {
   "cell_type": "code",
   "execution_count": 11,
   "metadata": {},
   "outputs": [
    {
     "data": {
      "text/plain": [
       "torch.Size([2, 2, 3, 3, 2])"
      ]
     },
     "execution_count": 11,
     "metadata": {},
     "output_type": "execute_result"
    }
   ],
   "source": [
    "filter_groups.shape"
   ]
  },
  {
   "cell_type": "code",
   "execution_count": 12,
   "metadata": {},
   "outputs": [
    {
     "data": {
      "text/plain": [
       "tensor([[[[1., 2., 1.],\n",
       "          [2., 4., 5.],\n",
       "          [6., 7., 8.]],\n",
       "\n",
       "         [[1., 2., 1.],\n",
       "          [2., 4., 5.],\n",
       "          [6., 7., 8.]]],\n",
       "\n",
       "\n",
       "        [[[1., 6., 7.],\n",
       "          [1., 9., 5.],\n",
       "          [4., 7., 8.]],\n",
       "\n",
       "         [[1., 6., 7.],\n",
       "          [1., 9., 5.],\n",
       "          [4., 7., 8.]]]])"
      ]
     },
     "execution_count": 12,
     "metadata": {},
     "output_type": "execute_result"
    }
   ],
   "source": [
    "filter_groups[0].permute(3,0,1,2)"
   ]
  },
  {
   "cell_type": "code",
   "execution_count": 13,
   "metadata": {},
   "outputs": [
    {
     "data": {
      "text/plain": [
       "tensor([[[[1., 3., 1.],\n",
       "          [7., 0., 5.],\n",
       "          [9., 7., 0.]],\n",
       "\n",
       "         [[1., 3., 1.],\n",
       "          [7., 0., 5.],\n",
       "          [9., 7., 0.]]],\n",
       "\n",
       "\n",
       "        [[[3., 2., 4.],\n",
       "          [0., 4., 5.],\n",
       "          [1., 7., 0.]],\n",
       "\n",
       "         [[3., 2., 4.],\n",
       "          [0., 4., 5.],\n",
       "          [1., 7., 0.]]]])"
      ]
     },
     "execution_count": 13,
     "metadata": {},
     "output_type": "execute_result"
    }
   ],
   "source": [
    "filter_groups[1].permute(3,0,1,2)"
   ]
  },
  {
   "cell_type": "markdown",
   "metadata": {},
   "source": [
    "### Testing the activations"
   ]
  },
  {
   "cell_type": "code",
   "execution_count": 266,
   "metadata": {},
   "outputs": [],
   "source": [
    "import torch.nn.functional as F"
   ]
  },
  {
   "cell_type": "code",
   "execution_count": 267,
   "metadata": {},
   "outputs": [
    {
     "data": {
      "text/plain": [
       "torch.Size([5, 2, 3, 3])"
      ]
     },
     "execution_count": 267,
     "metadata": {},
     "output_type": "execute_result"
    }
   ],
   "source": [
    "filters = mock_filter_combined\n",
    "filters.shape"
   ]
  },
  {
   "cell_type": "code",
   "execution_count": 268,
   "metadata": {},
   "outputs": [],
   "source": [
    "inputs = torch.randn(2,2,4,4)"
   ]
  },
  {
   "cell_type": "code",
   "execution_count": 269,
   "metadata": {},
   "outputs": [],
   "source": [
    "activations = F.conv2d(inputs,filters)"
   ]
  },
  {
   "cell_type": "code",
   "execution_count": 270,
   "metadata": {},
   "outputs": [
    {
     "data": {
      "text/plain": [
       "torch.Size([2, 5, 2, 2])"
      ]
     },
     "execution_count": 270,
     "metadata": {},
     "output_type": "execute_result"
    }
   ],
   "source": [
    "activations.shape"
   ]
  },
  {
   "cell_type": "code",
   "execution_count": 19,
   "metadata": {},
   "outputs": [
    {
     "data": {
      "text/plain": [
       "tensor([[[[-0.9836, -1.4208, -0.8229, -0.5846],\n",
       "          [ 0.3779,  0.3007,  0.0868, -1.5526],\n",
       "          [-0.8341,  0.4526,  0.9579,  0.3471],\n",
       "          [ 0.0823,  0.2645, -0.3746, -1.2217]],\n",
       "\n",
       "         [[ 0.6883,  0.5724, -0.0845, -0.0906],\n",
       "          [ 0.9938,  0.0661,  1.9325,  1.6026],\n",
       "          [-0.4197, -0.7367, -1.0242, -0.8743],\n",
       "          [ 0.6043,  0.4772,  1.5056, -1.1296]]],\n",
       "\n",
       "\n",
       "        [[[-0.5626,  0.3638, -0.5997, -1.6459],\n",
       "          [-0.3427, -0.3129,  0.9347,  1.5927],\n",
       "          [ 0.8174, -0.1902,  0.7727, -0.5489],\n",
       "          [-0.8904,  1.3198, -2.2056, -1.1502]],\n",
       "\n",
       "         [[ 0.7915,  1.2240, -0.2449, -0.9252],\n",
       "          [ 1.0592, -0.5847, -0.5430,  0.6257],\n",
       "          [ 0.1448,  0.0330, -1.5823,  0.4018],\n",
       "          [-2.8942, -0.0568,  1.1775, -0.7728]]]])"
      ]
     },
     "execution_count": 19,
     "metadata": {},
     "output_type": "execute_result"
    }
   ],
   "source": [
    "inputs"
   ]
  },
  {
   "cell_type": "code",
   "execution_count": 20,
   "metadata": {},
   "outputs": [
    {
     "data": {
      "text/plain": [
       "tensor([[[[  1.3666,  -0.6625],\n",
       "          [ 18.5080,  -5.4578]],\n",
       "\n",
       "         [[ -4.5010,   1.9549],\n",
       "          [ 30.5517,   1.3895]],\n",
       "\n",
       "         [[  2.6776,  -4.4479],\n",
       "          [  6.7547,  16.4415]],\n",
       "\n",
       "         [[  2.1093,   0.5193],\n",
       "          [ 17.3366,  11.0968]]],\n",
       "\n",
       "\n",
       "        [[[  0.5576,   0.4039],\n",
       "          [-25.5301, -17.1863]],\n",
       "\n",
       "         [[ -5.2884, -15.2308],\n",
       "          [-20.9491,  -8.7257]],\n",
       "\n",
       "         [[ 18.6822,  -5.7908],\n",
       "          [-24.1178,   4.8312]],\n",
       "\n",
       "         [[ -1.2860,  -0.3757],\n",
       "          [  2.3012,  -2.9430]]]])"
      ]
     },
     "execution_count": 20,
     "metadata": {},
     "output_type": "execute_result"
    }
   ],
   "source": [
    "activations"
   ]
  },
  {
   "cell_type": "code",
   "execution_count": 21,
   "metadata": {},
   "outputs": [],
   "source": [
    "groups = torch.split(activations, 2, dim=1)"
   ]
  },
  {
   "cell_type": "code",
   "execution_count": 22,
   "metadata": {},
   "outputs": [
    {
     "data": {
      "text/plain": [
       "(tensor([[[[  1.3666,  -0.6625],\n",
       "           [ 18.5080,  -5.4578]],\n",
       " \n",
       "          [[ -4.5010,   1.9549],\n",
       "           [ 30.5517,   1.3895]]],\n",
       " \n",
       " \n",
       "         [[[  0.5576,   0.4039],\n",
       "           [-25.5301, -17.1863]],\n",
       " \n",
       "          [[ -5.2884, -15.2308],\n",
       "           [-20.9491,  -8.7257]]]]), tensor([[[[  2.6776,  -4.4479],\n",
       "           [  6.7547,  16.4415]],\n",
       " \n",
       "          [[  2.1093,   0.5193],\n",
       "           [ 17.3366,  11.0968]]],\n",
       " \n",
       " \n",
       "         [[[ 18.6822,  -5.7908],\n",
       "           [-24.1178,   4.8312]],\n",
       " \n",
       "          [[ -1.2860,  -0.3757],\n",
       "           [  2.3012,  -2.9430]]]]))"
      ]
     },
     "execution_count": 22,
     "metadata": {},
     "output_type": "execute_result"
    }
   ],
   "source": [
    "groups"
   ]
  },
  {
   "cell_type": "code",
   "execution_count": 23,
   "metadata": {},
   "outputs": [
    {
     "data": {
      "text/plain": [
       "tensor([[[[  1.3666,  -0.6625],\n",
       "          [ 18.5080,  -5.4578]],\n",
       "\n",
       "         [[ -4.5010,   1.9549],\n",
       "          [ 30.5517,   1.3895]]],\n",
       "\n",
       "\n",
       "        [[[  0.5576,   0.4039],\n",
       "          [-25.5301, -17.1863]],\n",
       "\n",
       "         [[ -5.2884, -15.2308],\n",
       "          [-20.9491,  -8.7257]]]])"
      ]
     },
     "execution_count": 23,
     "metadata": {},
     "output_type": "execute_result"
    }
   ],
   "source": [
    "groups[0]"
   ]
  },
  {
   "cell_type": "markdown",
   "metadata": {},
   "source": [
    "### Another test case where filtere are not divisible by the number of groups"
   ]
  },
  {
   "cell_type": "code",
   "execution_count": 283,
   "metadata": {},
   "outputs": [],
   "source": [
    "mock_filter_1 = torch.tensor([[1.0,2,1],[2,4,5],[6,7,8]])\n",
    "mock_filter_2 = torch.tensor([[1.0,6,7],[1,9,5],[4,7,8]])\n",
    "mock_filter_3 = torch.tensor([[1.0,3,1],[7,0,5],[9,7,0]])\n",
    "mock_filter_4 = torch.tensor([[3.0,2,4],[0,4,5],[1,7,0]])\n",
    "mock_filter_5 = torch.tensor([[3.0,2,4],[0,4,5],[1,7,0]])\n",
    "mock_filter_6 = torch.tensor([[3.0,2,5],[1,8,0],[2,5,8]])\n",
    "mock_filter_7 = torch.tensor([[4.0,6,9],[0,0,5],[1,3,7]])"
   ]
  },
  {
   "cell_type": "code",
   "execution_count": 285,
   "metadata": {},
   "outputs": [],
   "source": [
    "mock_filter_combined = torch.stack([mock_filter_1, mock_filter_2, mock_filter_3, mock_filter_4,mock_filter_5,\n",
    "                                   mock_filter_6, mock_filter_7]) "
   ]
  },
  {
   "cell_type": "code",
   "execution_count": 286,
   "metadata": {},
   "outputs": [
    {
     "data": {
      "text/plain": [
       "torch.Size([7, 2, 3, 3])"
      ]
     },
     "execution_count": 286,
     "metadata": {},
     "output_type": "execute_result"
    }
   ],
   "source": [
    "mock_filter_combined = torch.stack([mock_filter_combined, mock_filter_combined], dim=1)\n",
    "mock_filter_combined.shape"
   ]
  },
  {
   "cell_type": "code",
   "execution_count": 287,
   "metadata": {},
   "outputs": [],
   "source": [
    "inputs = torch.randn(2,2,4,4)"
   ]
  },
  {
   "cell_type": "code",
   "execution_count": 288,
   "metadata": {},
   "outputs": [
    {
     "data": {
      "text/plain": [
       "torch.Size([2, 7, 2, 2])"
      ]
     },
     "execution_count": 288,
     "metadata": {},
     "output_type": "execute_result"
    }
   ],
   "source": [
    "activations = F.conv2d(inputs,mock_filter_combined)\n",
    "activations.shape"
   ]
  },
  {
   "cell_type": "code",
   "execution_count": 276,
   "metadata": {},
   "outputs": [
    {
     "data": {
      "text/plain": [
       "tensor([[[[ 2.3622, -1.1286,  1.4443,  1.5417],\n",
       "          [ 0.5551,  0.1916,  0.8698, -0.7866],\n",
       "          [-0.2852, -1.0119, -0.8040,  1.5948],\n",
       "          [-0.4591,  0.5299,  0.0097,  0.1706]],\n",
       "\n",
       "         [[-0.7976, -0.2607, -0.3897,  0.2649],\n",
       "          [-0.7505, -1.4881, -1.4529,  0.5981],\n",
       "          [-0.3706,  1.8126,  0.8463, -0.2696],\n",
       "          [-1.1173,  0.5162,  0.2351, -0.2540]]],\n",
       "\n",
       "\n",
       "        [[[-0.8320, -0.5499,  0.2469,  1.2087],\n",
       "          [-0.7836, -0.1427, -0.4933, -0.0644],\n",
       "          [ 0.8549,  0.6271,  1.7209,  0.9265],\n",
       "          [-0.6241, -0.5344,  2.8096, -0.7579]],\n",
       "\n",
       "         [[-0.7587,  1.3482,  1.2846,  0.8260],\n",
       "          [ 0.1844,  2.2469, -0.0652,  1.3340],\n",
       "          [ 0.1579,  0.7577,  0.1223,  0.5710],\n",
       "          [ 0.5782,  0.0561,  1.0526, -0.4175]]]])"
      ]
     },
     "execution_count": 276,
     "metadata": {},
     "output_type": "execute_result"
    }
   ],
   "source": [
    "inputs"
   ]
  },
  {
   "cell_type": "code",
   "execution_count": 277,
   "metadata": {},
   "outputs": [
    {
     "data": {
      "text/plain": [
       "tensor([[[[ -6.6427,  12.3607],\n",
       "          [ -1.4465,  13.0683]],\n",
       "\n",
       "         [[-10.8479,  24.1984],\n",
       "          [ -2.3186,   6.9239]],\n",
       "\n",
       "         [[ -6.1294,   1.0663],\n",
       "          [-15.9124,  20.1248]],\n",
       "\n",
       "         [[  2.9815,   2.9900],\n",
       "          [  3.6491,   3.7449]],\n",
       "\n",
       "         [[  2.9815,   2.9900],\n",
       "          [  3.6491,   3.7449]]],\n",
       "\n",
       "\n",
       "        [[[ 36.4793,  47.4099],\n",
       "          [ 47.1064,  34.6501]],\n",
       "\n",
       "         [[ 57.9563,  58.0776],\n",
       "          [ 58.1759,  48.8213]],\n",
       "\n",
       "         [[ 14.1579,  53.8710],\n",
       "          [ 17.6990,  41.6117]],\n",
       "\n",
       "         [[ 19.2819,  31.9977],\n",
       "          [ 11.5384,  51.6920]],\n",
       "\n",
       "         [[ 19.2819,  31.9977],\n",
       "          [ 11.5384,  51.6920]]]])"
      ]
     },
     "execution_count": 277,
     "metadata": {},
     "output_type": "execute_result"
    }
   ],
   "source": [
    "activations"
   ]
  },
  {
   "cell_type": "code",
   "execution_count": 278,
   "metadata": {},
   "outputs": [
    {
     "data": {
      "text/plain": [
       "[tensor([[[[ -6.6427,  12.3607],\n",
       "           [ -1.4465,  13.0683]],\n",
       " \n",
       "          [[-10.8479,  24.1984],\n",
       "           [ -2.3186,   6.9239]]],\n",
       " \n",
       " \n",
       "         [[[ 36.4793,  47.4099],\n",
       "           [ 47.1064,  34.6501]],\n",
       " \n",
       "          [[ 57.9563,  58.0776],\n",
       "           [ 58.1759,  48.8213]]]]), tensor([[[[ -6.1294,   1.0663],\n",
       "           [-15.9124,  20.1248]],\n",
       " \n",
       "          [[  2.9815,   2.9900],\n",
       "           [  3.6491,   3.7449]]],\n",
       " \n",
       " \n",
       "         [[[ 14.1579,  53.8710],\n",
       "           [ 17.6990,  41.6117]],\n",
       " \n",
       "          [[ 19.2819,  31.9977],\n",
       "           [ 11.5384,  51.6920]]]]), tensor([[[[ 2.9815,  2.9900],\n",
       "           [ 3.6491,  3.7449]]],\n",
       " \n",
       " \n",
       "         [[[19.2819, 31.9977],\n",
       "           [11.5384, 51.6920]]]])]"
      ]
     },
     "execution_count": 278,
     "metadata": {},
     "output_type": "execute_result"
    }
   ],
   "source": [
    "groups = torch.split(activations, 2, dim=1)\n",
    "list(groups)"
   ]
  },
  {
   "cell_type": "code",
   "execution_count": 32,
   "metadata": {},
   "outputs": [],
   "source": [
    "groupwise_mean = [torch.mean(groups[i]) for i in range(0,2)]"
   ]
  },
  {
   "cell_type": "code",
   "execution_count": 33,
   "metadata": {},
   "outputs": [
    {
     "data": {
      "text/plain": [
       "[tensor(-5.7747), tensor(-5.1012)]"
      ]
     },
     "execution_count": 33,
     "metadata": {},
     "output_type": "execute_result"
    }
   ],
   "source": [
    "groupwise_mean"
   ]
  },
  {
   "cell_type": "code",
   "execution_count": 34,
   "metadata": {},
   "outputs": [
    {
     "data": {
      "text/plain": [
       "[tensor(9.2109), tensor(11.2790)]"
      ]
     },
     "execution_count": 34,
     "metadata": {},
     "output_type": "execute_result"
    }
   ],
   "source": [
    "groupwise_std = [torch.std(groups[i]) for i in range(0,2)]\n",
    "groupwise_std"
   ]
  },
  {
   "cell_type": "markdown",
   "metadata": {},
   "source": [
    "### Test channelwise receptive field calcualtions"
   ]
  },
  {
   "cell_type": "code",
   "execution_count": 35,
   "metadata": {},
   "outputs": [],
   "source": [
    "def calculate_receptive_field_layer_no_batch_norm(feature_maps, linear_map_param_1, \n",
    "                                                  linear_map_param_2):\n",
    "    number_of_maps = feature_maps[1]\n",
    "    std_map_wise = feature_maps.transpose(0,1).contiguous().view(number_of_maps, -1).std(1)\n",
    "    receptive_fields = feature_maps.transpose(1,3).div(std_map_wise).transpose(1,3)\n",
    "    receptive_fields = torch.sigmoid(linear_map_param_1 * receptive_fields + linear_map_param_2)\n",
    "    return receptive_fields"
   ]
  },
  {
   "cell_type": "code",
   "execution_count": 36,
   "metadata": {},
   "outputs": [
    {
     "ename": "TypeError",
     "evalue": "calculate_receptive_field_layer_no_batch_norm() missing 2 required positional arguments: 'linear_map_param_1' and 'linear_map_param_2'",
     "output_type": "error",
     "traceback": [
      "\u001b[0;31m---------------------------------------------------------------------------\u001b[0m",
      "\u001b[0;31mTypeError\u001b[0m                                 Traceback (most recent call last)",
      "\u001b[0;32m<ipython-input-36-755dd229b2d0>\u001b[0m in \u001b[0;36m<module>\u001b[0;34m\u001b[0m\n\u001b[0;32m----> 1\u001b[0;31m \u001b[0mcalculate_receptive_field_layer_no_batch_norm\u001b[0m\u001b[0;34m(\u001b[0m\u001b[0mactivations\u001b[0m\u001b[0;34m)\u001b[0m\u001b[0;34m\u001b[0m\u001b[0;34m\u001b[0m\u001b[0m\n\u001b[0m\u001b[1;32m      2\u001b[0m \u001b[0mprint\u001b[0m\u001b[0;34m(\u001b[0m\u001b[0mactivations\u001b[0m\u001b[0;34m.\u001b[0m\u001b[0mshape\u001b[0m\u001b[0;34m)\u001b[0m\u001b[0;34m\u001b[0m\u001b[0;34m\u001b[0m\u001b[0m\n",
      "\u001b[0;31mTypeError\u001b[0m: calculate_receptive_field_layer_no_batch_norm() missing 2 required positional arguments: 'linear_map_param_1' and 'linear_map_param_2'"
     ]
    }
   ],
   "source": [
    "calculate_receptive_field_layer_no_batch_norm(activations)\n",
    "print(activations.shape)"
   ]
  },
  {
   "cell_type": "code",
   "execution_count": 37,
   "metadata": {},
   "outputs": [
    {
     "name": "stdout",
     "output_type": "stream",
     "text": [
      "torch.Size([5, 2, 2, 2])\n"
     ]
    }
   ],
   "source": [
    "kk=activations.transpose(0,1)\n",
    "print(kk.shape)\n",
    "c =kk.contiguous().view(5, -1)"
   ]
  },
  {
   "cell_type": "code",
   "execution_count": 38,
   "metadata": {},
   "outputs": [
    {
     "data": {
      "text/plain": [
       "torch.Size([5, 8])"
      ]
     },
     "execution_count": 38,
     "metadata": {},
     "output_type": "execute_result"
    }
   ],
   "source": [
    "c.shape"
   ]
  },
  {
   "cell_type": "code",
   "execution_count": 39,
   "metadata": {},
   "outputs": [
    {
     "data": {
      "text/plain": [
       "tensor([ 5.8490, 11.3524, 12.9333, 10.2226, 10.2226])"
      ]
     },
     "execution_count": 39,
     "metadata": {},
     "output_type": "execute_result"
    }
   ],
   "source": [
    "B = torch.mean(c,1)\n",
    "c.std(1)"
   ]
  },
  {
   "cell_type": "code",
   "execution_count": 40,
   "metadata": {},
   "outputs": [
    {
     "name": "stdout",
     "output_type": "stream",
     "text": [
      "tensor([[[[  2.0685,   0.2549],\n",
      "          [ -6.9292,  -8.5334]],\n",
      "\n",
      "         [[ -0.4534, -15.2564],\n",
      "          [-17.1740, -25.8676]],\n",
      "\n",
      "         [[-15.4725,   6.7212],\n",
      "          [-10.5295, -13.0490]],\n",
      "\n",
      "         [[ -7.3777, -14.0625],\n",
      "          [-17.8959,  -1.4268]],\n",
      "\n",
      "         [[ -7.3777, -14.0625],\n",
      "          [-17.8959,  -1.4268]]],\n",
      "\n",
      "\n",
      "        [[[ -0.3115,   2.5259],\n",
      "          [  0.8470, -13.2290]],\n",
      "\n",
      "         [[  8.1133,  -7.0418],\n",
      "          [  2.0821, -13.4903]],\n",
      "\n",
      "         [[-16.0950,   6.6377],\n",
      "          [ 17.8532, -12.0492]],\n",
      "\n",
      "         [[ 15.8582,  -4.0069],\n",
      "          [ -6.1312, -10.5940]],\n",
      "\n",
      "         [[ 15.8582,  -4.0069],\n",
      "          [ -6.1312, -10.5940]]]])\n",
      "torch.Size([2, 5, 2, 2])\n"
     ]
    }
   ],
   "source": [
    "print(activations)\n",
    "print(activations.shape)"
   ]
  },
  {
   "cell_type": "code",
   "execution_count": 41,
   "metadata": {},
   "outputs": [
    {
     "name": "stdout",
     "output_type": "stream",
     "text": [
      "tensor([[[[  2.0685,  -0.4534, -15.4725,  -7.3777,  -7.3777],\n",
      "          [ -6.9292, -17.1740, -10.5295, -17.8959, -17.8959]],\n",
      "\n",
      "         [[  0.2549, -15.2564,   6.7212, -14.0625, -14.0625],\n",
      "          [ -8.5334, -25.8676, -13.0490,  -1.4268,  -1.4268]]],\n",
      "\n",
      "\n",
      "        [[[ -0.3115,   8.1133, -16.0950,  15.8582,  15.8582],\n",
      "          [  0.8470,   2.0821,  17.8532,  -6.1312,  -6.1312]],\n",
      "\n",
      "         [[  2.5259,  -7.0418,   6.6377,  -4.0069,  -4.0069],\n",
      "          [-13.2290, -13.4903, -12.0492, -10.5940, -10.5940]]]])\n",
      "torch.Size([2, 2, 2, 5])\n"
     ]
    },
    {
     "data": {
      "text/plain": [
       "tensor([[[[  20.6849,    2.5488],\n",
       "          [ -69.2920,  -85.3340]],\n",
       "\n",
       "         [[  -0.4534,  -15.2564],\n",
       "          [ -17.1740,  -25.8676]],\n",
       "\n",
       "         [[ -15.4725,    6.7212],\n",
       "          [ -10.5295,  -13.0490]],\n",
       "\n",
       "         [[  -7.3777,  -14.0625],\n",
       "          [ -17.8959,   -1.4268]],\n",
       "\n",
       "         [[  -7.3777,  -14.0625],\n",
       "          [ -17.8959,   -1.4268]]],\n",
       "\n",
       "\n",
       "        [[[  -3.1153,   25.2586],\n",
       "          [   8.4701, -132.2896]],\n",
       "\n",
       "         [[   8.1133,   -7.0418],\n",
       "          [   2.0821,  -13.4903]],\n",
       "\n",
       "         [[ -16.0950,    6.6377],\n",
       "          [  17.8532,  -12.0492]],\n",
       "\n",
       "         [[  15.8582,   -4.0069],\n",
       "          [  -6.1312,  -10.5940]],\n",
       "\n",
       "         [[  15.8582,   -4.0069],\n",
       "          [  -6.1312,  -10.5940]]]])"
      ]
     },
     "execution_count": 41,
     "metadata": {},
     "output_type": "execute_result"
    }
   ],
   "source": [
    "kk=activations.transpose(1,3)\n",
    "print(kk)\n",
    "print(kk.shape)\n",
    "activations.transpose(1,3).div(torch.Tensor([0.1,1,1,1,1])).transpose(1,3)"
   ]
  },
  {
   "cell_type": "code",
   "execution_count": 42,
   "metadata": {},
   "outputs": [
    {
     "name": "stdout",
     "output_type": "stream",
     "text": [
      "tensor([[[[  5.1370,   1.5098],\n",
      "          [-12.8584, -16.0668]],\n",
      "\n",
      "         [[  0.0933, -29.5128],\n",
      "          [-33.3480, -50.7352]],\n",
      "\n",
      "         [[-29.9450,  14.4424],\n",
      "          [-20.0589, -25.0981]],\n",
      "\n",
      "         [[-13.7555, -27.1251],\n",
      "          [-34.7918,  -1.8537]],\n",
      "\n",
      "         [[-13.7555, -27.1251],\n",
      "          [-34.7918,  -1.8537]]],\n",
      "\n",
      "\n",
      "        [[[  0.3769,   6.0517],\n",
      "          [  2.6940, -25.4579]],\n",
      "\n",
      "         [[ 17.2266, -13.0835],\n",
      "          [  5.1642, -25.9807]],\n",
      "\n",
      "         [[-31.1900,  14.2754],\n",
      "          [ 36.7064, -23.0984]],\n",
      "\n",
      "         [[ 32.7163,  -7.0137],\n",
      "          [-11.2623, -20.1880]],\n",
      "\n",
      "         [[ 32.7163,  -7.0137],\n",
      "          [-11.2623, -20.1880]]]])\n"
     ]
    }
   ],
   "source": [
    "receptive_fields = 2.0 * activations + 1.0\n",
    "print(receptive_fields)"
   ]
  },
  {
   "cell_type": "code",
   "execution_count": 43,
   "metadata": {},
   "outputs": [
    {
     "name": "stdout",
     "output_type": "stream",
     "text": [
      "tensor([[[[9.9416e-01, 8.1903e-01],\n",
      "          [2.6041e-06, 1.0526e-07]],\n",
      "\n",
      "         [[5.2330e-01, 1.5232e-13],\n",
      "          [3.2895e-15, 9.2467e-23]],\n",
      "\n",
      "         [[9.8865e-14, 1.0000e+00],\n",
      "          [1.9432e-09, 1.2591e-11]],\n",
      "\n",
      "         [[1.0619e-06, 1.6585e-12],\n",
      "          [7.7642e-16, 1.3544e-01]],\n",
      "\n",
      "         [[1.0619e-06, 1.6585e-12],\n",
      "          [7.7642e-16, 1.3544e-01]]],\n",
      "\n",
      "\n",
      "        [[[5.9314e-01, 9.9765e-01],\n",
      "          [9.3667e-01, 8.7855e-12]],\n",
      "\n",
      "         [[1.0000e+00, 2.0792e-06],\n",
      "          [9.9431e-01, 5.2087e-12]],\n",
      "\n",
      "         [[2.8469e-14, 1.0000e+00],\n",
      "          [1.0000e+00, 9.2998e-11]],\n",
      "\n",
      "         [[1.0000e+00, 8.9864e-04],\n",
      "          [1.2848e-05, 1.7079e-09]],\n",
      "\n",
      "         [[1.0000e+00, 8.9864e-04],\n",
      "          [1.2848e-05, 1.7079e-09]]]])\n"
     ]
    }
   ],
   "source": [
    "receptive_fields = torch.sigmoid(receptive_fields)\n",
    "print(receptive_fields)"
   ]
  },
  {
   "cell_type": "code",
   "execution_count": 44,
   "metadata": {},
   "outputs": [],
   "source": [
    "receptive_fields.shape\n",
    "receptive_fields= receptive_fields.transpose(1, 3).add(torch.Tensor([0.1,1,1,1,2])).transpose(1,3)"
   ]
  },
  {
   "cell_type": "code",
   "execution_count": 45,
   "metadata": {},
   "outputs": [
    {
     "name": "stdout",
     "output_type": "stream",
     "text": [
      "tensor([[[[1.0942, 0.9190],\n",
      "          [0.1000, 0.1000]],\n",
      "\n",
      "         [[1.5233, 1.0000],\n",
      "          [1.0000, 1.0000]],\n",
      "\n",
      "         [[1.0000, 2.0000],\n",
      "          [1.0000, 1.0000]],\n",
      "\n",
      "         [[1.0000, 1.0000],\n",
      "          [1.0000, 1.1354]],\n",
      "\n",
      "         [[2.0000, 2.0000],\n",
      "          [2.0000, 2.1354]]],\n",
      "\n",
      "\n",
      "        [[[0.6931, 1.0977],\n",
      "          [1.0367, 0.1000]],\n",
      "\n",
      "         [[2.0000, 1.0000],\n",
      "          [1.9943, 1.0000]],\n",
      "\n",
      "         [[1.0000, 2.0000],\n",
      "          [2.0000, 1.0000]],\n",
      "\n",
      "         [[2.0000, 1.0009],\n",
      "          [1.0000, 1.0000]],\n",
      "\n",
      "         [[3.0000, 2.0009],\n",
      "          [2.0000, 2.0000]]]])\n"
     ]
    }
   ],
   "source": [
    "print(receptive_fields)"
   ]
  },
  {
   "cell_type": "code",
   "execution_count": 46,
   "metadata": {},
   "outputs": [
    {
     "name": "stdout",
     "output_type": "stream",
     "text": [
      "torch.Size([2, 5, 2, 2])\n"
     ]
    }
   ],
   "source": [
    "print(receptive_fields.shape)"
   ]
  },
  {
   "cell_type": "code",
   "execution_count": 47,
   "metadata": {},
   "outputs": [
    {
     "name": "stdout",
     "output_type": "stream",
     "text": [
      "[tensor([[[[  2.0685,   0.2549],\n",
      "          [ -6.9292,  -8.5334]],\n",
      "\n",
      "         [[ -0.4534, -15.2564],\n",
      "          [-17.1740, -25.8676]]],\n",
      "\n",
      "\n",
      "        [[[ -0.3115,   2.5259],\n",
      "          [  0.8470, -13.2290]],\n",
      "\n",
      "         [[  8.1133,  -7.0418],\n",
      "          [  2.0821, -13.4903]]]]), tensor([[[[-15.4725,   6.7212],\n",
      "          [-10.5295, -13.0490]],\n",
      "\n",
      "         [[ -7.3777, -14.0625],\n",
      "          [-17.8959,  -1.4268]]],\n",
      "\n",
      "\n",
      "        [[[-16.0950,   6.6377],\n",
      "          [ 17.8532, -12.0492]],\n",
      "\n",
      "         [[ 15.8582,  -4.0069],\n",
      "          [ -6.1312, -10.5940]]]]), tensor([[[[ -7.3777, -14.0625],\n",
      "          [-17.8959,  -1.4268]]],\n",
      "\n",
      "\n",
      "        [[[ 15.8582,  -4.0069],\n",
      "          [ -6.1312, -10.5940]]]])]\n"
     ]
    }
   ],
   "source": [
    "groups = torch.split(activations, 2, dim=1)\n",
    "groups = list(groups)\n",
    "print(groups)"
   ]
  },
  {
   "cell_type": "markdown",
   "metadata": {},
   "source": [
    "### Test regularizer on activations in layer"
   ]
  },
  {
   "cell_type": "markdown",
   "metadata": {},
   "source": [
    "#### calculate the numerator"
   ]
  },
  {
   "cell_type": "code",
   "execution_count": 48,
   "metadata": {},
   "outputs": [
    {
     "name": "stdout",
     "output_type": "stream",
     "text": [
      "torch.Size([2, 2, 2, 2])\n",
      "tensor([[[[  2.0685,   0.2549],\n",
      "          [ -6.9292,  -8.5334]],\n",
      "\n",
      "         [[ -0.4534, -15.2564],\n",
      "          [-17.1740, -25.8676]]],\n",
      "\n",
      "\n",
      "        [[[ -0.3115,   2.5259],\n",
      "          [  0.8470, -13.2290]],\n",
      "\n",
      "         [[  8.1133,  -7.0418],\n",
      "          [  2.0821, -13.4903]]]])\n"
     ]
    }
   ],
   "source": [
    "print(groups[0].shape)\n",
    "print(groups[0])"
   ]
  },
  {
   "cell_type": "code",
   "execution_count": 49,
   "metadata": {},
   "outputs": [
    {
     "name": "stdout",
     "output_type": "stream",
     "text": [
      "torch.Size([2, 2, 2, 2])\n"
     ]
    }
   ],
   "source": [
    "difference_tensor = torch.sub(groups[0], groups[0][0][0])\n",
    "difference_tensor_2 = torch.sub(groups[1], groups[1][0][0])\n",
    "print(difference_tensor.shape)"
   ]
  },
  {
   "cell_type": "code",
   "execution_count": 50,
   "metadata": {},
   "outputs": [
    {
     "name": "stdout",
     "output_type": "stream",
     "text": [
      "tensor(90.0446)\n",
      "tensor(126.8677)\n"
     ]
    }
   ],
   "source": [
    "print(difference_tensor.norm(1))\n",
    "print(difference_tensor_2.norm(1))\n"
   ]
  },
  {
   "cell_type": "code",
   "execution_count": 51,
   "metadata": {},
   "outputs": [
    {
     "data": {
      "text/plain": [
       "tensor([[[[  0.0000,   0.0000],\n",
       "          [  0.0000,   0.0000]],\n",
       "\n",
       "         [[ -2.5219, -15.5113],\n",
       "          [-10.2448, -17.3342]]],\n",
       "\n",
       "\n",
       "        [[[ -2.3800,   2.2710],\n",
       "          [  7.7762,  -4.6956]],\n",
       "\n",
       "         [[  6.0448,  -7.2967],\n",
       "          [  9.0113,  -4.9569]]]])"
      ]
     },
     "execution_count": 51,
     "metadata": {},
     "output_type": "execute_result"
    }
   ],
   "source": [
    "difference_tensor"
   ]
  },
  {
   "cell_type": "code",
   "execution_count": 52,
   "metadata": {},
   "outputs": [
    {
     "name": "stdout",
     "output_type": "stream",
     "text": [
      "tensor([[[  0.0000,   0.0000],\n",
      "         [  0.0000,   0.0000]],\n",
      "\n",
      "        [[ -2.5219, -15.5113],\n",
      "         [-10.2448, -17.3342]]])\n",
      "tensor([[[ 0.0000,  0.0000],\n",
      "         [ 0.0000,  0.0000]],\n",
      "\n",
      "        [[ 8.4248, -9.5676],\n",
      "         [ 1.2351, -0.2614]]])\n",
      "tensor([[[  0.0000,   0.0000],\n",
      "         [  0.0000,   0.0000]],\n",
      "\n",
      "        [[  8.0948, -20.7838],\n",
      "         [ -7.3665,  11.6222]]])\n",
      "tensor([[[  0.0000,   0.0000],\n",
      "         [  0.0000,   0.0000]],\n",
      "\n",
      "        [[ 31.9531, -10.6446],\n",
      "         [-23.9843,   1.4552]]])\n"
     ]
    }
   ],
   "source": [
    "input = torch.empty(2)\n",
    "l1_norms = torch.zeros_like(input)\n",
    "batch_size = 2\n",
    "for i in range(0, 2):\n",
    "    current_group = groups[i]\n",
    "    norm = torch.zeros(1)\n",
    "    \n",
    "    for j in range(0, 2):\n",
    "        difference_tensor = torch.sub(current_group[j], current_group[j][0])\n",
    "        print(difference_tensor)\n",
    "        norm = norm  + difference_tensor.norm(1)\n",
    "    \n",
    "    #difference_tensor = torch.sub(current_group, current_group[0][0])\n",
    "    l1_norms[i] = norm"
   ]
  },
  {
   "cell_type": "code",
   "execution_count": 53,
   "metadata": {},
   "outputs": [
    {
     "data": {
      "text/plain": [
       "tensor([ 65.1011, 115.9045])"
      ]
     },
     "execution_count": 53,
     "metadata": {},
     "output_type": "execute_result"
    }
   ],
   "source": [
    "l1_norms"
   ]
  },
  {
   "cell_type": "code",
   "execution_count": 54,
   "metadata": {},
   "outputs": [
    {
     "data": {
      "text/plain": [
       "tensor([[[[-15.4725,   6.7212],\n",
       "          [-10.5295, -13.0490]],\n",
       "\n",
       "         [[ -7.3777, -14.0625],\n",
       "          [-17.8959,  -1.4268]]],\n",
       "\n",
       "\n",
       "        [[[-16.0950,   6.6377],\n",
       "          [ 17.8532, -12.0492]],\n",
       "\n",
       "         [[ 15.8582,  -4.0069],\n",
       "          [ -6.1312, -10.5940]]]])"
      ]
     },
     "execution_count": 54,
     "metadata": {},
     "output_type": "execute_result"
    }
   ],
   "source": [
    "current_group"
   ]
  },
  {
   "cell_type": "code",
   "execution_count": 55,
   "metadata": {},
   "outputs": [
    {
     "data": {
      "text/plain": [
       "torch.Size([2, 2])"
      ]
     },
     "execution_count": 55,
     "metadata": {},
     "output_type": "execute_result"
    }
   ],
   "source": [
    "current_group[0][0].shape"
   ]
  },
  {
   "cell_type": "code",
   "execution_count": 56,
   "metadata": {},
   "outputs": [
    {
     "data": {
      "text/plain": [
       "tensor([[[  0.0000,   0.0000],\n",
       "         [  0.0000,   0.0000]],\n",
       "\n",
       "        [[ 31.9531, -10.6446],\n",
       "         [-23.9843,   1.4552]]])"
      ]
     },
     "execution_count": 56,
     "metadata": {},
     "output_type": "execute_result"
    }
   ],
   "source": [
    "difference_tensor"
   ]
  },
  {
   "cell_type": "markdown",
   "metadata": {},
   "source": [
    "### calculate with denominator"
   ]
  },
  {
   "cell_type": "code",
   "execution_count": 57,
   "metadata": {},
   "outputs": [
    {
     "name": "stdout",
     "output_type": "stream",
     "text": [
      "torch.Size([2, 2, 2, 2])\n",
      "[tensor([[[[  2.0685,   0.2549],\n",
      "          [ -6.9292,  -8.5334]],\n",
      "\n",
      "         [[ -0.4534, -15.2564],\n",
      "          [-17.1740, -25.8676]]],\n",
      "\n",
      "\n",
      "        [[[ -0.3115,   2.5259],\n",
      "          [  0.8470, -13.2290]],\n",
      "\n",
      "         [[  8.1133,  -7.0418],\n",
      "          [  2.0821, -13.4903]]]]), tensor([[[[-15.4725,   6.7212],\n",
      "          [-10.5295, -13.0490]],\n",
      "\n",
      "         [[ -7.3777, -14.0625],\n",
      "          [-17.8959,  -1.4268]]],\n",
      "\n",
      "\n",
      "        [[[-16.0950,   6.6377],\n",
      "          [ 17.8532, -12.0492]],\n",
      "\n",
      "         [[ 15.8582,  -4.0069],\n",
      "          [ -6.1312, -10.5940]]]]), tensor([[[[ -7.3777, -14.0625],\n",
      "          [-17.8959,  -1.4268]]],\n",
      "\n",
      "\n",
      "        [[[ 15.8582,  -4.0069],\n",
      "          [ -6.1312, -10.5940]]]])]\n"
     ]
    }
   ],
   "source": [
    "print(groups[0].shape)\n",
    "print(groups)"
   ]
  },
  {
   "cell_type": "code",
   "execution_count": 58,
   "metadata": {},
   "outputs": [
    {
     "name": "stdout",
     "output_type": "stream",
     "text": [
      "torch.Size([2, 2, 2])\n",
      "tensor([[  0.0000,   0.0000,   0.0000,   0.0000],\n",
      "        [ -2.5219, -15.5113, -10.2448, -17.3342]])\n",
      "torch.Size([2, 2, 2])\n",
      "tensor([[ 0.0000,  0.0000,  0.0000,  0.0000],\n",
      "        [ 8.4248, -9.5676,  1.2351, -0.2614]])\n",
      "torch.Size([2, 2, 2])\n",
      "tensor([[  0.0000,   0.0000,   0.0000,   0.0000],\n",
      "        [  8.0948, -20.7838,  -7.3665,  11.6222]])\n",
      "torch.Size([2, 2, 2])\n",
      "tensor([[  0.0000,   0.0000,   0.0000,   0.0000],\n",
      "        [ 31.9531, -10.6446, -23.9843,   1.4552]])\n"
     ]
    }
   ],
   "source": [
    "input = torch.empty(2)\n",
    "l1_norms = torch.zeros_like(input)\n",
    "for i in range(0, 2):\n",
    "    current_group = groups[i]\n",
    "    # print(current_group.size())\n",
    "    current_norm = torch.zeros(1)\n",
    "    for j in range(0, 2):\n",
    "        current_map_set = current_group[j]  \n",
    "        print(current_map_set.shape)\n",
    "        num = current_group.size(0)\n",
    "        # print(num)\n",
    "        sub_tensor = current_map_set.contiguous().view(num, -1)\n",
    "        # print(sub_tensor.shape)\n",
    "        sub_tensor_2 = current_map_set[0].view(-1,4)\n",
    "        # print(sub_tensor_2.shape)\n",
    "        difference_tensor = torch.sub(sub_tensor, sub_tensor_2)\n",
    "        print(difference_tensor)\n",
    "        num_tensor = difference_tensor.norm(1, dim=1)\n",
    "        denom_tensor = torch.add(sub_tensor.norm(1, dim=1), sub_tensor_2.norm(1))\n",
    "        value_tensor = torch.div(num_tensor, denom_tensor).norm(1)\n",
    "        current_norm = current_norm + value_tensor\n",
    "    l1_norms[i] = current_norm"
   ]
  },
  {
   "cell_type": "code",
   "execution_count": 329,
   "metadata": {},
   "outputs": [
    {
     "name": "stdout",
     "output_type": "stream",
     "text": [
      "tensor([[ -2.1858,  15.0800,   2.3872,   5.5270],\n",
      "        [ -9.8022, -21.1512,   4.7308,   0.5443]])\n",
      "tensor([[0., 0., 0., 0.],\n",
      "        [0., 0., 0., 0.]])\n",
      "tensor([0.3390, 0.0000], device='cuda:0')\n"
     ]
    }
   ],
   "source": [
    "import random\n",
    "number_of_groups = 2\n",
    "maps_per_group = int(len(activations[1]) / number_of_groups)\n",
    "activation_groups = torch.split(activations, maps_per_group, dim=1)\n",
    "activation_groups = list(activation_groups)\n",
    "input = torch.empty(2)\n",
    "groupwise_activation_norms = torch.zeros_like(input).cuda()\n",
    "num_random_pairs = 2\n",
    "\n",
    "for i in range(0, 2):\n",
    "    current_group = activation_groups[i]\n",
    "    batch_size = current_group.shape[0]\n",
    "    num_of_filters = current_group.shape[1]\n",
    "    random_map_indices = random.sample(range(0, num_of_filters), num_random_pairs)\n",
    "    random_map_indices = torch.LongTensor(random_map_indices)\n",
    "    selected_pairs = torch.index_select(current_group, 1, random_map_indices)\n",
    "    selected_pair_groups = torch.split(selected_pairs, num_random_pairs//2, dim=1)\n",
    "    selected_pair_groups = list(selected_pair_groups)\n",
    "    difference_tensor = torch.sub(selected_pair_groups[0], selected_pair_groups[1])\n",
    "    difference_tensor = difference_tensor.contiguous().view(-1,\n",
    "                                                            difference_tensor.shape[2] *\n",
    "                                                            difference_tensor.shape[3])\n",
    "    print(difference_tensor)\n",
    "    num_tensor_norm = difference_tensor.norm(1, dim=1)\n",
    "    selected_pair_groups[0] = selected_pair_groups[0].view(-1,\n",
    "                                                       selected_pair_groups[0].shape[2]*\n",
    "                                                       selected_pair_groups[0].shape[3])\n",
    "    selected_pair_groups[1] = selected_pair_groups[1].view(-1,\n",
    "                                                       selected_pair_groups[1].shape[2]*\n",
    "                                                       selected_pair_groups[1].shape[3])\n",
    "    \n",
    "    denom_tensor_norm = torch.add(selected_pair_groups[0].norm(1, dim=1),\n",
    "                             selected_pair_groups[1].norm(1, dim=1))\n",
    "    \n",
    "    denom_tensor_norm = torch.add(denom_tensor_norm, num_tensor_norm)\n",
    "    iou_map_wise = torch.div(2 * num_tensor_norm, denom_tensor_norm)\n",
    "    iou_map_wise = torch.div(iou_map_wise, num_random_pairs)\n",
    "    groupwise_activation_norms[i] = torch.div(iou_map_wise.norm(1), batch_size)\n",
    "    \n",
    "print(groupwise_activation_norms)\n"
   ]
  },
  {
   "cell_type": "code",
   "execution_count": 59,
   "metadata": {},
   "outputs": [
    {
     "name": "stdout",
     "output_type": "stream",
     "text": [
      "tensor([[-16.0950,   6.6377,  17.8532, -12.0492],\n",
      "        [ 15.8582,  -4.0069,  -6.1312, -10.5940]])\n"
     ]
    }
   ],
   "source": [
    "print(sub_tensor)"
   ]
  },
  {
   "cell_type": "code",
   "execution_count": 60,
   "metadata": {},
   "outputs": [
    {
     "name": "stdout",
     "output_type": "stream",
     "text": [
      "tensor([105.2702,  89.2253])\n"
     ]
    }
   ],
   "source": [
    "print(denom_tensor)"
   ]
  },
  {
   "cell_type": "code",
   "execution_count": 61,
   "metadata": {},
   "outputs": [
    {
     "name": "stdout",
     "output_type": "stream",
     "text": [
      "tensor([ 0.0000, 68.0373])\n"
     ]
    }
   ],
   "source": [
    "print(num_tensor)"
   ]
  },
  {
   "cell_type": "code",
   "execution_count": 62,
   "metadata": {},
   "outputs": [
    {
     "data": {
      "text/plain": [
       "tensor([1.0050, 1.3157])"
      ]
     },
     "execution_count": 62,
     "metadata": {},
     "output_type": "execute_result"
    }
   ],
   "source": [
    "l1_norms"
   ]
  },
  {
   "cell_type": "code",
   "execution_count": 63,
   "metadata": {},
   "outputs": [
    {
     "data": {
      "text/plain": [
       "tensor([1.0050, 1.3157])"
      ]
     },
     "execution_count": 63,
     "metadata": {},
     "output_type": "execute_result"
    }
   ],
   "source": [
    "l1_norms"
   ]
  },
  {
   "cell_type": "code",
   "execution_count": 64,
   "metadata": {},
   "outputs": [
    {
     "data": {
      "text/plain": [
       "tensor([[  0.0000,   0.0000,   0.0000,   0.0000],\n",
       "        [ 31.9531, -10.6446, -23.9843,   1.4552]])"
      ]
     },
     "execution_count": 64,
     "metadata": {},
     "output_type": "execute_result"
    }
   ],
   "source": [
    "difference_tensor"
   ]
  },
  {
   "cell_type": "code",
   "execution_count": 65,
   "metadata": {},
   "outputs": [
    {
     "data": {
      "text/plain": [
       "tensor([ 0.0000, 68.0373])"
      ]
     },
     "execution_count": 65,
     "metadata": {},
     "output_type": "execute_result"
    }
   ],
   "source": [
    "difference_tensor.norm(1, dim=1)"
   ]
  },
  {
   "cell_type": "markdown",
   "metadata": {},
   "source": [
    "### Activation regularizer across a pair of layer"
   ]
  },
  {
   "cell_type": "code",
   "execution_count": 67,
   "metadata": {},
   "outputs": [
    {
     "data": {
      "text/plain": [
       "torch.Size([2, 5, 3, 3])"
      ]
     },
     "execution_count": 67,
     "metadata": {},
     "output_type": "execute_result"
    }
   ],
   "source": [
    "# our first set of activations are : <activations>\n",
    "#create second set of activations\n",
    "inputs = torch.randn(2,2,5,5)\n",
    "activations_set2 = F.conv2d(inputs,mock_filter_combined)\n",
    "activations_set2.shape"
   ]
  },
  {
   "cell_type": "code",
   "execution_count": 68,
   "metadata": {},
   "outputs": [
    {
     "name": "stdout",
     "output_type": "stream",
     "text": [
      "torch.Size([2, 5, 2, 2])\n"
     ]
    }
   ],
   "source": [
    "print(activations.shape)"
   ]
  },
  {
   "cell_type": "code",
   "execution_count": 69,
   "metadata": {},
   "outputs": [],
   "source": [
    "maps_per_group = int(len(activations_set2[1]) / 2)\n",
    "#print(maps_per_group)\n",
    "activation_groups = torch.split(activations_set2, 2, dim=1)\n",
    "activation_groups = list(activation_groups)"
   ]
  },
  {
   "cell_type": "code",
   "execution_count": 70,
   "metadata": {},
   "outputs": [
    {
     "data": {
      "text/plain": [
       "[tensor([[[[ -4.5527, -18.1321,  16.7374],\n",
       "           [-28.2286, -23.0370,  -6.3070],\n",
       "           [-24.6740, -32.5130, -16.3835]],\n",
       " \n",
       "          [[-19.3668, -18.4149,  25.9876],\n",
       "           [-19.5884, -31.2367,  -0.7901],\n",
       "           [-19.3203, -58.2871,   0.1974]]],\n",
       " \n",
       " \n",
       "         [[[ -0.3672, -20.0485, -32.0842],\n",
       "           [ 19.9001,  -1.1771, -26.2464],\n",
       "           [ 15.1241,   2.3370,  -9.4676]],\n",
       " \n",
       "          [[ 11.1805,   6.6425, -32.4661],\n",
       "           [ 32.9930,  -5.7652, -47.9725],\n",
       "           [ 22.8655, -16.8197, -35.0720]]]]),\n",
       " tensor([[[[-12.7268,  -1.2030,   2.4297],\n",
       "           [ -5.9311, -26.6071, -16.3488],\n",
       "           [-33.3784,   3.0060, -41.1298]],\n",
       " \n",
       "          [[-14.2059,  -4.0345,  -8.9748],\n",
       "           [  6.9010, -30.6611,  11.7742],\n",
       "           [-20.9535, -16.3840,  -4.6613]]],\n",
       " \n",
       " \n",
       "         [[[ -4.1640,   0.6039,  -7.7638],\n",
       "           [ 12.7781,  13.2537, -11.0101],\n",
       "           [ -0.2555,  11.8302,  -3.2664]],\n",
       " \n",
       "          [[ 14.4106,   8.2022, -20.8819],\n",
       "           [ 21.5114,  -9.3410, -20.3266],\n",
       "           [  3.0711,  -8.0774, -18.7296]]]]),\n",
       " tensor([[[[-14.2059,  -4.0345,  -8.9748],\n",
       "           [  6.9010, -30.6611,  11.7742],\n",
       "           [-20.9535, -16.3840,  -4.6613]]],\n",
       " \n",
       " \n",
       "         [[[ 14.4106,   8.2022, -20.8819],\n",
       "           [ 21.5114,  -9.3410, -20.3266],\n",
       "           [  3.0711,  -8.0774, -18.7296]]]])]"
      ]
     },
     "execution_count": 70,
     "metadata": {},
     "output_type": "execute_result"
    }
   ],
   "source": [
    "activation_groups"
   ]
  },
  {
   "cell_type": "code",
   "execution_count": 71,
   "metadata": {},
   "outputs": [],
   "source": [
    "maps_per_group = int(len(activations[1]) / 2)\n",
    "#print(maps_per_group)\n",
    "activation_groups_layer_1 = torch.split(activations, 2, dim=1)\n",
    "activation_groups_layer_1 = list(activation_groups_layer_1)"
   ]
  },
  {
   "cell_type": "code",
   "execution_count": 72,
   "metadata": {},
   "outputs": [
    {
     "data": {
      "text/plain": [
       "[tensor([[[[ -1.4883,   1.5331],\n",
       "           [  1.3515, -14.5159]],\n",
       " \n",
       "          [[  3.7410,   9.9899],\n",
       "           [ -2.9278,  -4.1096]]],\n",
       " \n",
       " \n",
       "         [[[-20.0256, -27.7341],\n",
       "           [  4.4577,  -2.9896]],\n",
       " \n",
       "          [[-19.3353,  -2.7643],\n",
       "           [ -0.1280,  -1.9527]]]]), tensor([[[[-28.9301,   4.9425],\n",
       "           [ -3.6189,   0.0523]],\n",
       " \n",
       "          [[-13.0393,  27.1812],\n",
       "           [ 18.0646,  -0.0906]]],\n",
       " \n",
       " \n",
       "         [[[ -7.0356, -22.2357],\n",
       "           [  1.2545,  -6.3595]],\n",
       " \n",
       "          [[-10.5295,   0.4721],\n",
       "           [ -0.5041,  -0.1237]]]]), tensor([[[[-13.0393,  27.1812],\n",
       "           [ 18.0646,  -0.0906]]],\n",
       " \n",
       " \n",
       "         [[[-10.5295,   0.4721],\n",
       "           [ -0.5041,  -0.1237]]]])]"
      ]
     },
     "execution_count": 72,
     "metadata": {},
     "output_type": "execute_result"
    }
   ],
   "source": [
    "activation_groups_layer_1"
   ]
  },
  {
   "cell_type": "code",
   "execution_count": 73,
   "metadata": {},
   "outputs": [],
   "source": [
    "input = torch.empty(2)\n",
    "groupwise_activation_norms = torch.zeros_like(input)"
   ]
  },
  {
   "cell_type": "code",
   "execution_count": 74,
   "metadata": {},
   "outputs": [
    {
     "ename": "RuntimeError",
     "evalue": "The size of tensor a (9) must match the size of tensor b (4) at non-singleton dimension 1",
     "output_type": "error",
     "traceback": [
      "\u001b[0;31m---------------------------------------------------------------------------\u001b[0m",
      "\u001b[0;31mRuntimeError\u001b[0m                              Traceback (most recent call last)",
      "\u001b[0;32m<ipython-input-74-f81e235d874b>\u001b[0m in \u001b[0;36m<module>\u001b[0;34m\u001b[0m\n\u001b[1;32m     10\u001b[0m     \u001b[0mfirst_map_row_view\u001b[0m \u001b[0;34m=\u001b[0m  \u001b[0mcurrent_group_layer_1\u001b[0m\u001b[0;34m[\u001b[0m\u001b[0;36m0\u001b[0m\u001b[0;34m]\u001b[0m\u001b[0;34m[\u001b[0m\u001b[0;36m0\u001b[0m\u001b[0;34m]\u001b[0m\u001b[0;34m.\u001b[0m\u001b[0mview\u001b[0m\u001b[0;34m(\u001b[0m\u001b[0;34m-\u001b[0m\u001b[0;36m1\u001b[0m\u001b[0;34m,\u001b[0m \u001b[0msize_of_map_layer_1\u001b[0m\u001b[0;34m)\u001b[0m  \u001b[0;31m# shape: 1 X (Height * Width)\u001b[0m\u001b[0;34m\u001b[0m\u001b[0;34m\u001b[0m\u001b[0m\n\u001b[1;32m     11\u001b[0m \u001b[0;34m\u001b[0m\u001b[0m\n\u001b[0;32m---> 12\u001b[0;31m     \u001b[0mdifference_tensor\u001b[0m \u001b[0;34m=\u001b[0m \u001b[0mtorch\u001b[0m\u001b[0;34m.\u001b[0m\u001b[0msub\u001b[0m\u001b[0;34m(\u001b[0m\u001b[0mmap_per_row_view\u001b[0m\u001b[0;34m,\u001b[0m \u001b[0mfirst_map_row_view\u001b[0m\u001b[0;34m)\u001b[0m\u001b[0;34m\u001b[0m\u001b[0;34m\u001b[0m\u001b[0m\n\u001b[0m\u001b[1;32m     13\u001b[0m     \u001b[0mnumerator_tensor\u001b[0m \u001b[0;34m=\u001b[0m \u001b[0mdifference_tensor\u001b[0m\u001b[0;34m.\u001b[0m\u001b[0mnorm\u001b[0m\u001b[0;34m(\u001b[0m\u001b[0;36m1\u001b[0m\u001b[0;34m,\u001b[0m \u001b[0mdim\u001b[0m\u001b[0;34m=\u001b[0m\u001b[0;36m1\u001b[0m\u001b[0;34m)\u001b[0m\u001b[0;34m\u001b[0m\u001b[0;34m\u001b[0m\u001b[0m\n\u001b[1;32m     14\u001b[0m     \u001b[0mdenominator_tensor\u001b[0m \u001b[0;34m=\u001b[0m \u001b[0mtorch\u001b[0m\u001b[0;34m.\u001b[0m\u001b[0madd\u001b[0m\u001b[0;34m(\u001b[0m\u001b[0mmap_per_row_view\u001b[0m\u001b[0;34m.\u001b[0m\u001b[0mnorm\u001b[0m\u001b[0;34m(\u001b[0m\u001b[0;36m1\u001b[0m\u001b[0;34m,\u001b[0m \u001b[0mdim\u001b[0m\u001b[0;34m=\u001b[0m\u001b[0;36m1\u001b[0m\u001b[0;34m)\u001b[0m\u001b[0;34m,\u001b[0m \u001b[0mfirst_map_row_view\u001b[0m\u001b[0;34m.\u001b[0m\u001b[0mnorm\u001b[0m\u001b[0;34m(\u001b[0m\u001b[0;36m1\u001b[0m\u001b[0;34m)\u001b[0m\u001b[0;34m)\u001b[0m\u001b[0;34m\u001b[0m\u001b[0;34m\u001b[0m\u001b[0m\n",
      "\u001b[0;31mRuntimeError\u001b[0m: The size of tensor a (9) must match the size of tensor b (4) at non-singleton dimension 1"
     ]
    }
   ],
   "source": [
    "for i in range(0, 2):\n",
    "    current_group = activation_groups[i]\n",
    "    current_group_layer_1 = activation_groups_layer_1[i]\n",
    "    \n",
    "    num = current_group.size(0) * current_group.size(1)\n",
    "    size_of_map = current_group.size(2) * current_group.size(3)\n",
    "    size_of_map_layer_1 = current_group_layer_1.size(2) * current_group_layer_1.size(3)\n",
    "    \n",
    "    map_per_row_view = current_group.contiguous().view(num, -1)       # shape: (Batches*Channels) X (Height * Width)\n",
    "    first_map_row_view =  current_group_layer_1[0][0].view(-1, size_of_map_layer_1)  # shape: 1 X (Height * Width)\n",
    "    \n",
    "    difference_tensor = torch.sub(map_per_row_view, first_map_row_view)\n",
    "    numerator_tensor = difference_tensor.norm(1, dim=1)\n",
    "    denominator_tensor = torch.add(map_per_row_view.norm(1, dim=1), first_map_row_view.norm(1))\n",
    "    groupwise_activation_norms[i] = torch.div(numerator_tensor, denominator_tensor).sum()"
   ]
  },
  {
   "cell_type": "code",
   "execution_count": 75,
   "metadata": {},
   "outputs": [
    {
     "data": {
      "text/plain": [
       "torch.Size([2, 2, 3, 3])"
      ]
     },
     "execution_count": 75,
     "metadata": {},
     "output_type": "execute_result"
    }
   ],
   "source": [
    "activation_groups[i].shape"
   ]
  },
  {
   "cell_type": "code",
   "execution_count": 76,
   "metadata": {},
   "outputs": [
    {
     "data": {
      "text/plain": [
       "torch.Size([2, 2, 2, 2])"
      ]
     },
     "execution_count": 76,
     "metadata": {},
     "output_type": "execute_result"
    }
   ],
   "source": [
    "activation_groups_layer_1[i].shape"
   ]
  },
  {
   "cell_type": "code",
   "execution_count": 77,
   "metadata": {},
   "outputs": [
    {
     "data": {
      "text/plain": [
       "tensor([[[ -1.4883,   1.5331],\n",
       "         [  1.3515, -14.5159]]])"
      ]
     },
     "execution_count": 77,
     "metadata": {},
     "output_type": "execute_result"
    }
   ],
   "source": [
    "activation_groups_layer_1[i][0][0].unsqueeze(0)"
   ]
  },
  {
   "cell_type": "markdown",
   "metadata": {},
   "source": [
    "### Applying the activation norm across the whole batch now"
   ]
  },
  {
   "cell_type": "code",
   "execution_count": 242,
   "metadata": {},
   "outputs": [
    {
     "data": {
      "text/plain": [
       "torch.Size([3, 5, 3, 3])"
      ]
     },
     "execution_count": 242,
     "metadata": {},
     "output_type": "execute_result"
    }
   ],
   "source": [
    "inputs = torch.randn(3,2,5,5)\n",
    "activations = F.conv2d(inputs,mock_filter_combined)\n",
    "activations.shape"
   ]
  },
  {
   "cell_type": "code",
   "execution_count": 243,
   "metadata": {},
   "outputs": [
    {
     "data": {
      "text/plain": [
       "torch.Size([5, 2, 3, 3])"
      ]
     },
     "execution_count": 243,
     "metadata": {},
     "output_type": "execute_result"
    }
   ],
   "source": [
    "mock_filter_combined.shape"
   ]
  },
  {
   "cell_type": "code",
   "execution_count": 244,
   "metadata": {},
   "outputs": [
    {
     "name": "stdout",
     "output_type": "stream",
     "text": [
      "2\n"
     ]
    }
   ],
   "source": [
    "maps_per_group = int(len(activations[1]) / 2)\n",
    "print(maps_per_group)\n",
    "activation_groups = torch.split(activations, 2, dim=1)\n",
    "activation_groups = list(activation_groups)"
   ]
  },
  {
   "cell_type": "code",
   "execution_count": 245,
   "metadata": {},
   "outputs": [
    {
     "name": "stdout",
     "output_type": "stream",
     "text": [
      "3\n",
      "torch.Size([3, 2, 3, 3])\n",
      "torch.Size([3, 2, 3, 3])\n",
      "torch.Size([3, 1, 3, 3])\n"
     ]
    }
   ],
   "source": [
    "print(len(activation_groups))\n",
    "for i in range(len(activation_groups)):\n",
    "    print(activation_groups[i].shape)"
   ]
  },
  {
   "cell_type": "code",
   "execution_count": 246,
   "metadata": {},
   "outputs": [
    {
     "name": "stdout",
     "output_type": "stream",
     "text": [
      "torch.Size([2, 2, 2])\n",
      "tensor([[  0.0000,   0.0000,   0.0000,   0.0000],\n",
      "        [ -2.5219, -15.5113, -10.2448, -17.3342]])\n",
      "torch.Size([2, 2, 2])\n",
      "tensor([[ 0.0000,  0.0000,  0.0000,  0.0000],\n",
      "        [ 8.4248, -9.5676,  1.2351, -0.2614]])\n",
      "torch.Size([2, 2, 2])\n",
      "tensor([[  0.0000,   0.0000,   0.0000,   0.0000],\n",
      "        [  8.0948, -20.7838,  -7.3665,  11.6222]])\n",
      "torch.Size([2, 2, 2])\n",
      "tensor([[  0.0000,   0.0000,   0.0000,   0.0000],\n",
      "        [ 31.9531, -10.6446, -23.9843,   1.4552]])\n",
      "tensor([1.0050, 1.3157])\n"
     ]
    }
   ],
   "source": [
    "# Testing for each image a neuron is chosen\n",
    "input = torch.empty(2)\n",
    "l1_norms = torch.zeros_like(input)\n",
    "for i in range(0, 2):\n",
    "    current_group = groups[i]\n",
    "    # print(current_group.size())\n",
    "    current_norm = torch.zeros(1)\n",
    "    for j in range(0, 2):\n",
    "        current_map_set = current_group[j]  \n",
    "        print(current_map_set.shape)\n",
    "        num = current_group.size(0)\n",
    "        # print(num)\n",
    "        sub_tensor = current_map_set.contiguous().view(num, -1)\n",
    "        # print(sub_tensor.shape)\n",
    "        sub_tensor_2 = current_map_set[0].view(-1,4)\n",
    "        # print(sub_tensor_2.shape)\n",
    "        difference_tensor = torch.sub(sub_tensor, sub_tensor_2)\n",
    "        print(difference_tensor)\n",
    "        num_tensor = difference_tensor.norm(1, dim=1)\n",
    "        denom_tensor = torch.add(sub_tensor.norm(1, dim=1), sub_tensor_2.norm(1))\n",
    "        value_tensor = torch.div(num_tensor, denom_tensor).norm(1)\n",
    "        current_norm = current_norm + value_tensor\n",
    "    l1_norms[i] = current_norm\n",
    "print(l1_norms)"
   ]
  },
  {
   "cell_type": "code",
   "execution_count": 319,
   "metadata": {},
   "outputs": [
    {
     "name": "stdout",
     "output_type": "stream",
     "text": [
      "groupwise norm tensor([0.7488, 0.3784])\n"
     ]
    }
   ],
   "source": [
    "## Testing for each batch a neuron is chosen\n",
    "input = torch.empty(2)\n",
    "l1_norms = torch.zeros_like(input)\n",
    "for i in range(0, 2):\n",
    "    current_group = activation_groups[i]\n",
    "    batch_size = current_group.shape[0]\n",
    "    first_filter_maps = current_group[:,0, :].unsqueeze(1)\n",
    "    difference_tensor = torch.sub(current_group, first_filter_maps)\n",
    "    difference_tensor = difference_tensor.contiguous().view(-1, \n",
    "                                                    difference_tensor.shape[2] * difference_tensor.shape[3])\n",
    "    num_tensor_norm = difference_tensor.norm(1, dim=1)\n",
    "    first_filter_map_view = first_filter_maps.view(first_filter_maps.shape[0], first_filter_maps.shape[1], \n",
    "                                                    first_filter_maps.shape[2] * first_filter_maps.shape[3])\n",
    "    first_filter_map_norms = first_filter_map_view.norm(1, dim=2)\n",
    "    current_group_view = current_group.view(current_group.shape[0], current_group.shape[1],\n",
    "                                           current_group.shape[2] * current_group.shape[3])\n",
    "    current_group_norms = current_group_view.norm(1, dim=2)\n",
    "    denom_tensor_part = torch.add(first_filter_map_norms, current_group_norms)\n",
    "    denom_tensor_part_view = denom_tensor_part.view(-1)\n",
    "    denom_tensor_norm = torch.add(denom_tensor_part_view, \n",
    "                            num_tensor_norm)\n",
    "    iou_map_wise = torch.div(num_tensor_norm, denom_tensor_norm)\n",
    "    l1_norms[i] = torch.div(iou_map_wise.norm(1), batch_size)\n",
    "\n",
    "print('groupwise norm', l1_norms)"
   ]
  },
  {
   "cell_type": "code",
   "execution_count": 205,
   "metadata": {},
   "outputs": [
    {
     "name": "stdout",
     "output_type": "stream",
     "text": [
      "torch.Size([2, 2, 2, 3, 3])\n",
      "tensor([[[[[  0.0000,   0.0000,   0.0000],\n",
      "           [  0.0000,   0.0000,   0.0000],\n",
      "           [  0.0000,   0.0000,   0.0000]],\n",
      "\n",
      "          [[  4.0266,  -7.2197,   5.2777],\n",
      "           [ 12.2109,  -8.6519,   0.5928],\n",
      "           [ 19.4633, -16.0423, -11.7876]]],\n",
      "\n",
      "\n",
      "         [[[  0.0000,   0.0000,   0.0000],\n",
      "           [  0.0000,   0.0000,   0.0000],\n",
      "           [  0.0000,   0.0000,   0.0000]],\n",
      "\n",
      "          [[-10.1628, -22.6971,   1.1106],\n",
      "           [  5.3785,  -9.5315,  -1.2909],\n",
      "           [ 13.8482,  15.5995,   0.0899]]]],\n",
      "\n",
      "\n",
      "\n",
      "        [[[[  0.0000,   0.0000,   0.0000],\n",
      "           [  0.0000,   0.0000,   0.0000],\n",
      "           [  0.0000,   0.0000,   0.0000]],\n",
      "\n",
      "          [[  0.6715, -26.1176,   8.6479],\n",
      "           [ -2.5443, -36.7349,   1.8670],\n",
      "           [  5.4857, -22.1145,  -5.0489]]],\n",
      "\n",
      "\n",
      "         [[[  0.0000,   0.0000,   0.0000],\n",
      "           [  0.0000,   0.0000,   0.0000],\n",
      "           [  0.0000,   0.0000,   0.0000]],\n",
      "\n",
      "          [[ -8.3782, -29.2438,  -1.2212],\n",
      "           [ 11.6674, -13.0431, -13.1811],\n",
      "           [-10.1637,  21.1268,  -7.2855]]]]])\n",
      "iou group wise  tensor([0.0477, 0.0776])\n"
     ]
    }
   ],
   "source": []
  },
  {
   "cell_type": "code",
   "execution_count": 193,
   "metadata": {},
   "outputs": [
    {
     "data": {
      "text/plain": [
       "tensor([[[[[ 25.5460,   4.7404, -19.1055],\n",
       "           [ 25.9596,  14.5644,  18.3110],\n",
       "           [ 26.6828,  58.3140,  49.8822]],\n",
       "\n",
       "          [[ 29.5726,  -2.4793, -13.8277],\n",
       "           [ 38.1705,   5.9125,  18.9038],\n",
       "           [ 46.1461,  42.2717,  38.0946]]],\n",
       "\n",
       "\n",
       "         [[[ 22.7896,  16.6343,   9.2752],\n",
       "           [ 12.4162,   5.2449,  16.0265],\n",
       "           [ 15.6306,  17.5061,  37.3006]],\n",
       "\n",
       "          [[ 12.6268,  -6.0628,  10.3858],\n",
       "           [ 17.7947,  -4.2866,  14.7356],\n",
       "           [ 29.4789,  33.1056,  37.3904]]]],\n",
       "\n",
       "\n",
       "\n",
       "        [[[[ 28.1389,  26.6243,  -7.9718],\n",
       "           [ 22.9789,  27.5569,  -3.9408],\n",
       "           [ 17.2564,  36.7730,  46.4289]],\n",
       "\n",
       "          [[ 28.8103,   0.5068,   0.6761],\n",
       "           [ 20.4346,  -9.1780,  -2.0738],\n",
       "           [ 22.7421,  14.6585,  41.3800]]],\n",
       "\n",
       "\n",
       "         [[[ 13.2591,  23.6378,   8.0095],\n",
       "           [ -7.7992,  16.0346,   8.8269],\n",
       "           [ 21.3490,  -4.3305,  31.6540]],\n",
       "\n",
       "          [[  4.8809,  -5.6060,   6.7883],\n",
       "           [  3.8682,   2.9915,  -4.3542],\n",
       "           [ 11.1853,  16.7964,  24.3686]]]]])"
      ]
     },
     "execution_count": 193,
     "metadata": {},
     "output_type": "execute_result"
    }
   ],
   "source": [
    "current_group"
   ]
  },
  {
   "cell_type": "code",
   "execution_count": 87,
   "metadata": {},
   "outputs": [],
   "source": [
    "# a = torch.Tensor(2,2,3,3)\n",
    "# print('a:', a)\n",
    "# b = a[:,0,:,:].unsqueeze(1)\n",
    "# print('shape of b:', b.shape)\n",
    "# print('b:', b)\n",
    "# c = torch.sub(b, a)\n",
    "\n",
    "# print('c shape:', c.shape)\n",
    "# print('c:', c[:,0,:,:])"
   ]
  },
  {
   "cell_type": "code",
   "execution_count": 136,
   "metadata": {},
   "outputs": [],
   "source": [
    "a = torch.Tensor([2,3,4])\n",
    "c = a.norm(1)"
   ]
  },
  {
   "cell_type": "code",
   "execution_count": 179,
   "metadata": {},
   "outputs": [
    {
     "data": {
      "text/plain": [
       "torch.Size([2, 1, 3, 3])"
      ]
     },
     "execution_count": 179,
     "metadata": {},
     "output_type": "execute_result"
    }
   ],
   "source": [
    "activation_groups[2].shape"
   ]
  },
  {
   "cell_type": "code",
   "execution_count": 182,
   "metadata": {},
   "outputs": [
    {
     "data": {
      "text/plain": [
       "torch.Size([2, 2, 1, 3, 3])"
      ]
     },
     "execution_count": 182,
     "metadata": {},
     "output_type": "execute_result"
    }
   ],
   "source": [
    "current_group = torch.stack(activation_groups[:2], dim=0)\n",
    "current_group.shape\n",
    "first_filter_maps = current_group[:,:, 0, :, :].unsqueeze(2)\n",
    "first_filter_maps.shape"
   ]
  },
  {
   "cell_type": "markdown",
   "metadata": {},
   "source": [
    "### Comparing two neurons from different group and same groups:"
   ]
  },
  {
   "cell_type": "code",
   "execution_count": 79,
   "metadata": {},
   "outputs": [
    {
     "ename": "NameError",
     "evalue": "name 'purely_diff_based_measure' is not defined",
     "output_type": "error",
     "traceback": [
      "\u001b[0;31m---------------------------------------------------------------------------\u001b[0m",
      "\u001b[0;31mNameError\u001b[0m                                 Traceback (most recent call last)",
      "\u001b[0;32m<ipython-input-79-5cba5e07508d>\u001b[0m in \u001b[0;36m<module>\u001b[0;34m\u001b[0m\n\u001b[0;32m----> 1\u001b[0;31m \u001b[0mpurely_diff_based_measure\u001b[0m\u001b[0;34m(\u001b[0m\u001b[0;34m)\u001b[0m\u001b[0;34m\u001b[0m\u001b[0;34m\u001b[0m\u001b[0m\n\u001b[0m",
      "\u001b[0;31mNameError\u001b[0m: name 'purely_diff_based_measure' is not defined"
     ]
    }
   ],
   "source": [
    "def purely_diff_based_measure(unit_x, unit_y, feature_maps):\n",
    "    \n",
    "    \n",
    "    "
   ]
  },
  {
   "cell_type": "code",
   "execution_count": 80,
   "metadata": {},
   "outputs": [
    {
     "data": {
      "text/plain": [
       "torch.Size([5, 2, 3, 3])"
      ]
     },
     "execution_count": 80,
     "metadata": {},
     "output_type": "execute_result"
    }
   ],
   "source": [
    "mock_filter_combined.shape"
   ]
  },
  {
   "cell_type": "code",
   "execution_count": 84,
   "metadata": {},
   "outputs": [],
   "source": [
    "inputs = torch.randn(2,2,4,4)"
   ]
  },
  {
   "cell_type": "code",
   "execution_count": 85,
   "metadata": {},
   "outputs": [
    {
     "data": {
      "text/plain": [
       "tensor([[[[ 0.7321, -0.2079,  1.5025, -1.2202],\n",
       "          [-1.6360,  0.2292, -0.3381, -0.0331],\n",
       "          [-0.1250,  1.0014, -0.8525, -0.9578],\n",
       "          [ 1.3452,  1.5831,  0.1439,  0.5800]],\n",
       "\n",
       "         [[ 0.3350,  1.7472,  0.0860, -1.7742],\n",
       "          [-0.9988,  0.2592,  1.5437, -1.2707],\n",
       "          [ 0.8323,  0.9461,  0.7537, -0.0528],\n",
       "          [ 0.5220, -0.6177,  0.5546,  0.3272]]],\n",
       "\n",
       "\n",
       "        [[[-1.5640, -0.6262,  0.4593,  0.3129],\n",
       "          [-0.0613,  0.5867,  1.3038,  0.4860],\n",
       "          [-0.6078,  0.0202, -0.0098,  0.4428],\n",
       "          [-1.0598,  0.9279,  1.4967,  0.0815]],\n",
       "\n",
       "         [[-0.8611,  0.4072, -0.1977,  0.1255],\n",
       "          [ 0.2636, -1.1961,  2.0308, -0.4275],\n",
       "          [-1.0225,  1.0798, -1.1144, -1.6496],\n",
       "          [-0.4293,  2.8448, -0.2664,  0.3503]]]])"
      ]
     },
     "execution_count": 85,
     "metadata": {},
     "output_type": "execute_result"
    }
   ],
   "source": [
    "inputs"
   ]
  },
  {
   "cell_type": "code",
   "execution_count": 86,
   "metadata": {},
   "outputs": [
    {
     "data": {
      "text/plain": [
       "torch.Size([2, 5, 2, 2])"
      ]
     },
     "execution_count": 86,
     "metadata": {},
     "output_type": "execute_result"
    }
   ],
   "source": [
    "activations = F.conv2d(inputs,mock_filter_combined)\n",
    "activations.shape"
   ]
  },
  {
   "cell_type": "code",
   "execution_count": 87,
   "metadata": {},
   "outputs": [
    {
     "data": {
      "text/plain": [
       "tensor([[[[25.5321,  3.9110],\n",
       "          [31.8075, 17.9826]],\n",
       "\n",
       "         [[44.8827, -6.0560],\n",
       "          [46.2906, 10.6101]],\n",
       "\n",
       "         [[14.8567, 17.0462],\n",
       "          [28.0564, 24.9592]],\n",
       "\n",
       "         [[34.9558, -4.6231],\n",
       "          [13.8158, -0.9317]],\n",
       "\n",
       "         [[34.9558, -4.6231],\n",
       "          [13.8158, -0.9317]]],\n",
       "\n",
       "\n",
       "        [[[ 0.9630,  2.2310],\n",
       "          [25.1521, 32.4894]],\n",
       "\n",
       "         [[ 1.6677, 20.9894],\n",
       "          [52.8303, 31.9127]],\n",
       "\n",
       "         [[ 8.2962, -0.9387],\n",
       "          [-2.3180, 53.6844]],\n",
       "\n",
       "         [[13.6379,  8.4810],\n",
       "          [36.4244,  6.9291]],\n",
       "\n",
       "         [[13.6379,  8.4810],\n",
       "          [36.4244,  6.9291]]]])"
      ]
     },
     "execution_count": 87,
     "metadata": {},
     "output_type": "execute_result"
    }
   ],
   "source": [
    "activations"
   ]
  },
  {
   "cell_type": "code",
   "execution_count": 109,
   "metadata": {},
   "outputs": [
    {
     "data": {
      "text/plain": [
       "tensor([[[[25.5321,  3.9110],\n",
       "          [31.8075, 17.9826]],\n",
       "\n",
       "         [[ 0.9630,  2.2310],\n",
       "          [25.1521, 32.4894]]],\n",
       "\n",
       "\n",
       "        [[[44.8827, -6.0560],\n",
       "          [46.2906, 10.6101]],\n",
       "\n",
       "         [[ 1.6677, 20.9894],\n",
       "          [52.8303, 31.9127]]],\n",
       "\n",
       "\n",
       "        [[[14.8567, 17.0462],\n",
       "          [28.0564, 24.9592]],\n",
       "\n",
       "         [[ 8.2962, -0.9387],\n",
       "          [-2.3180, 53.6844]]],\n",
       "\n",
       "\n",
       "        [[[34.9558, -4.6231],\n",
       "          [13.8158, -0.9317]],\n",
       "\n",
       "         [[13.6379,  8.4810],\n",
       "          [36.4244,  6.9291]]],\n",
       "\n",
       "\n",
       "        [[[34.9558, -4.6231],\n",
       "          [13.8158, -0.9317]],\n",
       "\n",
       "         [[13.6379,  8.4810],\n",
       "          [36.4244,  6.9291]]]])"
      ]
     },
     "execution_count": 109,
     "metadata": {},
     "output_type": "execute_result"
    }
   ],
   "source": [
    "std_map_wise"
   ]
  },
  {
   "cell_type": "code",
   "execution_count": 93,
   "metadata": {},
   "outputs": [
    {
     "data": {
      "text/plain": [
       "tensor([[[34.9558, -4.6231],\n",
       "         [13.8158, -0.9317]],\n",
       "\n",
       "        [[13.6379,  8.4810],\n",
       "         [36.4244,  6.9291]]])"
      ]
     },
     "execution_count": 93,
     "metadata": {},
     "output_type": "execute_result"
    }
   ],
   "source": [
    "activations[:,4]"
   ]
  },
  {
   "cell_type": "code",
   "execution_count": 95,
   "metadata": {},
   "outputs": [],
   "source": [
    "unit_x = 0\n",
    "unit_y = 1\n",
    "act_unit_x = activations[:, unit_x]\n",
    "act_unit_y = activations[:, unit_y]"
   ]
  },
  {
   "cell_type": "code",
   "execution_count": 96,
   "metadata": {},
   "outputs": [
    {
     "data": {
      "text/plain": [
       "tensor([[[25.5321,  3.9110],\n",
       "         [31.8075, 17.9826]],\n",
       "\n",
       "        [[ 0.9630,  2.2310],\n",
       "         [25.1521, 32.4894]]])"
      ]
     },
     "execution_count": 96,
     "metadata": {},
     "output_type": "execute_result"
    }
   ],
   "source": [
    "act_unit_x"
   ]
  },
  {
   "cell_type": "code",
   "execution_count": 97,
   "metadata": {},
   "outputs": [
    {
     "data": {
      "text/plain": [
       "tensor([[[44.8827, -6.0560],\n",
       "         [46.2906, 10.6101]],\n",
       "\n",
       "        [[ 1.6677, 20.9894],\n",
       "         [52.8303, 31.9127]]])"
      ]
     },
     "execution_count": 97,
     "metadata": {},
     "output_type": "execute_result"
    }
   ],
   "source": [
    "act_unit_y"
   ]
  },
  {
   "cell_type": "code",
   "execution_count": 98,
   "metadata": {},
   "outputs": [
    {
     "data": {
      "text/plain": [
       "torch.Size([2, 2, 2])"
      ]
     },
     "execution_count": 98,
     "metadata": {},
     "output_type": "execute_result"
    }
   ],
   "source": [
    "act_unit_y.shape"
   ]
  },
  {
   "cell_type": "code",
   "execution_count": 100,
   "metadata": {},
   "outputs": [],
   "source": [
    "number_of_maps = activations.size(1)"
   ]
  },
  {
   "cell_type": "code",
   "execution_count": 102,
   "metadata": {},
   "outputs": [
    {
     "data": {
      "text/plain": [
       "5"
      ]
     },
     "execution_count": 102,
     "metadata": {},
     "output_type": "execute_result"
    }
   ],
   "source": [
    "number_of_maps"
   ]
  },
  {
   "cell_type": "code",
   "execution_count": 110,
   "metadata": {},
   "outputs": [],
   "source": [
    "std_map_wise = activations.transpose(0, 1).contiguous().view(number_of_maps, -1).std(1)"
   ]
  },
  {
   "cell_type": "code",
   "execution_count": 111,
   "metadata": {},
   "outputs": [
    {
     "data": {
      "text/plain": [
       "torch.Size([5])"
      ]
     },
     "execution_count": 111,
     "metadata": {},
     "output_type": "execute_result"
    }
   ],
   "source": [
    "std_map_wise.shape"
   ]
  },
  {
   "cell_type": "code",
   "execution_count": 114,
   "metadata": {},
   "outputs": [
    {
     "data": {
      "text/plain": [
       "tensor([[[[25.5321,  3.9110],\n",
       "          [31.8075, 17.9826]],\n",
       "\n",
       "         [[44.8827, -6.0560],\n",
       "          [46.2906, 10.6101]],\n",
       "\n",
       "         [[14.8567, 17.0462],\n",
       "          [28.0564, 24.9592]],\n",
       "\n",
       "         [[34.9558, -4.6231],\n",
       "          [13.8158, -0.9317]],\n",
       "\n",
       "         [[34.9558, -4.6231],\n",
       "          [13.8158, -0.9317]]],\n",
       "\n",
       "\n",
       "        [[[ 0.9630,  2.2310],\n",
       "          [25.1521, 32.4894]],\n",
       "\n",
       "         [[ 1.6677, 20.9894],\n",
       "          [52.8303, 31.9127]],\n",
       "\n",
       "         [[ 8.2962, -0.9387],\n",
       "          [-2.3180, 53.6844]],\n",
       "\n",
       "         [[13.6379,  8.4810],\n",
       "          [36.4244,  6.9291]],\n",
       "\n",
       "         [[13.6379,  8.4810],\n",
       "          [36.4244,  6.9291]]]])"
      ]
     },
     "execution_count": 114,
     "metadata": {},
     "output_type": "execute_result"
    }
   ],
   "source": [
    "activations"
   ]
  },
  {
   "cell_type": "code",
   "execution_count": 120,
   "metadata": {},
   "outputs": [],
   "source": [
    "receptive_fields = activations.transpose(1, 3).div(std_map_wise).transpose(1, 3)"
   ]
  },
  {
   "cell_type": "code",
   "execution_count": 122,
   "metadata": {},
   "outputs": [
    {
     "data": {
      "text/plain": [
       "torch.Size([2, 5, 2, 2])"
      ]
     },
     "execution_count": 122,
     "metadata": {},
     "output_type": "execute_result"
    }
   ],
   "source": [
    "receptive_fields.shape"
   ]
  },
  {
   "cell_type": "code",
   "execution_count": 123,
   "metadata": {},
   "outputs": [
    {
     "data": {
      "text/plain": [
       "tensor([[[[ 1.9153,  0.2934],\n",
       "          [ 2.3860,  1.3490]],\n",
       "\n",
       "         [[ 2.0360, -0.2747],\n",
       "          [ 2.0999,  0.4813]],\n",
       "\n",
       "         [[ 0.8197,  0.9405],\n",
       "          [ 1.5480,  1.3771]],\n",
       "\n",
       "         [[ 2.3186, -0.3067],\n",
       "          [ 0.9164, -0.0618]],\n",
       "\n",
       "         [[ 2.3186, -0.3067],\n",
       "          [ 0.9164, -0.0618]]],\n",
       "\n",
       "\n",
       "        [[[ 0.0722,  0.1674],\n",
       "          [ 1.8868,  2.4372]],\n",
       "\n",
       "         [[ 0.0757,  0.9521],\n",
       "          [ 2.3965,  1.4476]],\n",
       "\n",
       "         [[ 0.4577, -0.0518],\n",
       "          [-0.1279,  2.9621]],\n",
       "\n",
       "         [[ 0.9046,  0.5625],\n",
       "          [ 2.4160,  0.4596]],\n",
       "\n",
       "         [[ 0.9046,  0.5625],\n",
       "          [ 2.4160,  0.4596]]]])"
      ]
     },
     "execution_count": 123,
     "metadata": {},
     "output_type": "execute_result"
    }
   ],
   "source": [
    "receptive_fields"
   ]
  },
  {
   "cell_type": "code",
   "execution_count": 124,
   "metadata": {},
   "outputs": [],
   "source": [
    "receptive_fields = torch.sigmoid(receptive_fields)"
   ]
  },
  {
   "cell_type": "code",
   "execution_count": 284,
   "metadata": {},
   "outputs": [
    {
     "data": {
      "text/plain": [
       "tensor([[[[0.8716, 0.5728],\n",
       "          [0.9158, 0.7940]],\n",
       "\n",
       "         [[0.8845, 0.4317],\n",
       "          [0.8909, 0.6181]],\n",
       "\n",
       "         [[0.6942, 0.7192],\n",
       "          [0.8246, 0.7985]],\n",
       "\n",
       "         [[0.9104, 0.4239],\n",
       "          [0.7143, 0.4846]],\n",
       "\n",
       "         [[0.9104, 0.4239],\n",
       "          [0.7143, 0.4846]]],\n",
       "\n",
       "\n",
       "        [[[0.5181, 0.5417],\n",
       "          [0.8684, 0.9196]],\n",
       "\n",
       "         [[0.5189, 0.7215],\n",
       "          [0.9166, 0.8096]],\n",
       "\n",
       "         [[0.6125, 0.4871],\n",
       "          [0.4681, 0.9508]],\n",
       "\n",
       "         [[0.7119, 0.6370],\n",
       "          [0.9180, 0.6129]],\n",
       "\n",
       "         [[0.7119, 0.6370],\n",
       "          [0.9180, 0.6129]]]])"
      ]
     },
     "execution_count": 284,
     "metadata": {},
     "output_type": "execute_result"
    }
   ],
   "source": [
    "receptive_fields"
   ]
  },
  {
   "cell_type": "code",
   "execution_count": 285,
   "metadata": {},
   "outputs": [],
   "source": [
    "unit_x = 0\n",
    "unit_y = 1\n",
    "act_unit_x = receptive_fields[:, unit_x]\n",
    "act_unit_y = receptive_fields[:, unit_y]"
   ]
  },
  {
   "cell_type": "code",
   "execution_count": 286,
   "metadata": {},
   "outputs": [
    {
     "data": {
      "text/plain": [
       "torch.Size([2, 2, 2])"
      ]
     },
     "execution_count": 286,
     "metadata": {},
     "output_type": "execute_result"
    }
   ],
   "source": [
    "act_unit_y.shape"
   ]
  },
  {
   "cell_type": "code",
   "execution_count": 287,
   "metadata": {},
   "outputs": [
    {
     "data": {
      "text/plain": [
       "tensor([[[0.8716, 0.5728],\n",
       "         [0.9158, 0.7940]],\n",
       "\n",
       "        [[0.5181, 0.5417],\n",
       "         [0.8684, 0.9196]]])"
      ]
     },
     "execution_count": 287,
     "metadata": {},
     "output_type": "execute_result"
    }
   ],
   "source": [
    "act_unit_x"
   ]
  },
  {
   "cell_type": "code",
   "execution_count": 288,
   "metadata": {},
   "outputs": [
    {
     "data": {
      "text/plain": [
       "tensor([[[0.8845, 0.4317],\n",
       "         [0.8909, 0.6181]],\n",
       "\n",
       "        [[0.5189, 0.7215],\n",
       "         [0.9166, 0.8096]]])"
      ]
     },
     "execution_count": 288,
     "metadata": {},
     "output_type": "execute_result"
    }
   ],
   "source": [
    "act_unit_y"
   ]
  },
  {
   "cell_type": "code",
   "execution_count": 213,
   "metadata": {},
   "outputs": [],
   "source": [
    "difference_tensor = act_unit_x - act_unit_y"
   ]
  },
  {
   "cell_type": "code",
   "execution_count": 289,
   "metadata": {},
   "outputs": [],
   "source": [
    "hadamard_prod = torch.mul(act_unit_x, act_unit_y)"
   ]
  },
  {
   "cell_type": "code",
   "execution_count": 290,
   "metadata": {},
   "outputs": [
    {
     "data": {
      "text/plain": [
       "tensor([[[0.7710, 0.2473],\n",
       "         [0.8158, 0.4907]],\n",
       "\n",
       "        [[0.2688, 0.3909],\n",
       "         [0.7959, 0.7446]]])"
      ]
     },
     "execution_count": 290,
     "metadata": {},
     "output_type": "execute_result"
    }
   ],
   "source": [
    "hadamard_prod"
   ]
  },
  {
   "cell_type": "code",
   "execution_count": 214,
   "metadata": {},
   "outputs": [
    {
     "data": {
      "text/plain": [
       "tensor([[[-0.0129,  0.1411],\n",
       "         [ 0.0249,  0.1759]],\n",
       "\n",
       "        [[-0.0009, -0.1798],\n",
       "         [-0.0482,  0.1100]]])"
      ]
     },
     "execution_count": 214,
     "metadata": {},
     "output_type": "execute_result"
    }
   ],
   "source": [
    "difference_tensor"
   ]
  },
  {
   "cell_type": "code",
   "execution_count": 215,
   "metadata": {
    "scrolled": true
   },
   "outputs": [
    {
     "data": {
      "text/plain": [
       "tensor(0.6936)"
      ]
     },
     "execution_count": 215,
     "metadata": {},
     "output_type": "execute_result"
    }
   ],
   "source": [
    "difference_tensor.norm(1)"
   ]
  },
  {
   "cell_type": "code",
   "execution_count": 291,
   "metadata": {},
   "outputs": [
    {
     "data": {
      "text/plain": [
       "tensor(4.5250)"
      ]
     },
     "execution_count": 291,
     "metadata": {},
     "output_type": "execute_result"
    }
   ],
   "source": [
    "hadamard_prod.norm(1)"
   ]
  },
  {
   "cell_type": "code",
   "execution_count": 216,
   "metadata": {},
   "outputs": [],
   "source": [
    "score = (2 * difference_tensor.norm(1)) / (act_unit_x.norm(1) + act_unit_y.norm(1) + difference_tensor.norm(1))"
   ]
  },
  {
   "cell_type": "code",
   "execution_count": 217,
   "metadata": {},
   "outputs": [
    {
     "data": {
      "text/plain": [
       "tensor(0.1111)"
      ]
     },
     "execution_count": 217,
     "metadata": {},
     "output_type": "execute_result"
    }
   ],
   "source": [
    "score"
   ]
  },
  {
   "cell_type": "code",
   "execution_count": 296,
   "metadata": {},
   "outputs": [
    {
     "name": "stdout",
     "output_type": "stream",
     "text": [
      "tensor([[[-0.2162,  0.2953],\n",
      "         [ 0.1103,  0.3140]],\n",
      "\n",
      "        [[-0.0994, -0.1500],\n",
      "         [-0.4500,  0.3379]]])\n"
     ]
    }
   ],
   "source": [
    "unit_x = 2\n",
    "unit_y = 3\n",
    "act_unit_x = receptive_fields[:, unit_x]\n",
    "act_unit_y = receptive_fields[:, unit_y]\n",
    "difference_tensor = act_unit_x - act_unit_y\n",
    "hadamard_prod = torch.mul(act_unit_x, act_unit_y)\n",
    "print(difference_tensor)"
   ]
  },
  {
   "cell_type": "code",
   "execution_count": 297,
   "metadata": {
    "scrolled": true
   },
   "outputs": [
    {
     "data": {
      "text/plain": [
       "tensor(1.9731)"
      ]
     },
     "execution_count": 297,
     "metadata": {},
     "output_type": "execute_result"
    }
   ],
   "source": [
    "difference_tensor.norm(1)"
   ]
  },
  {
   "cell_type": "code",
   "execution_count": 305,
   "metadata": {},
   "outputs": [
    {
     "data": {
      "text/plain": [
       "tensor([[[0.6320, 0.3049],\n",
       "         [0.5890, 0.3869]],\n",
       "\n",
       "        [[0.4360, 0.3103],\n",
       "         [0.4297, 0.5828]]])"
      ]
     },
     "execution_count": 305,
     "metadata": {},
     "output_type": "execute_result"
    }
   ],
   "source": [
    "hadamard_prod"
   ]
  },
  {
   "cell_type": "code",
   "execution_count": 220,
   "metadata": {},
   "outputs": [],
   "source": [
    "score = (2 * difference_tensor.norm(1)) / (act_unit_x.norm(1) + act_unit_y.norm(1) + difference_tensor.norm(1))"
   ]
  },
  {
   "cell_type": "code",
   "execution_count": 221,
   "metadata": {},
   "outputs": [
    {
     "data": {
      "text/plain": [
       "tensor(0.3049)"
      ]
     },
     "execution_count": 221,
     "metadata": {},
     "output_type": "execute_result"
    }
   ],
   "source": [
    "score"
   ]
  },
  {
   "cell_type": "code",
   "execution_count": 197,
   "metadata": {},
   "outputs": [
    {
     "data": {
      "text/plain": [
       "torch.Size([2, 5, 2, 2])"
      ]
     },
     "execution_count": 197,
     "metadata": {},
     "output_type": "execute_result"
    }
   ],
   "source": [
    "receptive_fields.shape"
   ]
  },
  {
   "cell_type": "code",
   "execution_count": 306,
   "metadata": {},
   "outputs": [],
   "source": [
    "unit_x = np.array([0 ,2])\n",
    "unit_y = np.array([1 ,3])\n",
    "\n",
    "act_unit_x = receptive_fields[:, unit_x]\n",
    "act_unit_y = receptive_fields[:, unit_y]"
   ]
  },
  {
   "cell_type": "code",
   "execution_count": 307,
   "metadata": {},
   "outputs": [
    {
     "data": {
      "text/plain": [
       "tensor([[[0.8716, 0.5728],\n",
       "         [0.9158, 0.7940]],\n",
       "\n",
       "        [[0.5181, 0.5417],\n",
       "         [0.8684, 0.9196]]])"
      ]
     },
     "execution_count": 307,
     "metadata": {},
     "output_type": "execute_result"
    }
   ],
   "source": [
    "act_unit_x[:,0]"
   ]
  },
  {
   "cell_type": "code",
   "execution_count": 308,
   "metadata": {},
   "outputs": [
    {
     "data": {
      "text/plain": [
       "tensor([[[0.8845, 0.4317],\n",
       "         [0.8909, 0.6181]],\n",
       "\n",
       "        [[0.5189, 0.7215],\n",
       "         [0.9166, 0.8096]]])"
      ]
     },
     "execution_count": 308,
     "metadata": {},
     "output_type": "execute_result"
    }
   ],
   "source": [
    "act_unit_y[:,0]"
   ]
  },
  {
   "cell_type": "code",
   "execution_count": 309,
   "metadata": {},
   "outputs": [],
   "source": [
    "difference_tensor = act_unit_x - act_unit_y"
   ]
  },
  {
   "cell_type": "code",
   "execution_count": 310,
   "metadata": {},
   "outputs": [
    {
     "data": {
      "text/plain": [
       "tensor([[[-0.0129,  0.1411],\n",
       "         [ 0.0249,  0.1759]],\n",
       "\n",
       "        [[-0.0009, -0.1798],\n",
       "         [-0.0482,  0.1100]]])"
      ]
     },
     "execution_count": 310,
     "metadata": {},
     "output_type": "execute_result"
    }
   ],
   "source": [
    "difference_tensor[:, 0]"
   ]
  },
  {
   "cell_type": "code",
   "execution_count": 311,
   "metadata": {},
   "outputs": [
    {
     "data": {
      "text/plain": [
       "tensor([[[-0.2162,  0.2953],\n",
       "         [ 0.1103,  0.3140]],\n",
       "\n",
       "        [[-0.0994, -0.1500],\n",
       "         [-0.4500,  0.3379]]])"
      ]
     },
     "execution_count": 311,
     "metadata": {},
     "output_type": "execute_result"
    }
   ],
   "source": [
    "difference_tensor[:, 1]"
   ]
  },
  {
   "cell_type": "code",
   "execution_count": 312,
   "metadata": {},
   "outputs": [],
   "source": [
    "hadamard_tensor = torch.mul(act_unit_x, act_unit_y)"
   ]
  },
  {
   "cell_type": "code",
   "execution_count": 314,
   "metadata": {},
   "outputs": [
    {
     "data": {
      "text/plain": [
       "tensor([[[0.7710, 0.2473],\n",
       "         [0.8158, 0.4907]],\n",
       "\n",
       "        [[0.2688, 0.3909],\n",
       "         [0.7959, 0.7446]]])"
      ]
     },
     "execution_count": 314,
     "metadata": {},
     "output_type": "execute_result"
    }
   ],
   "source": [
    "hadamard_tensor[:,0]"
   ]
  },
  {
   "cell_type": "code",
   "execution_count": 280,
   "metadata": {},
   "outputs": [],
   "source": [
    "score = []\n",
    "for i in range(len(unit_x)):\n",
    "    score.append((2 * difference_tensor[:,i].norm(1)) \n",
    "                 / (act_unit_x[:, i].norm(1) + act_unit_y[:, i].norm(1) + difference_tensor[:,i].norm(1)))"
   ]
  },
  {
   "cell_type": "code",
   "execution_count": 281,
   "metadata": {},
   "outputs": [
    {
     "data": {
      "text/plain": [
       "torch.Size([2, 2, 2, 2])"
      ]
     },
     "execution_count": 281,
     "metadata": {},
     "output_type": "execute_result"
    }
   ],
   "source": [
    "difference_tensor.shape"
   ]
  },
  {
   "cell_type": "code",
   "execution_count": 282,
   "metadata": {},
   "outputs": [
    {
     "data": {
      "text/plain": [
       "tensor([0.1111, 0.3049])"
      ]
     },
     "execution_count": 282,
     "metadata": {},
     "output_type": "execute_result"
    }
   ],
   "source": [
    "torch.stack(score)"
   ]
  },
  {
   "cell_type": "code",
   "execution_count": 283,
   "metadata": {},
   "outputs": [
    {
     "data": {
      "text/plain": [
       "[tensor(0.1111), tensor(0.3049)]"
      ]
     },
     "execution_count": 283,
     "metadata": {},
     "output_type": "execute_result"
    }
   ],
   "source": [
    "score"
   ]
  },
  {
   "cell_type": "code",
   "execution_count": null,
   "metadata": {},
   "outputs": [],
   "source": []
  }
 ],
 "metadata": {
  "kernelspec": {
   "display_name": "Python 3",
   "language": "python",
   "name": "python3"
  },
  "language_info": {
   "codemirror_mode": {
    "name": "ipython",
    "version": 3
   },
   "file_extension": ".py",
   "mimetype": "text/x-python",
   "name": "python",
   "nbconvert_exporter": "python",
   "pygments_lexer": "ipython3",
   "version": "3.6.7"
  }
 },
 "nbformat": 4,
 "nbformat_minor": 2
}
