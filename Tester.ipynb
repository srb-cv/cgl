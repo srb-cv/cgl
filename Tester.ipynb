{
 "cells": [
  {
   "cell_type": "code",
   "execution_count": 142,
   "metadata": {},
   "outputs": [],
   "source": [
    "import numpy as np"
   ]
  },
  {
   "cell_type": "code",
   "execution_count": 143,
   "metadata": {},
   "outputs": [],
   "source": [
    "import torch"
   ]
  },
  {
   "cell_type": "code",
   "execution_count": 144,
   "metadata": {},
   "outputs": [
    {
     "data": {
      "text/plain": [
       "tensor([[1., 2., 3., 4., 5., 6., 7.],\n",
       "        [3., 5., 6., 7., 8., 4., 5.]])"
      ]
     },
     "execution_count": 144,
     "metadata": {},
     "output_type": "execute_result"
    }
   ],
   "source": [
    "x = torch.FloatTensor([[1,2,3,4,5,6,7],[3,5,6,7,8,4,5]])\n",
    "x"
   ]
  },
  {
   "cell_type": "code",
   "execution_count": 145,
   "metadata": {},
   "outputs": [
    {
     "data": {
      "text/plain": [
       "tensor([[[1., 3.],\n",
       "         [2., 5.],\n",
       "         [3., 6.],\n",
       "         [4., 7.],\n",
       "         [5., 8.],\n",
       "         [6., 4.],\n",
       "         [7., 5.]]])"
      ]
     },
     "execution_count": 145,
     "metadata": {},
     "output_type": "execute_result"
    }
   ],
   "source": [
    "x.unfold(0,2,2)"
   ]
  },
  {
   "cell_type": "code",
   "execution_count": 146,
   "metadata": {},
   "outputs": [],
   "source": [
    "mock_filter_1 = torch.tensor([[1.0,2,1],[2,4,5],[6,7,8]])\n",
    "mock_filter_2 = torch.tensor([[1.0,6,7],[1,9,5],[4,7,8]])\n",
    "mock_filter_3 = torch.tensor([[1.0,3,1],[7,0,5],[9,7,0]])\n",
    "mock_filter_4 = torch.tensor([[3.0,2,4],[0,4,5],[1,7,0]])"
   ]
  },
  {
   "cell_type": "code",
   "execution_count": 147,
   "metadata": {},
   "outputs": [],
   "source": [
    "mock_filter_combined = torch.stack([mock_filter_1, mock_filter_2, mock_filter_3, mock_filter_4]) "
   ]
  },
  {
   "cell_type": "code",
   "execution_count": 148,
   "metadata": {},
   "outputs": [],
   "source": [
    "mock_filter_combined = torch.stack([mock_filter_combined, mock_filter_combined], dim=1)"
   ]
  },
  {
   "cell_type": "code",
   "execution_count": 149,
   "metadata": {},
   "outputs": [
    {
     "data": {
      "text/plain": [
       "torch.Size([4, 2, 3, 3])"
      ]
     },
     "execution_count": 149,
     "metadata": {},
     "output_type": "execute_result"
    }
   ],
   "source": [
    "mock_filter_combined.shape"
   ]
  },
  {
   "cell_type": "code",
   "execution_count": 10,
   "metadata": {},
   "outputs": [
    {
     "name": "stdout",
     "output_type": "stream",
     "text": [
      "tensor([[[1., 2., 1.],\n",
      "         [2., 4., 5.],\n",
      "         [6., 7., 8.]],\n",
      "\n",
      "        [[1., 2., 1.],\n",
      "         [2., 4., 5.],\n",
      "         [6., 7., 8.]]])\n",
      "tensor([[[1., 6., 7.],\n",
      "         [1., 9., 5.],\n",
      "         [4., 7., 8.]],\n",
      "\n",
      "        [[1., 6., 7.],\n",
      "         [1., 9., 5.],\n",
      "         [4., 7., 8.]]])\n",
      "tensor([[[1., 3., 1.],\n",
      "         [7., 0., 5.],\n",
      "         [9., 7., 0.]],\n",
      "\n",
      "        [[1., 3., 1.],\n",
      "         [7., 0., 5.],\n",
      "         [9., 7., 0.]]])\n",
      "tensor([[[3., 2., 4.],\n",
      "         [0., 4., 5.],\n",
      "         [1., 7., 0.]],\n",
      "\n",
      "        [[3., 2., 4.],\n",
      "         [0., 4., 5.],\n",
      "         [1., 7., 0.]]])\n"
     ]
    }
   ],
   "source": [
    "print(mock_filter_combined[0])\n",
    "print(mock_filter_combined[1])\n",
    "print(mock_filter_combined[2])\n",
    "print(mock_filter_combined[3])"
   ]
  },
  {
   "cell_type": "code",
   "execution_count": 11,
   "metadata": {},
   "outputs": [],
   "source": [
    "filter_groups = mock_filter_combined.unfold(0, 2, 2)"
   ]
  },
  {
   "cell_type": "code",
   "execution_count": 12,
   "metadata": {},
   "outputs": [
    {
     "data": {
      "text/plain": [
       "torch.Size([2, 2, 3, 3, 2])"
      ]
     },
     "execution_count": 12,
     "metadata": {},
     "output_type": "execute_result"
    }
   ],
   "source": [
    "filter_groups.shape"
   ]
  },
  {
   "cell_type": "code",
   "execution_count": 13,
   "metadata": {},
   "outputs": [
    {
     "data": {
      "text/plain": [
       "tensor([[[[1., 2., 1.],\n",
       "          [2., 4., 5.],\n",
       "          [6., 7., 8.]],\n",
       "\n",
       "         [[1., 2., 1.],\n",
       "          [2., 4., 5.],\n",
       "          [6., 7., 8.]]],\n",
       "\n",
       "\n",
       "        [[[1., 6., 7.],\n",
       "          [1., 9., 5.],\n",
       "          [4., 7., 8.]],\n",
       "\n",
       "         [[1., 6., 7.],\n",
       "          [1., 9., 5.],\n",
       "          [4., 7., 8.]]]])"
      ]
     },
     "execution_count": 13,
     "metadata": {},
     "output_type": "execute_result"
    }
   ],
   "source": [
    "filter_groups[0].permute(3,0,1,2)"
   ]
  },
  {
   "cell_type": "code",
   "execution_count": 14,
   "metadata": {},
   "outputs": [
    {
     "data": {
      "text/plain": [
       "tensor([[[[1., 3., 1.],\n",
       "          [7., 0., 5.],\n",
       "          [9., 7., 0.]],\n",
       "\n",
       "         [[1., 3., 1.],\n",
       "          [7., 0., 5.],\n",
       "          [9., 7., 0.]]],\n",
       "\n",
       "\n",
       "        [[[3., 2., 4.],\n",
       "          [0., 4., 5.],\n",
       "          [1., 7., 0.]],\n",
       "\n",
       "         [[3., 2., 4.],\n",
       "          [0., 4., 5.],\n",
       "          [1., 7., 0.]]]])"
      ]
     },
     "execution_count": 14,
     "metadata": {},
     "output_type": "execute_result"
    }
   ],
   "source": [
    "filter_groups[1].permute(3,0,1,2)"
   ]
  },
  {
   "cell_type": "markdown",
   "metadata": {},
   "source": [
    "### Testing the activations"
   ]
  },
  {
   "cell_type": "code",
   "execution_count": 15,
   "metadata": {},
   "outputs": [],
   "source": [
    "import torch.nn.functional as F"
   ]
  },
  {
   "cell_type": "code",
   "execution_count": 16,
   "metadata": {},
   "outputs": [
    {
     "data": {
      "text/plain": [
       "torch.Size([4, 2, 3, 3])"
      ]
     },
     "execution_count": 16,
     "metadata": {},
     "output_type": "execute_result"
    }
   ],
   "source": [
    "filters = mock_filter_combined\n",
    "filters.shape"
   ]
  },
  {
   "cell_type": "code",
   "execution_count": 17,
   "metadata": {},
   "outputs": [],
   "source": [
    "inputs = torch.randn(2,2,4,4)"
   ]
  },
  {
   "cell_type": "code",
   "execution_count": 18,
   "metadata": {},
   "outputs": [],
   "source": [
    "activations = F.conv2d(inputs,filters)"
   ]
  },
  {
   "cell_type": "code",
   "execution_count": 19,
   "metadata": {},
   "outputs": [
    {
     "data": {
      "text/plain": [
       "torch.Size([2, 4, 2, 2])"
      ]
     },
     "execution_count": 19,
     "metadata": {},
     "output_type": "execute_result"
    }
   ],
   "source": [
    "activations.shape"
   ]
  },
  {
   "cell_type": "code",
   "execution_count": 20,
   "metadata": {},
   "outputs": [
    {
     "data": {
      "text/plain": [
       "tensor([[[[ 0.5908, -0.6185,  0.0603, -0.3435],\n",
       "          [ 1.8600,  0.2810,  0.8614, -1.3006],\n",
       "          [ 0.0362, -1.7636,  1.5000,  0.4837],\n",
       "          [-0.3788, -0.3929, -0.1246,  1.5903]],\n",
       "\n",
       "         [[ 0.4894,  0.2162, -0.1395,  0.1293],\n",
       "          [-2.4103,  0.1139,  0.6268, -1.5294],\n",
       "          [ 1.3939, -0.5379, -0.6493, -0.7220],\n",
       "          [-1.0362, -0.6277,  0.7157,  2.4491]]],\n",
       "\n",
       "\n",
       "        [[[-0.5707, -0.8208, -1.6440, -1.0179],\n",
       "          [ 0.0280,  0.8828, -1.1049,  0.4310],\n",
       "          [-0.6384,  0.3936, -1.1833, -1.8249],\n",
       "          [-0.6089,  0.1059,  0.9521,  0.9801]],\n",
       "\n",
       "         [[ 0.3944,  0.4962,  0.5617, -0.3041],\n",
       "          [-2.5077, -0.6523,  1.1314,  0.0290],\n",
       "          [-0.4707,  0.0747,  1.3213,  0.3497],\n",
       "          [-2.6718,  0.0443, -0.7722,  0.2070]]]])"
      ]
     },
     "execution_count": 20,
     "metadata": {},
     "output_type": "execute_result"
    }
   ],
   "source": [
    "inputs"
   ]
  },
  {
   "cell_type": "code",
   "execution_count": 21,
   "metadata": {},
   "outputs": [
    {
     "data": {
      "text/plain": [
       "tensor([[[[  7.3920, -17.9428],\n",
       "          [-11.2698,  28.4790]],\n",
       "\n",
       "         [[  4.9722,  -7.8955],\n",
       "          [-10.8686,  26.0483]],\n",
       "\n",
       "         [[  0.1427, -26.9980],\n",
       "          [ -3.4922, -20.3202]],\n",
       "\n",
       "         [[ -3.5408,  -6.7657],\n",
       "          [ -8.4199,  -1.8301]]],\n",
       "\n",
       "\n",
       "        [[[ -8.0844,  -8.9694],\n",
       "          [-18.8407,   6.5136]],\n",
       "\n",
       "         [[-10.0255, -22.2645],\n",
       "          [ -7.7474,   9.3015]],\n",
       "\n",
       "         [[-26.1607,   4.2010],\n",
       "          [-37.3097,  -0.7171]],\n",
       "\n",
       "         [[ -2.2831,  -4.5853],\n",
       "          [ -6.5378,  -2.8298]]]])"
      ]
     },
     "execution_count": 21,
     "metadata": {},
     "output_type": "execute_result"
    }
   ],
   "source": [
    "activations"
   ]
  },
  {
   "cell_type": "code",
   "execution_count": 22,
   "metadata": {},
   "outputs": [],
   "source": [
    "groups = torch.split(activations, 2, dim=1)"
   ]
  },
  {
   "cell_type": "code",
   "execution_count": 23,
   "metadata": {},
   "outputs": [
    {
     "data": {
      "text/plain": [
       "(tensor([[[[  7.3920, -17.9428],\n",
       "           [-11.2698,  28.4790]],\n",
       " \n",
       "          [[  4.9722,  -7.8955],\n",
       "           [-10.8686,  26.0483]]],\n",
       " \n",
       " \n",
       "         [[[ -8.0844,  -8.9694],\n",
       "           [-18.8407,   6.5136]],\n",
       " \n",
       "          [[-10.0255, -22.2645],\n",
       "           [ -7.7474,   9.3015]]]]), tensor([[[[  0.1427, -26.9980],\n",
       "           [ -3.4922, -20.3202]],\n",
       " \n",
       "          [[ -3.5408,  -6.7657],\n",
       "           [ -8.4199,  -1.8301]]],\n",
       " \n",
       " \n",
       "         [[[-26.1607,   4.2010],\n",
       "           [-37.3097,  -0.7171]],\n",
       " \n",
       "          [[ -2.2831,  -4.5853],\n",
       "           [ -6.5378,  -2.8298]]]]))"
      ]
     },
     "execution_count": 23,
     "metadata": {},
     "output_type": "execute_result"
    }
   ],
   "source": [
    "groups"
   ]
  },
  {
   "cell_type": "code",
   "execution_count": 24,
   "metadata": {},
   "outputs": [
    {
     "data": {
      "text/plain": [
       "tensor([[[[  7.3920, -17.9428],\n",
       "          [-11.2698,  28.4790]],\n",
       "\n",
       "         [[  4.9722,  -7.8955],\n",
       "          [-10.8686,  26.0483]]],\n",
       "\n",
       "\n",
       "        [[[ -8.0844,  -8.9694],\n",
       "          [-18.8407,   6.5136]],\n",
       "\n",
       "         [[-10.0255, -22.2645],\n",
       "          [ -7.7474,   9.3015]]]])"
      ]
     },
     "execution_count": 24,
     "metadata": {},
     "output_type": "execute_result"
    }
   ],
   "source": [
    "groups[0]"
   ]
  },
  {
   "cell_type": "markdown",
   "metadata": {},
   "source": [
    "### Another test case where filtere are not divisible by the number of groups"
   ]
  },
  {
   "cell_type": "code",
   "execution_count": 25,
   "metadata": {},
   "outputs": [],
   "source": [
    "mock_filter_1 = torch.tensor([[1.0,2,1],[2,4,5],[6,7,8]])\n",
    "mock_filter_2 = torch.tensor([[1.0,6,7],[1,9,5],[4,7,8]])\n",
    "mock_filter_3 = torch.tensor([[1.0,3,1],[7,0,5],[9,7,0]])\n",
    "mock_filter_4 = torch.tensor([[3.0,2,4],[0,4,5],[1,7,0]])\n",
    "mock_filter_5 = torch.tensor([[3.0,2,4],[0,4,5],[1,7,0]])"
   ]
  },
  {
   "cell_type": "code",
   "execution_count": 26,
   "metadata": {},
   "outputs": [],
   "source": [
    "mock_filter_combined = torch.stack([mock_filter_1, mock_filter_2, mock_filter_3, mock_filter_4,mock_filter_5]) "
   ]
  },
  {
   "cell_type": "code",
   "execution_count": 27,
   "metadata": {},
   "outputs": [
    {
     "data": {
      "text/plain": [
       "torch.Size([5, 2, 3, 3])"
      ]
     },
     "execution_count": 27,
     "metadata": {},
     "output_type": "execute_result"
    }
   ],
   "source": [
    "mock_filter_combined = torch.stack([mock_filter_combined, mock_filter_combined], dim=1)\n",
    "mock_filter_combined.shape"
   ]
  },
  {
   "cell_type": "code",
   "execution_count": 28,
   "metadata": {},
   "outputs": [],
   "source": [
    "inputs = torch.randn(2,2,4,4)"
   ]
  },
  {
   "cell_type": "code",
   "execution_count": 29,
   "metadata": {},
   "outputs": [
    {
     "data": {
      "text/plain": [
       "torch.Size([2, 5, 2, 2])"
      ]
     },
     "execution_count": 29,
     "metadata": {},
     "output_type": "execute_result"
    }
   ],
   "source": [
    "activations = F.conv2d(inputs,mock_filter_combined)\n",
    "activations.shape"
   ]
  },
  {
   "cell_type": "code",
   "execution_count": 30,
   "metadata": {},
   "outputs": [
    {
     "data": {
      "text/plain": [
       "tensor([[[[ 1.2040e-01,  1.2835e+00, -1.0931e+00,  1.1262e-01],\n",
       "          [ 4.7745e-01, -6.2841e-01, -1.8638e-01,  6.1376e-01],\n",
       "          [-1.7930e+00,  2.4869e-01,  2.4884e+00, -6.1819e-01],\n",
       "          [-3.0976e+00,  1.6988e+00, -1.1210e+00, -2.5258e+00]],\n",
       "\n",
       "         [[-1.8697e-01,  4.2179e-01,  6.0392e-01,  1.2100e+00],\n",
       "          [-1.4698e+00, -4.9538e-02,  3.4695e-02, -4.1113e-01],\n",
       "          [-7.7259e-02, -1.5277e+00,  1.7239e-01, -6.9664e-01],\n",
       "          [ 1.1639e+00,  6.9410e-01,  4.0301e-01, -5.4661e-01]]],\n",
       "\n",
       "\n",
       "        [[[ 1.1721e-01, -3.7074e-01,  9.2148e-01,  1.0557e+00],\n",
       "          [ 1.9315e+00, -2.8848e-04,  6.5109e-01, -7.0157e-01],\n",
       "          [ 5.1592e-01, -1.7769e+00, -8.5906e-01, -7.1418e-01],\n",
       "          [-1.6302e+00,  4.7926e-01,  7.6918e-01, -1.1691e+00]],\n",
       "\n",
       "         [[-6.7866e-01, -1.1308e+00,  2.4452e-01,  7.1639e-01],\n",
       "          [-3.7630e-01,  9.4472e-02,  4.0208e-01,  8.6768e-01],\n",
       "          [-9.0827e-01, -4.7403e-01, -1.7463e-01, -1.1392e+00],\n",
       "          [ 1.8399e+00,  1.4815e-01,  6.0185e-01,  1.0673e+00]]]])"
      ]
     },
     "execution_count": 30,
     "metadata": {},
     "output_type": "execute_result"
    }
   ],
   "source": [
    "inputs"
   ]
  },
  {
   "cell_type": "code",
   "execution_count": 31,
   "metadata": {},
   "outputs": [
    {
     "data": {
      "text/plain": [
       "tensor([[[[ -1.4883,   1.5331],\n",
       "          [  1.3515, -14.5159]],\n",
       "\n",
       "         [[  3.7410,   9.9899],\n",
       "          [ -2.9278,  -4.1096]],\n",
       "\n",
       "         [[-28.9301,   4.9425],\n",
       "          [ -3.6189,   0.0523]],\n",
       "\n",
       "         [[-13.0393,  27.1812],\n",
       "          [ 18.0646,  -0.0906]],\n",
       "\n",
       "         [[-13.0393,  27.1812],\n",
       "          [ 18.0646,  -0.0906]]],\n",
       "\n",
       "\n",
       "        [[[-20.0256, -27.7341],\n",
       "          [  4.4577,  -2.9896]],\n",
       "\n",
       "         [[-19.3353,  -2.7643],\n",
       "          [ -0.1280,  -1.9527]],\n",
       "\n",
       "         [[ -7.0356, -22.2357],\n",
       "          [  1.2545,  -6.3595]],\n",
       "\n",
       "         [[-10.5295,   0.4721],\n",
       "          [ -0.5041,  -0.1237]],\n",
       "\n",
       "         [[-10.5295,   0.4721],\n",
       "          [ -0.5041,  -0.1237]]]])"
      ]
     },
     "execution_count": 31,
     "metadata": {},
     "output_type": "execute_result"
    }
   ],
   "source": [
    "activations"
   ]
  },
  {
   "cell_type": "code",
   "execution_count": 32,
   "metadata": {},
   "outputs": [
    {
     "data": {
      "text/plain": [
       "[tensor([[[[ -1.4883,   1.5331],\n",
       "           [  1.3515, -14.5159]],\n",
       " \n",
       "          [[  3.7410,   9.9899],\n",
       "           [ -2.9278,  -4.1096]]],\n",
       " \n",
       " \n",
       "         [[[-20.0256, -27.7341],\n",
       "           [  4.4577,  -2.9896]],\n",
       " \n",
       "          [[-19.3353,  -2.7643],\n",
       "           [ -0.1280,  -1.9527]]]]), tensor([[[[-28.9301,   4.9425],\n",
       "           [ -3.6189,   0.0523]],\n",
       " \n",
       "          [[-13.0393,  27.1812],\n",
       "           [ 18.0646,  -0.0906]]],\n",
       " \n",
       " \n",
       "         [[[ -7.0356, -22.2357],\n",
       "           [  1.2545,  -6.3595]],\n",
       " \n",
       "          [[-10.5295,   0.4721],\n",
       "           [ -0.5041,  -0.1237]]]]), tensor([[[[-13.0393,  27.1812],\n",
       "           [ 18.0646,  -0.0906]]],\n",
       " \n",
       " \n",
       "         [[[-10.5295,   0.4721],\n",
       "           [ -0.5041,  -0.1237]]]])]"
      ]
     },
     "execution_count": 32,
     "metadata": {},
     "output_type": "execute_result"
    }
   ],
   "source": [
    "groups = torch.split(activations, 2, dim=1)\n",
    "list(groups)"
   ]
  },
  {
   "cell_type": "code",
   "execution_count": 33,
   "metadata": {},
   "outputs": [],
   "source": [
    "groupwise_mean = [torch.mean(groups[i]) for i in range(0,2)]"
   ]
  },
  {
   "cell_type": "code",
   "execution_count": 34,
   "metadata": {},
   "outputs": [
    {
     "data": {
      "text/plain": [
       "[tensor(-4.8061), tensor(-2.5313)]"
      ]
     },
     "execution_count": 34,
     "metadata": {},
     "output_type": "execute_result"
    }
   ],
   "source": [
    "groupwise_mean"
   ]
  },
  {
   "cell_type": "code",
   "execution_count": 35,
   "metadata": {},
   "outputs": [
    {
     "data": {
      "text/plain": [
       "[tensor(10.2343), tensor(13.4274)]"
      ]
     },
     "execution_count": 35,
     "metadata": {},
     "output_type": "execute_result"
    }
   ],
   "source": [
    "groupwise_std = [torch.std(groups[i]) for i in range(0,2)]\n",
    "groupwise_std"
   ]
  },
  {
   "cell_type": "markdown",
   "metadata": {},
   "source": [
    "### Test channelwise receptive field calcualtions"
   ]
  },
  {
   "cell_type": "code",
   "execution_count": 36,
   "metadata": {},
   "outputs": [],
   "source": [
    "def calculate_receptive_field_layer_no_batch_norm(feature_maps, linear_map_param_1, \n",
    "                                                  linear_map_param_2):\n",
    "    number_of_maps = feature_maps[1]\n",
    "    std_map_wise = feature_maps.transpose(0,1).contiguous().view(number_of_maps, -1).std(1)\n",
    "    receptive_fields = feature_maps.transpose(1,3).div(std_map_wise).transpose(1,3)\n",
    "    receptive_fields = torch.sigmoid(linear_map_param_1 * receptive_fields + linear_map_param_2)\n",
    "    return receptive_fields"
   ]
  },
  {
   "cell_type": "code",
   "execution_count": 37,
   "metadata": {},
   "outputs": [
    {
     "ename": "TypeError",
     "evalue": "calculate_receptive_field_layer_no_batch_norm() missing 2 required positional arguments: 'linear_map_param_1' and 'linear_map_param_2'",
     "output_type": "error",
     "traceback": [
      "\u001b[0;31m---------------------------------------------------------------------------\u001b[0m",
      "\u001b[0;31mTypeError\u001b[0m                                 Traceback (most recent call last)",
      "\u001b[0;32m<ipython-input-37-755dd229b2d0>\u001b[0m in \u001b[0;36m<module>\u001b[0;34m\u001b[0m\n\u001b[0;32m----> 1\u001b[0;31m \u001b[0mcalculate_receptive_field_layer_no_batch_norm\u001b[0m\u001b[0;34m(\u001b[0m\u001b[0mactivations\u001b[0m\u001b[0;34m)\u001b[0m\u001b[0;34m\u001b[0m\u001b[0;34m\u001b[0m\u001b[0m\n\u001b[0m\u001b[1;32m      2\u001b[0m \u001b[0mprint\u001b[0m\u001b[0;34m(\u001b[0m\u001b[0mactivations\u001b[0m\u001b[0;34m.\u001b[0m\u001b[0mshape\u001b[0m\u001b[0;34m)\u001b[0m\u001b[0;34m\u001b[0m\u001b[0;34m\u001b[0m\u001b[0m\n",
      "\u001b[0;31mTypeError\u001b[0m: calculate_receptive_field_layer_no_batch_norm() missing 2 required positional arguments: 'linear_map_param_1' and 'linear_map_param_2'"
     ]
    }
   ],
   "source": [
    "calculate_receptive_field_layer_no_batch_norm(activations)\n",
    "print(activations.shape)"
   ]
  },
  {
   "cell_type": "code",
   "execution_count": 38,
   "metadata": {},
   "outputs": [
    {
     "name": "stdout",
     "output_type": "stream",
     "text": [
      "torch.Size([5, 2, 2, 2])\n"
     ]
    }
   ],
   "source": [
    "kk=activations.transpose(0,1)\n",
    "print(kk.shape)\n",
    "c =kk.contiguous().view(5, -1)"
   ]
  },
  {
   "cell_type": "code",
   "execution_count": 39,
   "metadata": {},
   "outputs": [
    {
     "data": {
      "text/plain": [
       "torch.Size([5, 8])"
      ]
     },
     "execution_count": 39,
     "metadata": {},
     "output_type": "execute_result"
    }
   ],
   "source": [
    "c.shape"
   ]
  },
  {
   "cell_type": "code",
   "execution_count": 40,
   "metadata": {},
   "outputs": [
    {
     "data": {
      "text/plain": [
       "tensor([11.8014,  8.3354, 11.8382, 13.5706, 13.5706])"
      ]
     },
     "execution_count": 40,
     "metadata": {},
     "output_type": "execute_result"
    }
   ],
   "source": [
    "B = torch.mean(c,1)\n",
    "c.std(1)"
   ]
  },
  {
   "cell_type": "code",
   "execution_count": 41,
   "metadata": {},
   "outputs": [
    {
     "name": "stdout",
     "output_type": "stream",
     "text": [
      "tensor([[[[ -1.4883,   1.5331],\n",
      "          [  1.3515, -14.5159]],\n",
      "\n",
      "         [[  3.7410,   9.9899],\n",
      "          [ -2.9278,  -4.1096]],\n",
      "\n",
      "         [[-28.9301,   4.9425],\n",
      "          [ -3.6189,   0.0523]],\n",
      "\n",
      "         [[-13.0393,  27.1812],\n",
      "          [ 18.0646,  -0.0906]],\n",
      "\n",
      "         [[-13.0393,  27.1812],\n",
      "          [ 18.0646,  -0.0906]]],\n",
      "\n",
      "\n",
      "        [[[-20.0256, -27.7341],\n",
      "          [  4.4577,  -2.9896]],\n",
      "\n",
      "         [[-19.3353,  -2.7643],\n",
      "          [ -0.1280,  -1.9527]],\n",
      "\n",
      "         [[ -7.0356, -22.2357],\n",
      "          [  1.2545,  -6.3595]],\n",
      "\n",
      "         [[-10.5295,   0.4721],\n",
      "          [ -0.5041,  -0.1237]],\n",
      "\n",
      "         [[-10.5295,   0.4721],\n",
      "          [ -0.5041,  -0.1237]]]])\n",
      "torch.Size([2, 5, 2, 2])\n"
     ]
    }
   ],
   "source": [
    "print(activations)\n",
    "print(activations.shape)"
   ]
  },
  {
   "cell_type": "code",
   "execution_count": 42,
   "metadata": {},
   "outputs": [
    {
     "name": "stdout",
     "output_type": "stream",
     "text": [
      "tensor([[[[ -1.4883,   3.7410, -28.9301, -13.0393, -13.0393],\n",
      "          [  1.3515,  -2.9278,  -3.6189,  18.0646,  18.0646]],\n",
      "\n",
      "         [[  1.5331,   9.9899,   4.9425,  27.1812,  27.1812],\n",
      "          [-14.5159,  -4.1096,   0.0523,  -0.0906,  -0.0906]]],\n",
      "\n",
      "\n",
      "        [[[-20.0256, -19.3353,  -7.0356, -10.5295, -10.5295],\n",
      "          [  4.4577,  -0.1280,   1.2545,  -0.5041,  -0.5041]],\n",
      "\n",
      "         [[-27.7341,  -2.7643, -22.2357,   0.4721,   0.4721],\n",
      "          [ -2.9896,  -1.9527,  -6.3595,  -0.1237,  -0.1237]]]])\n",
      "torch.Size([2, 2, 2, 5])\n"
     ]
    },
    {
     "data": {
      "text/plain": [
       "tensor([[[[-1.4883e+01,  1.5331e+01],\n",
       "          [ 1.3515e+01, -1.4516e+02]],\n",
       "\n",
       "         [[ 3.7410e+00,  9.9899e+00],\n",
       "          [-2.9278e+00, -4.1096e+00]],\n",
       "\n",
       "         [[-2.8930e+01,  4.9425e+00],\n",
       "          [-3.6189e+00,  5.2256e-02]],\n",
       "\n",
       "         [[-1.3039e+01,  2.7181e+01],\n",
       "          [ 1.8065e+01, -9.0637e-02]],\n",
       "\n",
       "         [[-1.3039e+01,  2.7181e+01],\n",
       "          [ 1.8065e+01, -9.0637e-02]]],\n",
       "\n",
       "\n",
       "        [[[-2.0026e+02, -2.7734e+02],\n",
       "          [ 4.4577e+01, -2.9896e+01]],\n",
       "\n",
       "         [[-1.9335e+01, -2.7643e+00],\n",
       "          [-1.2796e-01, -1.9527e+00]],\n",
       "\n",
       "         [[-7.0356e+00, -2.2236e+01],\n",
       "          [ 1.2545e+00, -6.3595e+00]],\n",
       "\n",
       "         [[-1.0530e+01,  4.7210e-01],\n",
       "          [-5.0414e-01, -1.2368e-01]],\n",
       "\n",
       "         [[-1.0530e+01,  4.7210e-01],\n",
       "          [-5.0414e-01, -1.2368e-01]]]])"
      ]
     },
     "execution_count": 42,
     "metadata": {},
     "output_type": "execute_result"
    }
   ],
   "source": [
    "kk=activations.transpose(1,3)\n",
    "print(kk)\n",
    "print(kk.shape)\n",
    "activations.transpose(1,3).div(torch.Tensor([0.1,1,1,1,1])).transpose(1,3)"
   ]
  },
  {
   "cell_type": "code",
   "execution_count": 43,
   "metadata": {},
   "outputs": [
    {
     "name": "stdout",
     "output_type": "stream",
     "text": [
      "tensor([[[[-1.9765e+00,  4.0661e+00],\n",
      "          [ 3.7031e+00, -2.8032e+01]],\n",
      "\n",
      "         [[ 8.4820e+00,  2.0980e+01],\n",
      "          [-4.8555e+00, -7.2192e+00]],\n",
      "\n",
      "         [[-5.6860e+01,  1.0885e+01],\n",
      "          [-6.2378e+00,  1.1045e+00]],\n",
      "\n",
      "         [[-2.5079e+01,  5.5362e+01],\n",
      "          [ 3.7129e+01,  8.1873e-01]],\n",
      "\n",
      "         [[-2.5079e+01,  5.5362e+01],\n",
      "          [ 3.7129e+01,  8.1873e-01]]],\n",
      "\n",
      "\n",
      "        [[[-3.9051e+01, -5.4468e+01],\n",
      "          [ 9.9155e+00, -4.9792e+00]],\n",
      "\n",
      "         [[-3.7671e+01, -4.5285e+00],\n",
      "          [ 7.4408e-01, -2.9053e+00]],\n",
      "\n",
      "         [[-1.3071e+01, -4.3471e+01],\n",
      "          [ 3.5089e+00, -1.1719e+01]],\n",
      "\n",
      "         [[-2.0059e+01,  1.9442e+00],\n",
      "          [-8.2822e-03,  7.5263e-01]],\n",
      "\n",
      "         [[-2.0059e+01,  1.9442e+00],\n",
      "          [-8.2822e-03,  7.5263e-01]]]])\n"
     ]
    }
   ],
   "source": [
    "receptive_fields = 2.0 * activations + 1.0\n",
    "print(receptive_fields)"
   ]
  },
  {
   "cell_type": "code",
   "execution_count": 44,
   "metadata": {},
   "outputs": [
    {
     "name": "stdout",
     "output_type": "stream",
     "text": [
      "tensor([[[[1.2169e-01, 9.8315e-01],\n",
      "          [9.7595e-01, 6.6975e-13]],\n",
      "\n",
      "         [[9.9979e-01, 1.0000e+00],\n",
      "          [7.7250e-03, 7.3187e-04]],\n",
      "\n",
      "         [[2.0228e-25, 9.9998e-01],\n",
      "          [1.9503e-03, 7.5110e-01]],\n",
      "\n",
      "         [[1.2837e-11, 1.0000e+00],\n",
      "          [1.0000e+00, 6.9397e-01]],\n",
      "\n",
      "         [[1.2837e-11, 1.0000e+00],\n",
      "          [1.0000e+00, 6.9397e-01]]],\n",
      "\n",
      "\n",
      "        [[[1.0971e-17, 2.2117e-24],\n",
      "          [9.9995e-01, 6.8325e-03]],\n",
      "\n",
      "         [[4.3642e-17, 1.0681e-02],\n",
      "          [6.7789e-01, 5.1890e-02]],\n",
      "\n",
      "         [[2.1050e-06, 1.3202e-19],\n",
      "          [9.7094e-01, 8.1370e-06]],\n",
      "\n",
      "         [[1.9430e-09, 8.7481e-01],\n",
      "          [4.9793e-01, 6.7975e-01]],\n",
      "\n",
      "         [[1.9430e-09, 8.7481e-01],\n",
      "          [4.9793e-01, 6.7975e-01]]]])\n"
     ]
    }
   ],
   "source": [
    "receptive_fields = torch.sigmoid(receptive_fields)\n",
    "print(receptive_fields)"
   ]
  },
  {
   "cell_type": "code",
   "execution_count": 45,
   "metadata": {},
   "outputs": [],
   "source": [
    "receptive_fields.shape\n",
    "receptive_fields= receptive_fields.transpose(1, 3).add(torch.Tensor([0.1,1,1,1,2])).transpose(1,3)"
   ]
  },
  {
   "cell_type": "code",
   "execution_count": 46,
   "metadata": {},
   "outputs": [
    {
     "name": "stdout",
     "output_type": "stream",
     "text": [
      "tensor([[[[0.2217, 1.0831],\n",
      "          [1.0759, 0.1000]],\n",
      "\n",
      "         [[1.9998, 2.0000],\n",
      "          [1.0077, 1.0007]],\n",
      "\n",
      "         [[1.0000, 2.0000],\n",
      "          [1.0020, 1.7511]],\n",
      "\n",
      "         [[1.0000, 2.0000],\n",
      "          [2.0000, 1.6940]],\n",
      "\n",
      "         [[2.0000, 3.0000],\n",
      "          [3.0000, 2.6940]]],\n",
      "\n",
      "\n",
      "        [[[0.1000, 0.1000],\n",
      "          [1.1000, 0.1068]],\n",
      "\n",
      "         [[1.0000, 1.0107],\n",
      "          [1.6779, 1.0519]],\n",
      "\n",
      "         [[1.0000, 1.0000],\n",
      "          [1.9709, 1.0000]],\n",
      "\n",
      "         [[1.0000, 1.8748],\n",
      "          [1.4979, 1.6798]],\n",
      "\n",
      "         [[2.0000, 2.8748],\n",
      "          [2.4979, 2.6798]]]])\n"
     ]
    }
   ],
   "source": [
    "print(receptive_fields)"
   ]
  },
  {
   "cell_type": "code",
   "execution_count": 47,
   "metadata": {},
   "outputs": [
    {
     "name": "stdout",
     "output_type": "stream",
     "text": [
      "torch.Size([2, 5, 2, 2])\n"
     ]
    }
   ],
   "source": [
    "print(receptive_fields.shape)"
   ]
  },
  {
   "cell_type": "code",
   "execution_count": 48,
   "metadata": {},
   "outputs": [
    {
     "name": "stdout",
     "output_type": "stream",
     "text": [
      "[tensor([[[[ -1.4883,   1.5331],\n",
      "          [  1.3515, -14.5159]],\n",
      "\n",
      "         [[  3.7410,   9.9899],\n",
      "          [ -2.9278,  -4.1096]]],\n",
      "\n",
      "\n",
      "        [[[-20.0256, -27.7341],\n",
      "          [  4.4577,  -2.9896]],\n",
      "\n",
      "         [[-19.3353,  -2.7643],\n",
      "          [ -0.1280,  -1.9527]]]]), tensor([[[[-28.9301,   4.9425],\n",
      "          [ -3.6189,   0.0523]],\n",
      "\n",
      "         [[-13.0393,  27.1812],\n",
      "          [ 18.0646,  -0.0906]]],\n",
      "\n",
      "\n",
      "        [[[ -7.0356, -22.2357],\n",
      "          [  1.2545,  -6.3595]],\n",
      "\n",
      "         [[-10.5295,   0.4721],\n",
      "          [ -0.5041,  -0.1237]]]]), tensor([[[[-13.0393,  27.1812],\n",
      "          [ 18.0646,  -0.0906]]],\n",
      "\n",
      "\n",
      "        [[[-10.5295,   0.4721],\n",
      "          [ -0.5041,  -0.1237]]]])]\n"
     ]
    }
   ],
   "source": [
    "groups = torch.split(activations, 2, dim=1)\n",
    "groups = list(groups)\n",
    "print(groups)"
   ]
  },
  {
   "cell_type": "markdown",
   "metadata": {},
   "source": [
    "### Test regularizer on activations in layer"
   ]
  },
  {
   "cell_type": "markdown",
   "metadata": {},
   "source": [
    "#### calculate the numerator"
   ]
  },
  {
   "cell_type": "code",
   "execution_count": 49,
   "metadata": {},
   "outputs": [
    {
     "name": "stdout",
     "output_type": "stream",
     "text": [
      "torch.Size([2, 2, 2, 2])\n",
      "tensor([[[[ -1.4883,   1.5331],\n",
      "          [  1.3515, -14.5159]],\n",
      "\n",
      "         [[  3.7410,   9.9899],\n",
      "          [ -2.9278,  -4.1096]]],\n",
      "\n",
      "\n",
      "        [[[-20.0256, -27.7341],\n",
      "          [  4.4577,  -2.9896]],\n",
      "\n",
      "         [[-19.3353,  -2.7643],\n",
      "          [ -0.1280,  -1.9527]]]])\n"
     ]
    }
   ],
   "source": [
    "print(groups[0].shape)\n",
    "print(groups[0])"
   ]
  },
  {
   "cell_type": "code",
   "execution_count": 50,
   "metadata": {},
   "outputs": [
    {
     "name": "stdout",
     "output_type": "stream",
     "text": [
      "torch.Size([2, 2, 2, 2])\n"
     ]
    }
   ],
   "source": [
    "difference_tensor = torch.sub(groups[0], groups[0][0][0])\n",
    "difference_tensor_2 = torch.sub(groups[1], groups[1][0][0])\n",
    "print(difference_tensor.shape)"
   ]
  },
  {
   "cell_type": "code",
   "execution_count": 51,
   "metadata": {},
   "outputs": [
    {
     "name": "stdout",
     "output_type": "stream",
     "text": [
      "tensor(126.9959)\n",
      "tensor(146.4753)\n"
     ]
    }
   ],
   "source": [
    "print(difference_tensor.norm(1))\n",
    "print(difference_tensor_2.norm(1))\n"
   ]
  },
  {
   "cell_type": "code",
   "execution_count": 52,
   "metadata": {},
   "outputs": [
    {
     "data": {
      "text/plain": [
       "tensor([[[[  0.0000,   0.0000],\n",
       "          [  0.0000,   0.0000]],\n",
       "\n",
       "         [[  5.2293,   8.4568],\n",
       "          [ -4.2793,  10.4064]]],\n",
       "\n",
       "\n",
       "        [[[-18.5374, -29.2672],\n",
       "          [  3.1062,  11.5263]],\n",
       "\n",
       "         [[-17.8470,  -4.2973],\n",
       "          [ -1.4795,  12.5633]]]])"
      ]
     },
     "execution_count": 52,
     "metadata": {},
     "output_type": "execute_result"
    }
   ],
   "source": [
    "difference_tensor"
   ]
  },
  {
   "cell_type": "code",
   "execution_count": 53,
   "metadata": {},
   "outputs": [
    {
     "name": "stdout",
     "output_type": "stream",
     "text": [
      "tensor([[[ 0.0000,  0.0000],\n",
      "         [ 0.0000,  0.0000]],\n",
      "\n",
      "        [[ 5.2293,  8.4568],\n",
      "         [-4.2793, 10.4064]]])\n",
      "tensor([[[ 0.0000,  0.0000],\n",
      "         [ 0.0000,  0.0000]],\n",
      "\n",
      "        [[ 0.6904, 24.9699],\n",
      "         [-4.5857,  1.0369]]])\n",
      "tensor([[[ 0.0000,  0.0000],\n",
      "         [ 0.0000,  0.0000]],\n",
      "\n",
      "        [[15.8907, 22.2387],\n",
      "         [21.6835, -0.1429]]])\n",
      "tensor([[[ 0.0000,  0.0000],\n",
      "         [ 0.0000,  0.0000]],\n",
      "\n",
      "        [[-3.4939, 22.7078],\n",
      "         [-1.7586,  6.2359]]])\n"
     ]
    }
   ],
   "source": [
    "input = torch.empty(2)\n",
    "l1_norms = torch.zeros_like(input)\n",
    "batch_size = 2\n",
    "for i in range(0, 2):\n",
    "    current_group = groups[i]\n",
    "    norm = torch.zeros(1)\n",
    "    \n",
    "    for j in range(0, 2):\n",
    "        difference_tensor = torch.sub(current_group[j], current_group[j][0])\n",
    "        print(difference_tensor)\n",
    "        norm = norm  + difference_tensor.norm(1)\n",
    "    \n",
    "    #difference_tensor = torch.sub(current_group, current_group[0][0])\n",
    "    l1_norms[i] = norm"
   ]
  },
  {
   "cell_type": "code",
   "execution_count": 54,
   "metadata": {},
   "outputs": [
    {
     "data": {
      "text/plain": [
       "tensor([59.6546, 94.1519])"
      ]
     },
     "execution_count": 54,
     "metadata": {},
     "output_type": "execute_result"
    }
   ],
   "source": [
    "l1_norms"
   ]
  },
  {
   "cell_type": "code",
   "execution_count": 55,
   "metadata": {},
   "outputs": [
    {
     "data": {
      "text/plain": [
       "tensor([[[[-28.9301,   4.9425],\n",
       "          [ -3.6189,   0.0523]],\n",
       "\n",
       "         [[-13.0393,  27.1812],\n",
       "          [ 18.0646,  -0.0906]]],\n",
       "\n",
       "\n",
       "        [[[ -7.0356, -22.2357],\n",
       "          [  1.2545,  -6.3595]],\n",
       "\n",
       "         [[-10.5295,   0.4721],\n",
       "          [ -0.5041,  -0.1237]]]])"
      ]
     },
     "execution_count": 55,
     "metadata": {},
     "output_type": "execute_result"
    }
   ],
   "source": [
    "current_group"
   ]
  },
  {
   "cell_type": "code",
   "execution_count": 56,
   "metadata": {},
   "outputs": [
    {
     "data": {
      "text/plain": [
       "torch.Size([2, 2])"
      ]
     },
     "execution_count": 56,
     "metadata": {},
     "output_type": "execute_result"
    }
   ],
   "source": [
    "current_group[0][0].shape"
   ]
  },
  {
   "cell_type": "code",
   "execution_count": 57,
   "metadata": {},
   "outputs": [
    {
     "data": {
      "text/plain": [
       "tensor([[[ 0.0000,  0.0000],\n",
       "         [ 0.0000,  0.0000]],\n",
       "\n",
       "        [[-3.4939, 22.7078],\n",
       "         [-1.7586,  6.2359]]])"
      ]
     },
     "execution_count": 57,
     "metadata": {},
     "output_type": "execute_result"
    }
   ],
   "source": [
    "difference_tensor"
   ]
  },
  {
   "cell_type": "markdown",
   "metadata": {},
   "source": [
    "### calculate with denominator"
   ]
  },
  {
   "cell_type": "code",
   "execution_count": 58,
   "metadata": {},
   "outputs": [
    {
     "name": "stdout",
     "output_type": "stream",
     "text": [
      "torch.Size([2, 2, 2, 2])\n",
      "[tensor([[[[ -1.4883,   1.5331],\n",
      "          [  1.3515, -14.5159]],\n",
      "\n",
      "         [[  3.7410,   9.9899],\n",
      "          [ -2.9278,  -4.1096]]],\n",
      "\n",
      "\n",
      "        [[[-20.0256, -27.7341],\n",
      "          [  4.4577,  -2.9896]],\n",
      "\n",
      "         [[-19.3353,  -2.7643],\n",
      "          [ -0.1280,  -1.9527]]]]), tensor([[[[-28.9301,   4.9425],\n",
      "          [ -3.6189,   0.0523]],\n",
      "\n",
      "         [[-13.0393,  27.1812],\n",
      "          [ 18.0646,  -0.0906]]],\n",
      "\n",
      "\n",
      "        [[[ -7.0356, -22.2357],\n",
      "          [  1.2545,  -6.3595]],\n",
      "\n",
      "         [[-10.5295,   0.4721],\n",
      "          [ -0.5041,  -0.1237]]]]), tensor([[[[-13.0393,  27.1812],\n",
      "          [ 18.0646,  -0.0906]]],\n",
      "\n",
      "\n",
      "        [[[-10.5295,   0.4721],\n",
      "          [ -0.5041,  -0.1237]]]])]\n"
     ]
    }
   ],
   "source": [
    "print(groups[0].shape)\n",
    "print(groups)"
   ]
  },
  {
   "cell_type": "code",
   "execution_count": 59,
   "metadata": {},
   "outputs": [
    {
     "name": "stdout",
     "output_type": "stream",
     "text": [
      "torch.Size([2, 2, 2])\n",
      "tensor([[ 0.0000,  0.0000,  0.0000,  0.0000],\n",
      "        [ 5.2293,  8.4568, -4.2793, 10.4064]])\n",
      "torch.Size([2, 2, 2])\n",
      "tensor([[ 0.0000,  0.0000,  0.0000,  0.0000],\n",
      "        [ 0.6904, 24.9699, -4.5857,  1.0369]])\n",
      "torch.Size([2, 2, 2])\n",
      "tensor([[ 0.0000,  0.0000,  0.0000,  0.0000],\n",
      "        [15.8907, 22.2387, 21.6835, -0.1429]])\n",
      "torch.Size([2, 2, 2])\n",
      "tensor([[ 0.0000,  0.0000,  0.0000,  0.0000],\n",
      "        [-3.4939, 22.7078, -1.7586,  6.2359]])\n"
     ]
    }
   ],
   "source": [
    "input = torch.empty(2)\n",
    "l1_norms = torch.zeros_like(input)\n",
    "for i in range(0, 2):\n",
    "    current_group = groups[i]\n",
    "    # print(current_group.size())\n",
    "    current_norm = torch.zeros(1)\n",
    "    for j in range(0, 2):\n",
    "        current_map_set = current_group[j]  \n",
    "        print(current_map_set.shape)\n",
    "        num = current_group.size(0)\n",
    "        # print(num)\n",
    "        sub_tensor = current_map_set.contiguous().view(num, -1)\n",
    "        # print(sub_tensor.shape)\n",
    "        sub_tensor_2 = current_map_set[0].view(-1,4)\n",
    "        # print(sub_tensor_2.shape)\n",
    "        difference_tensor = torch.sub(sub_tensor, sub_tensor_2)\n",
    "        print(difference_tensor)\n",
    "        num_tensor = difference_tensor.norm(1, dim=1)\n",
    "        denom_tensor = torch.add(sub_tensor.norm(1, dim=1), sub_tensor_2.norm(1))\n",
    "        value_tensor = torch.div(num_tensor, denom_tensor).norm(1)\n",
    "        current_norm = current_norm + value_tensor\n",
    "    l1_norms[i] = current_norm"
   ]
  },
  {
   "cell_type": "code",
   "execution_count": 60,
   "metadata": {},
   "outputs": [
    {
     "name": "stdout",
     "output_type": "stream",
     "text": [
      "tensor([[ -7.0356, -22.2357,   1.2545,  -6.3595],\n",
      "        [-10.5295,   0.4721,  -0.5041,  -0.1237]])\n"
     ]
    }
   ],
   "source": [
    "print(sub_tensor)"
   ]
  },
  {
   "cell_type": "code",
   "execution_count": 61,
   "metadata": {},
   "outputs": [
    {
     "name": "stdout",
     "output_type": "stream",
     "text": [
      "tensor([73.7705, 48.5147])\n"
     ]
    }
   ],
   "source": [
    "print(denom_tensor)"
   ]
  },
  {
   "cell_type": "code",
   "execution_count": 62,
   "metadata": {},
   "outputs": [
    {
     "name": "stdout",
     "output_type": "stream",
     "text": [
      "tensor([ 0.0000, 34.1961])\n"
     ]
    }
   ],
   "source": [
    "print(num_tensor)"
   ]
  },
  {
   "cell_type": "code",
   "execution_count": 63,
   "metadata": {},
   "outputs": [
    {
     "data": {
      "text/plain": [
       "tensor([1.1095, 1.3299])"
      ]
     },
     "execution_count": 63,
     "metadata": {},
     "output_type": "execute_result"
    }
   ],
   "source": [
    "l1_norms"
   ]
  },
  {
   "cell_type": "code",
   "execution_count": 64,
   "metadata": {},
   "outputs": [
    {
     "data": {
      "text/plain": [
       "tensor([1.1095, 1.3299])"
      ]
     },
     "execution_count": 64,
     "metadata": {},
     "output_type": "execute_result"
    }
   ],
   "source": [
    "l1_norms"
   ]
  },
  {
   "cell_type": "code",
   "execution_count": 65,
   "metadata": {},
   "outputs": [
    {
     "data": {
      "text/plain": [
       "tensor([[ 0.0000,  0.0000,  0.0000,  0.0000],\n",
       "        [-3.4939, 22.7078, -1.7586,  6.2359]])"
      ]
     },
     "execution_count": 65,
     "metadata": {},
     "output_type": "execute_result"
    }
   ],
   "source": [
    "difference_tensor"
   ]
  },
  {
   "cell_type": "code",
   "execution_count": 66,
   "metadata": {},
   "outputs": [
    {
     "data": {
      "text/plain": [
       "tensor([ 0.0000, 34.1961])"
      ]
     },
     "execution_count": 66,
     "metadata": {},
     "output_type": "execute_result"
    }
   ],
   "source": [
    "difference_tensor.norm(1, dim=1)"
   ]
  },
  {
   "cell_type": "markdown",
   "metadata": {},
   "source": [
    "### Activation regularizer across a pair of layer"
   ]
  },
  {
   "cell_type": "code",
   "execution_count": 67,
   "metadata": {},
   "outputs": [
    {
     "data": {
      "text/plain": [
       "torch.Size([2, 5, 3, 3])"
      ]
     },
     "execution_count": 67,
     "metadata": {},
     "output_type": "execute_result"
    }
   ],
   "source": [
    "# our first set of activations are : <activations>\n",
    "#create second set of activations\n",
    "inputs = torch.randn(2,2,5,5)\n",
    "activations_set2 = F.conv2d(inputs,mock_filter_combined)\n",
    "activations_set2.shape"
   ]
  },
  {
   "cell_type": "code",
   "execution_count": 68,
   "metadata": {},
   "outputs": [
    {
     "name": "stdout",
     "output_type": "stream",
     "text": [
      "torch.Size([2, 5, 2, 2])\n"
     ]
    }
   ],
   "source": [
    "print(activations.shape)"
   ]
  },
  {
   "cell_type": "code",
   "execution_count": 69,
   "metadata": {},
   "outputs": [],
   "source": [
    "maps_per_group = int(len(activations_set2[1]) / 2)\n",
    "#print(maps_per_group)\n",
    "activation_groups = torch.split(activations_set2, 2, dim=1)\n",
    "activation_groups = list(activation_groups)"
   ]
  },
  {
   "cell_type": "code",
   "execution_count": 70,
   "metadata": {},
   "outputs": [
    {
     "data": {
      "text/plain": [
       "[tensor([[[[ -4.5527, -18.1321,  16.7374],\n",
       "           [-28.2286, -23.0370,  -6.3070],\n",
       "           [-24.6740, -32.5130, -16.3835]],\n",
       " \n",
       "          [[-19.3668, -18.4149,  25.9876],\n",
       "           [-19.5884, -31.2367,  -0.7901],\n",
       "           [-19.3203, -58.2871,   0.1974]]],\n",
       " \n",
       " \n",
       "         [[[ -0.3672, -20.0485, -32.0842],\n",
       "           [ 19.9001,  -1.1771, -26.2464],\n",
       "           [ 15.1241,   2.3370,  -9.4676]],\n",
       " \n",
       "          [[ 11.1805,   6.6425, -32.4661],\n",
       "           [ 32.9930,  -5.7652, -47.9725],\n",
       "           [ 22.8655, -16.8197, -35.0720]]]]),\n",
       " tensor([[[[-12.7268,  -1.2030,   2.4297],\n",
       "           [ -5.9311, -26.6071, -16.3488],\n",
       "           [-33.3784,   3.0060, -41.1298]],\n",
       " \n",
       "          [[-14.2059,  -4.0345,  -8.9748],\n",
       "           [  6.9010, -30.6611,  11.7742],\n",
       "           [-20.9535, -16.3840,  -4.6613]]],\n",
       " \n",
       " \n",
       "         [[[ -4.1640,   0.6039,  -7.7638],\n",
       "           [ 12.7781,  13.2537, -11.0101],\n",
       "           [ -0.2555,  11.8302,  -3.2664]],\n",
       " \n",
       "          [[ 14.4106,   8.2022, -20.8819],\n",
       "           [ 21.5114,  -9.3410, -20.3266],\n",
       "           [  3.0711,  -8.0774, -18.7296]]]]),\n",
       " tensor([[[[-14.2059,  -4.0345,  -8.9748],\n",
       "           [  6.9010, -30.6611,  11.7742],\n",
       "           [-20.9535, -16.3840,  -4.6613]]],\n",
       " \n",
       " \n",
       "         [[[ 14.4106,   8.2022, -20.8819],\n",
       "           [ 21.5114,  -9.3410, -20.3266],\n",
       "           [  3.0711,  -8.0774, -18.7296]]]])]"
      ]
     },
     "execution_count": 70,
     "metadata": {},
     "output_type": "execute_result"
    }
   ],
   "source": [
    "activation_groups"
   ]
  },
  {
   "cell_type": "code",
   "execution_count": 71,
   "metadata": {},
   "outputs": [],
   "source": [
    "maps_per_group = int(len(activations[1]) / 2)\n",
    "#print(maps_per_group)\n",
    "activation_groups_layer_1 = torch.split(activations, 2, dim=1)\n",
    "activation_groups_layer_1 = list(activation_groups_layer_1)"
   ]
  },
  {
   "cell_type": "code",
   "execution_count": 72,
   "metadata": {},
   "outputs": [
    {
     "data": {
      "text/plain": [
       "[tensor([[[[ -1.4883,   1.5331],\n",
       "           [  1.3515, -14.5159]],\n",
       " \n",
       "          [[  3.7410,   9.9899],\n",
       "           [ -2.9278,  -4.1096]]],\n",
       " \n",
       " \n",
       "         [[[-20.0256, -27.7341],\n",
       "           [  4.4577,  -2.9896]],\n",
       " \n",
       "          [[-19.3353,  -2.7643],\n",
       "           [ -0.1280,  -1.9527]]]]), tensor([[[[-28.9301,   4.9425],\n",
       "           [ -3.6189,   0.0523]],\n",
       " \n",
       "          [[-13.0393,  27.1812],\n",
       "           [ 18.0646,  -0.0906]]],\n",
       " \n",
       " \n",
       "         [[[ -7.0356, -22.2357],\n",
       "           [  1.2545,  -6.3595]],\n",
       " \n",
       "          [[-10.5295,   0.4721],\n",
       "           [ -0.5041,  -0.1237]]]]), tensor([[[[-13.0393,  27.1812],\n",
       "           [ 18.0646,  -0.0906]]],\n",
       " \n",
       " \n",
       "         [[[-10.5295,   0.4721],\n",
       "           [ -0.5041,  -0.1237]]]])]"
      ]
     },
     "execution_count": 72,
     "metadata": {},
     "output_type": "execute_result"
    }
   ],
   "source": [
    "activation_groups_layer_1"
   ]
  },
  {
   "cell_type": "code",
   "execution_count": 73,
   "metadata": {},
   "outputs": [],
   "source": [
    "input = torch.empty(2)\n",
    "groupwise_activation_norms = torch.zeros_like(input)"
   ]
  },
  {
   "cell_type": "code",
   "execution_count": 74,
   "metadata": {},
   "outputs": [
    {
     "ename": "RuntimeError",
     "evalue": "The size of tensor a (9) must match the size of tensor b (4) at non-singleton dimension 1",
     "output_type": "error",
     "traceback": [
      "\u001b[0;31m---------------------------------------------------------------------------\u001b[0m",
      "\u001b[0;31mRuntimeError\u001b[0m                              Traceback (most recent call last)",
      "\u001b[0;32m<ipython-input-74-f81e235d874b>\u001b[0m in \u001b[0;36m<module>\u001b[0;34m\u001b[0m\n\u001b[1;32m     10\u001b[0m     \u001b[0mfirst_map_row_view\u001b[0m \u001b[0;34m=\u001b[0m  \u001b[0mcurrent_group_layer_1\u001b[0m\u001b[0;34m[\u001b[0m\u001b[0;36m0\u001b[0m\u001b[0;34m]\u001b[0m\u001b[0;34m[\u001b[0m\u001b[0;36m0\u001b[0m\u001b[0;34m]\u001b[0m\u001b[0;34m.\u001b[0m\u001b[0mview\u001b[0m\u001b[0;34m(\u001b[0m\u001b[0;34m-\u001b[0m\u001b[0;36m1\u001b[0m\u001b[0;34m,\u001b[0m \u001b[0msize_of_map_layer_1\u001b[0m\u001b[0;34m)\u001b[0m  \u001b[0;31m# shape: 1 X (Height * Width)\u001b[0m\u001b[0;34m\u001b[0m\u001b[0;34m\u001b[0m\u001b[0m\n\u001b[1;32m     11\u001b[0m \u001b[0;34m\u001b[0m\u001b[0m\n\u001b[0;32m---> 12\u001b[0;31m     \u001b[0mdifference_tensor\u001b[0m \u001b[0;34m=\u001b[0m \u001b[0mtorch\u001b[0m\u001b[0;34m.\u001b[0m\u001b[0msub\u001b[0m\u001b[0;34m(\u001b[0m\u001b[0mmap_per_row_view\u001b[0m\u001b[0;34m,\u001b[0m \u001b[0mfirst_map_row_view\u001b[0m\u001b[0;34m)\u001b[0m\u001b[0;34m\u001b[0m\u001b[0;34m\u001b[0m\u001b[0m\n\u001b[0m\u001b[1;32m     13\u001b[0m     \u001b[0mnumerator_tensor\u001b[0m \u001b[0;34m=\u001b[0m \u001b[0mdifference_tensor\u001b[0m\u001b[0;34m.\u001b[0m\u001b[0mnorm\u001b[0m\u001b[0;34m(\u001b[0m\u001b[0;36m1\u001b[0m\u001b[0;34m,\u001b[0m \u001b[0mdim\u001b[0m\u001b[0;34m=\u001b[0m\u001b[0;36m1\u001b[0m\u001b[0;34m)\u001b[0m\u001b[0;34m\u001b[0m\u001b[0;34m\u001b[0m\u001b[0m\n\u001b[1;32m     14\u001b[0m     \u001b[0mdenominator_tensor\u001b[0m \u001b[0;34m=\u001b[0m \u001b[0mtorch\u001b[0m\u001b[0;34m.\u001b[0m\u001b[0madd\u001b[0m\u001b[0;34m(\u001b[0m\u001b[0mmap_per_row_view\u001b[0m\u001b[0;34m.\u001b[0m\u001b[0mnorm\u001b[0m\u001b[0;34m(\u001b[0m\u001b[0;36m1\u001b[0m\u001b[0;34m,\u001b[0m \u001b[0mdim\u001b[0m\u001b[0;34m=\u001b[0m\u001b[0;36m1\u001b[0m\u001b[0;34m)\u001b[0m\u001b[0;34m,\u001b[0m \u001b[0mfirst_map_row_view\u001b[0m\u001b[0;34m.\u001b[0m\u001b[0mnorm\u001b[0m\u001b[0;34m(\u001b[0m\u001b[0;36m1\u001b[0m\u001b[0;34m)\u001b[0m\u001b[0;34m)\u001b[0m\u001b[0;34m\u001b[0m\u001b[0;34m\u001b[0m\u001b[0m\n",
      "\u001b[0;31mRuntimeError\u001b[0m: The size of tensor a (9) must match the size of tensor b (4) at non-singleton dimension 1"
     ]
    }
   ],
   "source": [
    "for i in range(0, 2):\n",
    "    current_group = activation_groups[i]\n",
    "    current_group_layer_1 = activation_groups_layer_1[i]\n",
    "    \n",
    "    num = current_group.size(0) * current_group.size(1)\n",
    "    size_of_map = current_group.size(2) * current_group.size(3)\n",
    "    size_of_map_layer_1 = current_group_layer_1.size(2) * current_group_layer_1.size(3)\n",
    "    \n",
    "    map_per_row_view = current_group.contiguous().view(num, -1)       # shape: (Batches*Channels) X (Height * Width)\n",
    "    first_map_row_view =  current_group_layer_1[0][0].view(-1, size_of_map_layer_1)  # shape: 1 X (Height * Width)\n",
    "    \n",
    "    difference_tensor = torch.sub(map_per_row_view, first_map_row_view)\n",
    "    numerator_tensor = difference_tensor.norm(1, dim=1)\n",
    "    denominator_tensor = torch.add(map_per_row_view.norm(1, dim=1), first_map_row_view.norm(1))\n",
    "    groupwise_activation_norms[i] = torch.div(numerator_tensor, denominator_tensor).sum()"
   ]
  },
  {
   "cell_type": "code",
   "execution_count": 75,
   "metadata": {},
   "outputs": [
    {
     "data": {
      "text/plain": [
       "torch.Size([2, 2, 3, 3])"
      ]
     },
     "execution_count": 75,
     "metadata": {},
     "output_type": "execute_result"
    }
   ],
   "source": [
    "activation_groups[i].shape"
   ]
  },
  {
   "cell_type": "code",
   "execution_count": 76,
   "metadata": {},
   "outputs": [
    {
     "data": {
      "text/plain": [
       "torch.Size([2, 2, 2, 2])"
      ]
     },
     "execution_count": 76,
     "metadata": {},
     "output_type": "execute_result"
    }
   ],
   "source": [
    "activation_groups_layer_1[i].shape"
   ]
  },
  {
   "cell_type": "code",
   "execution_count": 77,
   "metadata": {},
   "outputs": [
    {
     "data": {
      "text/plain": [
       "tensor([[[ -1.4883,   1.5331],\n",
       "         [  1.3515, -14.5159]]])"
      ]
     },
     "execution_count": 77,
     "metadata": {},
     "output_type": "execute_result"
    }
   ],
   "source": [
    "activation_groups_layer_1[i][0][0].unsqueeze(0)"
   ]
  },
  {
   "cell_type": "markdown",
   "metadata": {},
   "source": [
    "### Comparing two neurons from different group and same groups:"
   ]
  },
  {
   "cell_type": "code",
   "execution_count": 79,
   "metadata": {},
   "outputs": [
    {
     "ename": "NameError",
     "evalue": "name 'purely_diff_based_measure' is not defined",
     "output_type": "error",
     "traceback": [
      "\u001b[0;31m---------------------------------------------------------------------------\u001b[0m",
      "\u001b[0;31mNameError\u001b[0m                                 Traceback (most recent call last)",
      "\u001b[0;32m<ipython-input-79-5cba5e07508d>\u001b[0m in \u001b[0;36m<module>\u001b[0;34m\u001b[0m\n\u001b[0;32m----> 1\u001b[0;31m \u001b[0mpurely_diff_based_measure\u001b[0m\u001b[0;34m(\u001b[0m\u001b[0;34m)\u001b[0m\u001b[0;34m\u001b[0m\u001b[0;34m\u001b[0m\u001b[0m\n\u001b[0m",
      "\u001b[0;31mNameError\u001b[0m: name 'purely_diff_based_measure' is not defined"
     ]
    }
   ],
   "source": [
    "def purely_diff_based_measure(unit_x, unit_y, feature_maps):\n",
    "    \n",
    "    \n",
    "    "
   ]
  },
  {
   "cell_type": "code",
   "execution_count": 80,
   "metadata": {},
   "outputs": [
    {
     "data": {
      "text/plain": [
       "torch.Size([5, 2, 3, 3])"
      ]
     },
     "execution_count": 80,
     "metadata": {},
     "output_type": "execute_result"
    }
   ],
   "source": [
    "mock_filter_combined.shape"
   ]
  },
  {
   "cell_type": "code",
   "execution_count": 84,
   "metadata": {},
   "outputs": [],
   "source": [
    "inputs = torch.randn(2,2,4,4)"
   ]
  },
  {
   "cell_type": "code",
   "execution_count": 85,
   "metadata": {},
   "outputs": [
    {
     "data": {
      "text/plain": [
       "tensor([[[[ 0.7321, -0.2079,  1.5025, -1.2202],\n",
       "          [-1.6360,  0.2292, -0.3381, -0.0331],\n",
       "          [-0.1250,  1.0014, -0.8525, -0.9578],\n",
       "          [ 1.3452,  1.5831,  0.1439,  0.5800]],\n",
       "\n",
       "         [[ 0.3350,  1.7472,  0.0860, -1.7742],\n",
       "          [-0.9988,  0.2592,  1.5437, -1.2707],\n",
       "          [ 0.8323,  0.9461,  0.7537, -0.0528],\n",
       "          [ 0.5220, -0.6177,  0.5546,  0.3272]]],\n",
       "\n",
       "\n",
       "        [[[-1.5640, -0.6262,  0.4593,  0.3129],\n",
       "          [-0.0613,  0.5867,  1.3038,  0.4860],\n",
       "          [-0.6078,  0.0202, -0.0098,  0.4428],\n",
       "          [-1.0598,  0.9279,  1.4967,  0.0815]],\n",
       "\n",
       "         [[-0.8611,  0.4072, -0.1977,  0.1255],\n",
       "          [ 0.2636, -1.1961,  2.0308, -0.4275],\n",
       "          [-1.0225,  1.0798, -1.1144, -1.6496],\n",
       "          [-0.4293,  2.8448, -0.2664,  0.3503]]]])"
      ]
     },
     "execution_count": 85,
     "metadata": {},
     "output_type": "execute_result"
    }
   ],
   "source": [
    "inputs"
   ]
  },
  {
   "cell_type": "code",
   "execution_count": 86,
   "metadata": {},
   "outputs": [
    {
     "data": {
      "text/plain": [
       "torch.Size([2, 5, 2, 2])"
      ]
     },
     "execution_count": 86,
     "metadata": {},
     "output_type": "execute_result"
    }
   ],
   "source": [
    "activations = F.conv2d(inputs,mock_filter_combined)\n",
    "activations.shape"
   ]
  },
  {
   "cell_type": "code",
   "execution_count": 87,
   "metadata": {},
   "outputs": [
    {
     "data": {
      "text/plain": [
       "tensor([[[[25.5321,  3.9110],\n",
       "          [31.8075, 17.9826]],\n",
       "\n",
       "         [[44.8827, -6.0560],\n",
       "          [46.2906, 10.6101]],\n",
       "\n",
       "         [[14.8567, 17.0462],\n",
       "          [28.0564, 24.9592]],\n",
       "\n",
       "         [[34.9558, -4.6231],\n",
       "          [13.8158, -0.9317]],\n",
       "\n",
       "         [[34.9558, -4.6231],\n",
       "          [13.8158, -0.9317]]],\n",
       "\n",
       "\n",
       "        [[[ 0.9630,  2.2310],\n",
       "          [25.1521, 32.4894]],\n",
       "\n",
       "         [[ 1.6677, 20.9894],\n",
       "          [52.8303, 31.9127]],\n",
       "\n",
       "         [[ 8.2962, -0.9387],\n",
       "          [-2.3180, 53.6844]],\n",
       "\n",
       "         [[13.6379,  8.4810],\n",
       "          [36.4244,  6.9291]],\n",
       "\n",
       "         [[13.6379,  8.4810],\n",
       "          [36.4244,  6.9291]]]])"
      ]
     },
     "execution_count": 87,
     "metadata": {},
     "output_type": "execute_result"
    }
   ],
   "source": [
    "activations"
   ]
  },
  {
   "cell_type": "code",
   "execution_count": 109,
   "metadata": {},
   "outputs": [
    {
     "data": {
      "text/plain": [
       "tensor([[[[25.5321,  3.9110],\n",
       "          [31.8075, 17.9826]],\n",
       "\n",
       "         [[ 0.9630,  2.2310],\n",
       "          [25.1521, 32.4894]]],\n",
       "\n",
       "\n",
       "        [[[44.8827, -6.0560],\n",
       "          [46.2906, 10.6101]],\n",
       "\n",
       "         [[ 1.6677, 20.9894],\n",
       "          [52.8303, 31.9127]]],\n",
       "\n",
       "\n",
       "        [[[14.8567, 17.0462],\n",
       "          [28.0564, 24.9592]],\n",
       "\n",
       "         [[ 8.2962, -0.9387],\n",
       "          [-2.3180, 53.6844]]],\n",
       "\n",
       "\n",
       "        [[[34.9558, -4.6231],\n",
       "          [13.8158, -0.9317]],\n",
       "\n",
       "         [[13.6379,  8.4810],\n",
       "          [36.4244,  6.9291]]],\n",
       "\n",
       "\n",
       "        [[[34.9558, -4.6231],\n",
       "          [13.8158, -0.9317]],\n",
       "\n",
       "         [[13.6379,  8.4810],\n",
       "          [36.4244,  6.9291]]]])"
      ]
     },
     "execution_count": 109,
     "metadata": {},
     "output_type": "execute_result"
    }
   ],
   "source": [
    "std_map_wise"
   ]
  },
  {
   "cell_type": "code",
   "execution_count": 93,
   "metadata": {},
   "outputs": [
    {
     "data": {
      "text/plain": [
       "tensor([[[34.9558, -4.6231],\n",
       "         [13.8158, -0.9317]],\n",
       "\n",
       "        [[13.6379,  8.4810],\n",
       "         [36.4244,  6.9291]]])"
      ]
     },
     "execution_count": 93,
     "metadata": {},
     "output_type": "execute_result"
    }
   ],
   "source": [
    "activations[:,4]"
   ]
  },
  {
   "cell_type": "code",
   "execution_count": 95,
   "metadata": {},
   "outputs": [],
   "source": [
    "unit_x = 0\n",
    "unit_y = 1\n",
    "act_unit_x = activations[:, unit_x]\n",
    "act_unit_y = activations[:, unit_y]"
   ]
  },
  {
   "cell_type": "code",
   "execution_count": 96,
   "metadata": {},
   "outputs": [
    {
     "data": {
      "text/plain": [
       "tensor([[[25.5321,  3.9110],\n",
       "         [31.8075, 17.9826]],\n",
       "\n",
       "        [[ 0.9630,  2.2310],\n",
       "         [25.1521, 32.4894]]])"
      ]
     },
     "execution_count": 96,
     "metadata": {},
     "output_type": "execute_result"
    }
   ],
   "source": [
    "act_unit_x"
   ]
  },
  {
   "cell_type": "code",
   "execution_count": 97,
   "metadata": {},
   "outputs": [
    {
     "data": {
      "text/plain": [
       "tensor([[[44.8827, -6.0560],\n",
       "         [46.2906, 10.6101]],\n",
       "\n",
       "        [[ 1.6677, 20.9894],\n",
       "         [52.8303, 31.9127]]])"
      ]
     },
     "execution_count": 97,
     "metadata": {},
     "output_type": "execute_result"
    }
   ],
   "source": [
    "act_unit_y"
   ]
  },
  {
   "cell_type": "code",
   "execution_count": 98,
   "metadata": {},
   "outputs": [
    {
     "data": {
      "text/plain": [
       "torch.Size([2, 2, 2])"
      ]
     },
     "execution_count": 98,
     "metadata": {},
     "output_type": "execute_result"
    }
   ],
   "source": [
    "act_unit_y.shape"
   ]
  },
  {
   "cell_type": "code",
   "execution_count": 100,
   "metadata": {},
   "outputs": [],
   "source": [
    "number_of_maps = activations.size(1)"
   ]
  },
  {
   "cell_type": "code",
   "execution_count": 102,
   "metadata": {},
   "outputs": [
    {
     "data": {
      "text/plain": [
       "5"
      ]
     },
     "execution_count": 102,
     "metadata": {},
     "output_type": "execute_result"
    }
   ],
   "source": [
    "number_of_maps"
   ]
  },
  {
   "cell_type": "code",
   "execution_count": 110,
   "metadata": {},
   "outputs": [],
   "source": [
    "std_map_wise = activations.transpose(0, 1).contiguous().view(number_of_maps, -1).std(1)"
   ]
  },
  {
   "cell_type": "code",
   "execution_count": 111,
   "metadata": {},
   "outputs": [
    {
     "data": {
      "text/plain": [
       "torch.Size([5])"
      ]
     },
     "execution_count": 111,
     "metadata": {},
     "output_type": "execute_result"
    }
   ],
   "source": [
    "std_map_wise.shape"
   ]
  },
  {
   "cell_type": "code",
   "execution_count": 114,
   "metadata": {},
   "outputs": [
    {
     "data": {
      "text/plain": [
       "tensor([[[[25.5321,  3.9110],\n",
       "          [31.8075, 17.9826]],\n",
       "\n",
       "         [[44.8827, -6.0560],\n",
       "          [46.2906, 10.6101]],\n",
       "\n",
       "         [[14.8567, 17.0462],\n",
       "          [28.0564, 24.9592]],\n",
       "\n",
       "         [[34.9558, -4.6231],\n",
       "          [13.8158, -0.9317]],\n",
       "\n",
       "         [[34.9558, -4.6231],\n",
       "          [13.8158, -0.9317]]],\n",
       "\n",
       "\n",
       "        [[[ 0.9630,  2.2310],\n",
       "          [25.1521, 32.4894]],\n",
       "\n",
       "         [[ 1.6677, 20.9894],\n",
       "          [52.8303, 31.9127]],\n",
       "\n",
       "         [[ 8.2962, -0.9387],\n",
       "          [-2.3180, 53.6844]],\n",
       "\n",
       "         [[13.6379,  8.4810],\n",
       "          [36.4244,  6.9291]],\n",
       "\n",
       "         [[13.6379,  8.4810],\n",
       "          [36.4244,  6.9291]]]])"
      ]
     },
     "execution_count": 114,
     "metadata": {},
     "output_type": "execute_result"
    }
   ],
   "source": [
    "activations"
   ]
  },
  {
   "cell_type": "code",
   "execution_count": 120,
   "metadata": {},
   "outputs": [],
   "source": [
    "receptive_fields = activations.transpose(1, 3).div(std_map_wise).transpose(1, 3)"
   ]
  },
  {
   "cell_type": "code",
   "execution_count": 122,
   "metadata": {},
   "outputs": [
    {
     "data": {
      "text/plain": [
       "torch.Size([2, 5, 2, 2])"
      ]
     },
     "execution_count": 122,
     "metadata": {},
     "output_type": "execute_result"
    }
   ],
   "source": [
    "receptive_fields.shape"
   ]
  },
  {
   "cell_type": "code",
   "execution_count": 123,
   "metadata": {},
   "outputs": [
    {
     "data": {
      "text/plain": [
       "tensor([[[[ 1.9153,  0.2934],\n",
       "          [ 2.3860,  1.3490]],\n",
       "\n",
       "         [[ 2.0360, -0.2747],\n",
       "          [ 2.0999,  0.4813]],\n",
       "\n",
       "         [[ 0.8197,  0.9405],\n",
       "          [ 1.5480,  1.3771]],\n",
       "\n",
       "         [[ 2.3186, -0.3067],\n",
       "          [ 0.9164, -0.0618]],\n",
       "\n",
       "         [[ 2.3186, -0.3067],\n",
       "          [ 0.9164, -0.0618]]],\n",
       "\n",
       "\n",
       "        [[[ 0.0722,  0.1674],\n",
       "          [ 1.8868,  2.4372]],\n",
       "\n",
       "         [[ 0.0757,  0.9521],\n",
       "          [ 2.3965,  1.4476]],\n",
       "\n",
       "         [[ 0.4577, -0.0518],\n",
       "          [-0.1279,  2.9621]],\n",
       "\n",
       "         [[ 0.9046,  0.5625],\n",
       "          [ 2.4160,  0.4596]],\n",
       "\n",
       "         [[ 0.9046,  0.5625],\n",
       "          [ 2.4160,  0.4596]]]])"
      ]
     },
     "execution_count": 123,
     "metadata": {},
     "output_type": "execute_result"
    }
   ],
   "source": [
    "receptive_fields"
   ]
  },
  {
   "cell_type": "code",
   "execution_count": 124,
   "metadata": {},
   "outputs": [],
   "source": [
    "receptive_fields = torch.sigmoid(receptive_fields)"
   ]
  },
  {
   "cell_type": "code",
   "execution_count": 284,
   "metadata": {},
   "outputs": [
    {
     "data": {
      "text/plain": [
       "tensor([[[[0.8716, 0.5728],\n",
       "          [0.9158, 0.7940]],\n",
       "\n",
       "         [[0.8845, 0.4317],\n",
       "          [0.8909, 0.6181]],\n",
       "\n",
       "         [[0.6942, 0.7192],\n",
       "          [0.8246, 0.7985]],\n",
       "\n",
       "         [[0.9104, 0.4239],\n",
       "          [0.7143, 0.4846]],\n",
       "\n",
       "         [[0.9104, 0.4239],\n",
       "          [0.7143, 0.4846]]],\n",
       "\n",
       "\n",
       "        [[[0.5181, 0.5417],\n",
       "          [0.8684, 0.9196]],\n",
       "\n",
       "         [[0.5189, 0.7215],\n",
       "          [0.9166, 0.8096]],\n",
       "\n",
       "         [[0.6125, 0.4871],\n",
       "          [0.4681, 0.9508]],\n",
       "\n",
       "         [[0.7119, 0.6370],\n",
       "          [0.9180, 0.6129]],\n",
       "\n",
       "         [[0.7119, 0.6370],\n",
       "          [0.9180, 0.6129]]]])"
      ]
     },
     "execution_count": 284,
     "metadata": {},
     "output_type": "execute_result"
    }
   ],
   "source": [
    "receptive_fields"
   ]
  },
  {
   "cell_type": "code",
   "execution_count": 285,
   "metadata": {},
   "outputs": [],
   "source": [
    "unit_x = 0\n",
    "unit_y = 1\n",
    "act_unit_x = receptive_fields[:, unit_x]\n",
    "act_unit_y = receptive_fields[:, unit_y]"
   ]
  },
  {
   "cell_type": "code",
   "execution_count": 286,
   "metadata": {},
   "outputs": [
    {
     "data": {
      "text/plain": [
       "torch.Size([2, 2, 2])"
      ]
     },
     "execution_count": 286,
     "metadata": {},
     "output_type": "execute_result"
    }
   ],
   "source": [
    "act_unit_y.shape"
   ]
  },
  {
   "cell_type": "code",
   "execution_count": 287,
   "metadata": {},
   "outputs": [
    {
     "data": {
      "text/plain": [
       "tensor([[[0.8716, 0.5728],\n",
       "         [0.9158, 0.7940]],\n",
       "\n",
       "        [[0.5181, 0.5417],\n",
       "         [0.8684, 0.9196]]])"
      ]
     },
     "execution_count": 287,
     "metadata": {},
     "output_type": "execute_result"
    }
   ],
   "source": [
    "act_unit_x"
   ]
  },
  {
   "cell_type": "code",
   "execution_count": 288,
   "metadata": {},
   "outputs": [
    {
     "data": {
      "text/plain": [
       "tensor([[[0.8845, 0.4317],\n",
       "         [0.8909, 0.6181]],\n",
       "\n",
       "        [[0.5189, 0.7215],\n",
       "         [0.9166, 0.8096]]])"
      ]
     },
     "execution_count": 288,
     "metadata": {},
     "output_type": "execute_result"
    }
   ],
   "source": [
    "act_unit_y"
   ]
  },
  {
   "cell_type": "code",
   "execution_count": 213,
   "metadata": {},
   "outputs": [],
   "source": [
    "difference_tensor = act_unit_x - act_unit_y"
   ]
  },
  {
   "cell_type": "code",
   "execution_count": 289,
   "metadata": {},
   "outputs": [],
   "source": [
    "hadamard_prod = torch.mul(act_unit_x, act_unit_y)"
   ]
  },
  {
   "cell_type": "code",
   "execution_count": 290,
   "metadata": {},
   "outputs": [
    {
     "data": {
      "text/plain": [
       "tensor([[[0.7710, 0.2473],\n",
       "         [0.8158, 0.4907]],\n",
       "\n",
       "        [[0.2688, 0.3909],\n",
       "         [0.7959, 0.7446]]])"
      ]
     },
     "execution_count": 290,
     "metadata": {},
     "output_type": "execute_result"
    }
   ],
   "source": [
    "hadamard_prod"
   ]
  },
  {
   "cell_type": "code",
   "execution_count": 214,
   "metadata": {},
   "outputs": [
    {
     "data": {
      "text/plain": [
       "tensor([[[-0.0129,  0.1411],\n",
       "         [ 0.0249,  0.1759]],\n",
       "\n",
       "        [[-0.0009, -0.1798],\n",
       "         [-0.0482,  0.1100]]])"
      ]
     },
     "execution_count": 214,
     "metadata": {},
     "output_type": "execute_result"
    }
   ],
   "source": [
    "difference_tensor"
   ]
  },
  {
   "cell_type": "code",
   "execution_count": 215,
   "metadata": {
    "scrolled": true
   },
   "outputs": [
    {
     "data": {
      "text/plain": [
       "tensor(0.6936)"
      ]
     },
     "execution_count": 215,
     "metadata": {},
     "output_type": "execute_result"
    }
   ],
   "source": [
    "difference_tensor.norm(1)"
   ]
  },
  {
   "cell_type": "code",
   "execution_count": 291,
   "metadata": {},
   "outputs": [
    {
     "data": {
      "text/plain": [
       "tensor(4.5250)"
      ]
     },
     "execution_count": 291,
     "metadata": {},
     "output_type": "execute_result"
    }
   ],
   "source": [
    "hadamard_prod.norm(1)"
   ]
  },
  {
   "cell_type": "code",
   "execution_count": 216,
   "metadata": {},
   "outputs": [],
   "source": [
    "score = (2 * difference_tensor.norm(1)) / (act_unit_x.norm(1) + act_unit_y.norm(1) + difference_tensor.norm(1))"
   ]
  },
  {
   "cell_type": "code",
   "execution_count": 217,
   "metadata": {},
   "outputs": [
    {
     "data": {
      "text/plain": [
       "tensor(0.1111)"
      ]
     },
     "execution_count": 217,
     "metadata": {},
     "output_type": "execute_result"
    }
   ],
   "source": [
    "score"
   ]
  },
  {
   "cell_type": "code",
   "execution_count": 296,
   "metadata": {},
   "outputs": [
    {
     "name": "stdout",
     "output_type": "stream",
     "text": [
      "tensor([[[-0.2162,  0.2953],\n",
      "         [ 0.1103,  0.3140]],\n",
      "\n",
      "        [[-0.0994, -0.1500],\n",
      "         [-0.4500,  0.3379]]])\n"
     ]
    }
   ],
   "source": [
    "unit_x = 2\n",
    "unit_y = 3\n",
    "act_unit_x = receptive_fields[:, unit_x]\n",
    "act_unit_y = receptive_fields[:, unit_y]\n",
    "difference_tensor = act_unit_x - act_unit_y\n",
    "hadamard_prod = torch.mul(act_unit_x, act_unit_y)\n",
    "print(difference_tensor)"
   ]
  },
  {
   "cell_type": "code",
   "execution_count": 297,
   "metadata": {
    "scrolled": true
   },
   "outputs": [
    {
     "data": {
      "text/plain": [
       "tensor(1.9731)"
      ]
     },
     "execution_count": 297,
     "metadata": {},
     "output_type": "execute_result"
    }
   ],
   "source": [
    "difference_tensor.norm(1)"
   ]
  },
  {
   "cell_type": "code",
   "execution_count": 305,
   "metadata": {},
   "outputs": [
    {
     "data": {
      "text/plain": [
       "tensor([[[0.6320, 0.3049],\n",
       "         [0.5890, 0.3869]],\n",
       "\n",
       "        [[0.4360, 0.3103],\n",
       "         [0.4297, 0.5828]]])"
      ]
     },
     "execution_count": 305,
     "metadata": {},
     "output_type": "execute_result"
    }
   ],
   "source": [
    "hadamard_prod"
   ]
  },
  {
   "cell_type": "code",
   "execution_count": 220,
   "metadata": {},
   "outputs": [],
   "source": [
    "score = (2 * difference_tensor.norm(1)) / (act_unit_x.norm(1) + act_unit_y.norm(1) + difference_tensor.norm(1))"
   ]
  },
  {
   "cell_type": "code",
   "execution_count": 221,
   "metadata": {},
   "outputs": [
    {
     "data": {
      "text/plain": [
       "tensor(0.3049)"
      ]
     },
     "execution_count": 221,
     "metadata": {},
     "output_type": "execute_result"
    }
   ],
   "source": [
    "score"
   ]
  },
  {
   "cell_type": "code",
   "execution_count": 197,
   "metadata": {},
   "outputs": [
    {
     "data": {
      "text/plain": [
       "torch.Size([2, 5, 2, 2])"
      ]
     },
     "execution_count": 197,
     "metadata": {},
     "output_type": "execute_result"
    }
   ],
   "source": [
    "receptive_fields.shape"
   ]
  },
  {
   "cell_type": "code",
   "execution_count": 306,
   "metadata": {},
   "outputs": [],
   "source": [
    "unit_x = np.array([0 ,2])\n",
    "unit_y = np.array([1 ,3])\n",
    "\n",
    "act_unit_x = receptive_fields[:, unit_x]\n",
    "act_unit_y = receptive_fields[:, unit_y]"
   ]
  },
  {
   "cell_type": "code",
   "execution_count": 307,
   "metadata": {},
   "outputs": [
    {
     "data": {
      "text/plain": [
       "tensor([[[0.8716, 0.5728],\n",
       "         [0.9158, 0.7940]],\n",
       "\n",
       "        [[0.5181, 0.5417],\n",
       "         [0.8684, 0.9196]]])"
      ]
     },
     "execution_count": 307,
     "metadata": {},
     "output_type": "execute_result"
    }
   ],
   "source": [
    "act_unit_x[:,0]"
   ]
  },
  {
   "cell_type": "code",
   "execution_count": 308,
   "metadata": {},
   "outputs": [
    {
     "data": {
      "text/plain": [
       "tensor([[[0.8845, 0.4317],\n",
       "         [0.8909, 0.6181]],\n",
       "\n",
       "        [[0.5189, 0.7215],\n",
       "         [0.9166, 0.8096]]])"
      ]
     },
     "execution_count": 308,
     "metadata": {},
     "output_type": "execute_result"
    }
   ],
   "source": [
    "act_unit_y[:,0]"
   ]
  },
  {
   "cell_type": "code",
   "execution_count": 309,
   "metadata": {},
   "outputs": [],
   "source": [
    "difference_tensor = act_unit_x - act_unit_y"
   ]
  },
  {
   "cell_type": "code",
   "execution_count": 310,
   "metadata": {},
   "outputs": [
    {
     "data": {
      "text/plain": [
       "tensor([[[-0.0129,  0.1411],\n",
       "         [ 0.0249,  0.1759]],\n",
       "\n",
       "        [[-0.0009, -0.1798],\n",
       "         [-0.0482,  0.1100]]])"
      ]
     },
     "execution_count": 310,
     "metadata": {},
     "output_type": "execute_result"
    }
   ],
   "source": [
    "difference_tensor[:, 0]"
   ]
  },
  {
   "cell_type": "code",
   "execution_count": 311,
   "metadata": {},
   "outputs": [
    {
     "data": {
      "text/plain": [
       "tensor([[[-0.2162,  0.2953],\n",
       "         [ 0.1103,  0.3140]],\n",
       "\n",
       "        [[-0.0994, -0.1500],\n",
       "         [-0.4500,  0.3379]]])"
      ]
     },
     "execution_count": 311,
     "metadata": {},
     "output_type": "execute_result"
    }
   ],
   "source": [
    "difference_tensor[:, 1]"
   ]
  },
  {
   "cell_type": "code",
   "execution_count": 312,
   "metadata": {},
   "outputs": [],
   "source": [
    "hadamard_tensor = torch.mul(act_unit_x, act_unit_y)"
   ]
  },
  {
   "cell_type": "code",
   "execution_count": 314,
   "metadata": {},
   "outputs": [
    {
     "data": {
      "text/plain": [
       "tensor([[[0.7710, 0.2473],\n",
       "         [0.8158, 0.4907]],\n",
       "\n",
       "        [[0.2688, 0.3909],\n",
       "         [0.7959, 0.7446]]])"
      ]
     },
     "execution_count": 314,
     "metadata": {},
     "output_type": "execute_result"
    }
   ],
   "source": [
    "hadamard_tensor[:,0]"
   ]
  },
  {
   "cell_type": "code",
   "execution_count": 280,
   "metadata": {},
   "outputs": [],
   "source": [
    "score = []\n",
    "for i in range(len(unit_x)):\n",
    "    score.append((2 * difference_tensor[:,i].norm(1)) \n",
    "                 / (act_unit_x[:, i].norm(1) + act_unit_y[:, i].norm(1) + difference_tensor[:,i].norm(1)))"
   ]
  },
  {
   "cell_type": "code",
   "execution_count": 281,
   "metadata": {},
   "outputs": [
    {
     "data": {
      "text/plain": [
       "torch.Size([2, 2, 2, 2])"
      ]
     },
     "execution_count": 281,
     "metadata": {},
     "output_type": "execute_result"
    }
   ],
   "source": [
    "difference_tensor.shape"
   ]
  },
  {
   "cell_type": "code",
   "execution_count": 282,
   "metadata": {},
   "outputs": [
    {
     "data": {
      "text/plain": [
       "tensor([0.1111, 0.3049])"
      ]
     },
     "execution_count": 282,
     "metadata": {},
     "output_type": "execute_result"
    }
   ],
   "source": [
    "torch.stack(score)"
   ]
  },
  {
   "cell_type": "code",
   "execution_count": 283,
   "metadata": {},
   "outputs": [
    {
     "data": {
      "text/plain": [
       "[tensor(0.1111), tensor(0.3049)]"
      ]
     },
     "execution_count": 283,
     "metadata": {},
     "output_type": "execute_result"
    }
   ],
   "source": [
    "score"
   ]
  },
  {
   "cell_type": "code",
   "execution_count": null,
   "metadata": {},
   "outputs": [],
   "source": []
  }
 ],
 "metadata": {
  "kernelspec": {
   "display_name": "Python 3",
   "language": "python",
   "name": "python3"
  },
  "language_info": {
   "codemirror_mode": {
    "name": "ipython",
    "version": 3
   },
   "file_extension": ".py",
   "mimetype": "text/x-python",
   "name": "python",
   "nbconvert_exporter": "python",
   "pygments_lexer": "ipython3",
   "version": "3.6.7"
  }
 },
 "nbformat": 4,
 "nbformat_minor": 2
}
