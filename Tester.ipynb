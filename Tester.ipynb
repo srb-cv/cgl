{
 "cells": [
  {
   "cell_type": "code",
   "execution_count": 37,
   "metadata": {},
   "outputs": [],
   "source": [
    "import numpy as np"
   ]
  },
  {
   "cell_type": "code",
   "execution_count": 38,
   "metadata": {},
   "outputs": [],
   "source": [
    "import torch"
   ]
  },
  {
   "cell_type": "code",
   "execution_count": 39,
   "metadata": {},
   "outputs": [
    {
     "data": {
      "text/plain": [
       "tensor([[1., 2., 3., 4., 5., 6., 7.],\n",
       "        [3., 5., 6., 7., 8., 4., 5.]])"
      ]
     },
     "execution_count": 39,
     "metadata": {},
     "output_type": "execute_result"
    }
   ],
   "source": [
    "x = torch.FloatTensor([[1,2,3,4,5,6,7],[3,5,6,7,8,4,5]])\n",
    "x"
   ]
  },
  {
   "cell_type": "code",
   "execution_count": 40,
   "metadata": {},
   "outputs": [
    {
     "data": {
      "text/plain": [
       "tensor([[[1., 3.],\n",
       "         [2., 5.],\n",
       "         [3., 6.],\n",
       "         [4., 7.],\n",
       "         [5., 8.],\n",
       "         [6., 4.],\n",
       "         [7., 5.]]])"
      ]
     },
     "execution_count": 40,
     "metadata": {},
     "output_type": "execute_result"
    }
   ],
   "source": [
    "x.unfold(0,2,2)"
   ]
  },
  {
   "cell_type": "code",
   "execution_count": 41,
   "metadata": {},
   "outputs": [],
   "source": [
    "mock_filter_1 = torch.tensor([[1.0,2,1],[2,4,5],[6,7,8]])\n",
    "mock_filter_2 = torch.tensor([[1.0,6,7],[1,9,5],[4,7,8]])\n",
    "mock_filter_3 = torch.tensor([[1.0,3,1],[7,0,5],[9,7,0]])\n",
    "mock_filter_4 = torch.tensor([[3.0,2,4],[0,4,5],[1,7,0]])"
   ]
  },
  {
   "cell_type": "code",
   "execution_count": 42,
   "metadata": {},
   "outputs": [],
   "source": [
    "mock_filter_combined = torch.stack([mock_filter_1, mock_filter_2, mock_filter_3, mock_filter_4]) "
   ]
  },
  {
   "cell_type": "code",
   "execution_count": 43,
   "metadata": {},
   "outputs": [],
   "source": [
    "mock_filter_combined = torch.stack([mock_filter_combined, mock_filter_combined], dim=1)"
   ]
  },
  {
   "cell_type": "code",
   "execution_count": 44,
   "metadata": {},
   "outputs": [
    {
     "data": {
      "text/plain": [
       "torch.Size([4, 2, 3, 3])"
      ]
     },
     "execution_count": 44,
     "metadata": {},
     "output_type": "execute_result"
    }
   ],
   "source": [
    "mock_filter_combined.shape"
   ]
  },
  {
   "cell_type": "code",
   "execution_count": 45,
   "metadata": {},
   "outputs": [
    {
     "name": "stdout",
     "output_type": "stream",
     "text": [
      "tensor([[[1., 2., 1.],\n",
      "         [2., 4., 5.],\n",
      "         [6., 7., 8.]],\n",
      "\n",
      "        [[1., 2., 1.],\n",
      "         [2., 4., 5.],\n",
      "         [6., 7., 8.]]])\n",
      "tensor([[[1., 6., 7.],\n",
      "         [1., 9., 5.],\n",
      "         [4., 7., 8.]],\n",
      "\n",
      "        [[1., 6., 7.],\n",
      "         [1., 9., 5.],\n",
      "         [4., 7., 8.]]])\n",
      "tensor([[[1., 3., 1.],\n",
      "         [7., 0., 5.],\n",
      "         [9., 7., 0.]],\n",
      "\n",
      "        [[1., 3., 1.],\n",
      "         [7., 0., 5.],\n",
      "         [9., 7., 0.]]])\n",
      "tensor([[[3., 2., 4.],\n",
      "         [0., 4., 5.],\n",
      "         [1., 7., 0.]],\n",
      "\n",
      "        [[3., 2., 4.],\n",
      "         [0., 4., 5.],\n",
      "         [1., 7., 0.]]])\n"
     ]
    }
   ],
   "source": [
    "print(mock_filter_combined[0])\n",
    "print(mock_filter_combined[1])\n",
    "print(mock_filter_combined[2])\n",
    "print(mock_filter_combined[3])"
   ]
  },
  {
   "cell_type": "code",
   "execution_count": 46,
   "metadata": {},
   "outputs": [],
   "source": [
    "filter_groups = mock_filter_combined.unfold(0, 2, 2)"
   ]
  },
  {
   "cell_type": "code",
   "execution_count": 47,
   "metadata": {},
   "outputs": [
    {
     "data": {
      "text/plain": [
       "torch.Size([2, 2, 3, 3, 2])"
      ]
     },
     "execution_count": 47,
     "metadata": {},
     "output_type": "execute_result"
    }
   ],
   "source": [
    "filter_groups.shape"
   ]
  },
  {
   "cell_type": "code",
   "execution_count": 48,
   "metadata": {},
   "outputs": [
    {
     "data": {
      "text/plain": [
       "tensor([[[[1., 2., 1.],\n",
       "          [2., 4., 5.],\n",
       "          [6., 7., 8.]],\n",
       "\n",
       "         [[1., 2., 1.],\n",
       "          [2., 4., 5.],\n",
       "          [6., 7., 8.]]],\n",
       "\n",
       "\n",
       "        [[[1., 6., 7.],\n",
       "          [1., 9., 5.],\n",
       "          [4., 7., 8.]],\n",
       "\n",
       "         [[1., 6., 7.],\n",
       "          [1., 9., 5.],\n",
       "          [4., 7., 8.]]]])"
      ]
     },
     "execution_count": 48,
     "metadata": {},
     "output_type": "execute_result"
    }
   ],
   "source": [
    "filter_groups[0].permute(3,0,1,2)"
   ]
  },
  {
   "cell_type": "code",
   "execution_count": 49,
   "metadata": {},
   "outputs": [
    {
     "data": {
      "text/plain": [
       "tensor([[[[1., 3., 1.],\n",
       "          [7., 0., 5.],\n",
       "          [9., 7., 0.]],\n",
       "\n",
       "         [[1., 3., 1.],\n",
       "          [7., 0., 5.],\n",
       "          [9., 7., 0.]]],\n",
       "\n",
       "\n",
       "        [[[3., 2., 4.],\n",
       "          [0., 4., 5.],\n",
       "          [1., 7., 0.]],\n",
       "\n",
       "         [[3., 2., 4.],\n",
       "          [0., 4., 5.],\n",
       "          [1., 7., 0.]]]])"
      ]
     },
     "execution_count": 49,
     "metadata": {},
     "output_type": "execute_result"
    }
   ],
   "source": [
    "filter_groups[1].permute(3,0,1,2)"
   ]
  },
  {
   "cell_type": "markdown",
   "metadata": {},
   "source": [
    "### Testing the activations"
   ]
  },
  {
   "cell_type": "code",
   "execution_count": 50,
   "metadata": {},
   "outputs": [],
   "source": [
    "import torch.nn.functional as F"
   ]
  },
  {
   "cell_type": "code",
   "execution_count": 51,
   "metadata": {},
   "outputs": [
    {
     "data": {
      "text/plain": [
       "torch.Size([4, 2, 3, 3])"
      ]
     },
     "execution_count": 51,
     "metadata": {},
     "output_type": "execute_result"
    }
   ],
   "source": [
    "filters = mock_filter_combined\n",
    "filters.shape"
   ]
  },
  {
   "cell_type": "code",
   "execution_count": 52,
   "metadata": {},
   "outputs": [],
   "source": [
    "inputs = torch.randn(2,2,4,4)"
   ]
  },
  {
   "cell_type": "code",
   "execution_count": 53,
   "metadata": {},
   "outputs": [],
   "source": [
    "activations = F.conv2d(inputs,filters)"
   ]
  },
  {
   "cell_type": "code",
   "execution_count": 54,
   "metadata": {},
   "outputs": [
    {
     "data": {
      "text/plain": [
       "torch.Size([2, 4, 2, 2])"
      ]
     },
     "execution_count": 54,
     "metadata": {},
     "output_type": "execute_result"
    }
   ],
   "source": [
    "activations.shape"
   ]
  },
  {
   "cell_type": "code",
   "execution_count": 55,
   "metadata": {},
   "outputs": [
    {
     "data": {
      "text/plain": [
       "tensor([[[[ 0.6270, -0.7832, -1.2495, -0.7499],\n",
       "          [-0.8693,  2.7487, -2.8387,  1.1427],\n",
       "          [ 0.1583, -0.2746, -0.1172,  2.5650],\n",
       "          [-0.5957, -0.8339, -2.0637, -1.3005]],\n",
       "\n",
       "         [[-0.7539,  0.1693, -0.3319, -0.5541],\n",
       "          [ 0.7425, -0.9582, -0.2327, -0.2746],\n",
       "          [-0.7196,  1.2894, -0.0181, -1.2182],\n",
       "          [-2.1625,  0.1844,  0.2063,  1.1829]]],\n",
       "\n",
       "\n",
       "        [[[-0.5855,  0.1040,  0.8715,  0.5336],\n",
       "          [ 0.0421,  2.0369, -0.0984,  0.1560],\n",
       "          [-1.5450, -0.9842, -2.0298, -0.3024],\n",
       "          [-0.8636,  2.4248, -0.7044, -2.2384]],\n",
       "\n",
       "         [[-1.0185, -0.1035, -0.5811, -0.1009],\n",
       "          [-2.0223, -0.1259, -2.1468, -0.3971],\n",
       "          [ 0.4881,  3.4474, -0.6909,  0.6374],\n",
       "          [ 0.3464,  1.3410,  0.2889,  2.8074]]]])"
      ]
     },
     "execution_count": 55,
     "metadata": {},
     "output_type": "execute_result"
    }
   ],
   "source": [
    "inputs"
   ]
  },
  {
   "cell_type": "code",
   "execution_count": 56,
   "metadata": {},
   "outputs": [
    {
     "data": {
      "text/plain": [
       "tensor([[[[ -8.7306,   6.4719],\n",
       "          [-33.3123, -13.1013]],\n",
       "\n",
       "         [[-10.4730, -26.8553],\n",
       "          [-33.4269, -20.5703]],\n",
       "\n",
       "         [[-17.7423,  18.3985],\n",
       "          [-31.8027, -11.5654]],\n",
       "\n",
       "         [[ -9.5868, -18.0975],\n",
       "          [-13.0067,  -4.7575]]],\n",
       "\n",
       "\n",
       "        [[[-19.7205,  -6.9364],\n",
       "          [ 13.6655,  17.1370]],\n",
       "\n",
       "         [[ -4.3275, -21.2414],\n",
       "          [ 22.2456, -16.8888]],\n",
       "\n",
       "         [[-18.6693,  16.5984],\n",
       "          [  2.2120,  44.8360]],\n",
       "\n",
       "         [[  8.9538, -24.4551],\n",
       "          [ 10.9935,  -8.0725]]]])"
      ]
     },
     "execution_count": 56,
     "metadata": {},
     "output_type": "execute_result"
    }
   ],
   "source": [
    "activations"
   ]
  },
  {
   "cell_type": "code",
   "execution_count": 57,
   "metadata": {},
   "outputs": [],
   "source": [
    "groups = torch.split(activations, 2, dim=1)"
   ]
  },
  {
   "cell_type": "code",
   "execution_count": 58,
   "metadata": {},
   "outputs": [
    {
     "data": {
      "text/plain": [
       "(tensor([[[[ -8.7306,   6.4719],\n",
       "           [-33.3123, -13.1013]],\n",
       " \n",
       "          [[-10.4730, -26.8553],\n",
       "           [-33.4269, -20.5703]]],\n",
       " \n",
       " \n",
       "         [[[-19.7205,  -6.9364],\n",
       "           [ 13.6655,  17.1370]],\n",
       " \n",
       "          [[ -4.3275, -21.2414],\n",
       "           [ 22.2456, -16.8888]]]]), tensor([[[[-17.7423,  18.3985],\n",
       "           [-31.8027, -11.5654]],\n",
       " \n",
       "          [[ -9.5868, -18.0975],\n",
       "           [-13.0067,  -4.7575]]],\n",
       " \n",
       " \n",
       "         [[[-18.6693,  16.5984],\n",
       "           [  2.2120,  44.8360]],\n",
       " \n",
       "          [[  8.9538, -24.4551],\n",
       "           [ 10.9935,  -8.0725]]]]))"
      ]
     },
     "execution_count": 58,
     "metadata": {},
     "output_type": "execute_result"
    }
   ],
   "source": [
    "groups"
   ]
  },
  {
   "cell_type": "code",
   "execution_count": 59,
   "metadata": {},
   "outputs": [
    {
     "data": {
      "text/plain": [
       "tensor([[[[ -8.7306,   6.4719],\n",
       "          [-33.3123, -13.1013]],\n",
       "\n",
       "         [[-10.4730, -26.8553],\n",
       "          [-33.4269, -20.5703]]],\n",
       "\n",
       "\n",
       "        [[[-19.7205,  -6.9364],\n",
       "          [ 13.6655,  17.1370]],\n",
       "\n",
       "         [[ -4.3275, -21.2414],\n",
       "          [ 22.2456, -16.8888]]]])"
      ]
     },
     "execution_count": 59,
     "metadata": {},
     "output_type": "execute_result"
    }
   ],
   "source": [
    "groups[0]"
   ]
  },
  {
   "cell_type": "markdown",
   "metadata": {},
   "source": [
    "### Another test case where filtere are not divisible by the number of groups"
   ]
  },
  {
   "cell_type": "code",
   "execution_count": 60,
   "metadata": {},
   "outputs": [],
   "source": [
    "mock_filter_1 = torch.tensor([[1.0,2,1],[2,4,5],[6,7,8]])\n",
    "mock_filter_2 = torch.tensor([[1.0,6,7],[1,9,5],[4,7,8]])\n",
    "mock_filter_3 = torch.tensor([[1.0,3,1],[7,0,5],[9,7,0]])\n",
    "mock_filter_4 = torch.tensor([[3.0,2,4],[0,4,5],[1,7,0]])\n",
    "mock_filter_5 = torch.tensor([[3.0,2,4],[0,4,5],[1,7,0]])"
   ]
  },
  {
   "cell_type": "code",
   "execution_count": 61,
   "metadata": {},
   "outputs": [],
   "source": [
    "mock_filter_combined = torch.stack([mock_filter_1, mock_filter_2, mock_filter_3, mock_filter_4,mock_filter_5]) "
   ]
  },
  {
   "cell_type": "code",
   "execution_count": 62,
   "metadata": {},
   "outputs": [
    {
     "data": {
      "text/plain": [
       "torch.Size([5, 2, 3, 3])"
      ]
     },
     "execution_count": 62,
     "metadata": {},
     "output_type": "execute_result"
    }
   ],
   "source": [
    "mock_filter_combined = torch.stack([mock_filter_combined, mock_filter_combined], dim=1)\n",
    "mock_filter_combined.shape"
   ]
  },
  {
   "cell_type": "code",
   "execution_count": 63,
   "metadata": {},
   "outputs": [],
   "source": [
    "inputs = torch.randn(2,2,4,4)"
   ]
  },
  {
   "cell_type": "code",
   "execution_count": 64,
   "metadata": {},
   "outputs": [
    {
     "data": {
      "text/plain": [
       "torch.Size([2, 5, 2, 2])"
      ]
     },
     "execution_count": 64,
     "metadata": {},
     "output_type": "execute_result"
    }
   ],
   "source": [
    "activations = F.conv2d(inputs,mock_filter_combined)\n",
    "activations.shape"
   ]
  },
  {
   "cell_type": "code",
   "execution_count": 65,
   "metadata": {},
   "outputs": [
    {
     "data": {
      "text/plain": [
       "tensor([[[[ 1.1008,  1.2091,  0.2950,  0.6933],\n",
       "          [-0.8948,  0.0367, -0.3541,  0.8272],\n",
       "          [ 0.5888, -0.7425, -0.2324,  1.5268],\n",
       "          [ 0.4478,  0.1243, -0.9328, -0.3839]],\n",
       "\n",
       "         [[-0.9310, -0.8180,  0.9963,  0.2552],\n",
       "          [ 1.0000, -1.7174,  1.6753, -1.8214],\n",
       "          [ 0.2643, -0.8004, -0.1208, -0.3603],\n",
       "          [ 1.3717, -1.4047,  0.4783,  0.8819]]],\n",
       "\n",
       "\n",
       "        [[[ 0.2276, -1.4880,  0.6828,  2.2028],\n",
       "          [-0.6867,  0.7186, -0.3461,  1.6830],\n",
       "          [ 1.0394, -0.1433, -0.1801,  1.4743],\n",
       "          [ 0.6210,  0.4716,  0.5496,  0.8919]],\n",
       "\n",
       "         [[-1.0351, -0.2198,  1.0137, -1.1162],\n",
       "          [ 1.6118, -0.8813,  1.3146, -1.4627],\n",
       "          [-1.2326,  1.6830,  1.3244,  0.4763],\n",
       "          [ 1.8395, -0.4137,  0.6771,  1.3594]]]])"
      ]
     },
     "execution_count": 65,
     "metadata": {},
     "output_type": "execute_result"
    }
   ],
   "source": [
    "inputs"
   ]
  },
  {
   "cell_type": "code",
   "execution_count": 66,
   "metadata": {},
   "outputs": [
    {
     "data": {
      "text/plain": [
       "tensor([[[[ -6.1708,  -1.5236],\n",
       "          [ -9.8483,  -5.5783]],\n",
       "\n",
       "         [[ -7.0740,  20.7048],\n",
       "          [-20.8505,  -3.9211]],\n",
       "\n",
       "         [[  6.8540, -27.8816],\n",
       "          [  8.0026, -18.3840]],\n",
       "\n",
       "         [[ -3.6077,   3.8480],\n",
       "          [-12.8417,  -6.4187]],\n",
       "\n",
       "         [[ -3.6077,   3.8480],\n",
       "          [-12.8417,  -6.4187]]],\n",
       "\n",
       "\n",
       "        [[[ 22.2881,  40.2754],\n",
       "          [ 38.0442,  46.3490]],\n",
       "\n",
       "         [[ 24.2835,  55.5061],\n",
       "          [ 46.1751,  55.6113]],\n",
       "\n",
       "         [[ 16.1214,  26.2990],\n",
       "          [ 28.3241,  32.6018]],\n",
       "\n",
       "         [[ 15.7239,  17.1413],\n",
       "          [ 21.0698,  25.3058]],\n",
       "\n",
       "         [[ 15.7239,  17.1413],\n",
       "          [ 21.0698,  25.3058]]]])"
      ]
     },
     "execution_count": 66,
     "metadata": {},
     "output_type": "execute_result"
    }
   ],
   "source": [
    "activations"
   ]
  },
  {
   "cell_type": "code",
   "execution_count": 67,
   "metadata": {},
   "outputs": [
    {
     "data": {
      "text/plain": [
       "[tensor([[[[ -6.1708,  -1.5236],\n",
       "           [ -9.8483,  -5.5783]],\n",
       " \n",
       "          [[ -7.0740,  20.7048],\n",
       "           [-20.8505,  -3.9211]]],\n",
       " \n",
       " \n",
       "         [[[ 22.2881,  40.2754],\n",
       "           [ 38.0442,  46.3490]],\n",
       " \n",
       "          [[ 24.2835,  55.5061],\n",
       "           [ 46.1751,  55.6113]]]]), tensor([[[[  6.8540, -27.8816],\n",
       "           [  8.0026, -18.3840]],\n",
       " \n",
       "          [[ -3.6077,   3.8480],\n",
       "           [-12.8417,  -6.4187]]],\n",
       " \n",
       " \n",
       "         [[[ 16.1214,  26.2990],\n",
       "           [ 28.3241,  32.6018]],\n",
       " \n",
       "          [[ 15.7239,  17.1413],\n",
       "           [ 21.0698,  25.3058]]]]), tensor([[[[ -3.6077,   3.8480],\n",
       "           [-12.8417,  -6.4187]]],\n",
       " \n",
       " \n",
       "         [[[ 15.7239,  17.1413],\n",
       "           [ 21.0698,  25.3058]]]])]"
      ]
     },
     "execution_count": 67,
     "metadata": {},
     "output_type": "execute_result"
    }
   ],
   "source": [
    "groups = torch.split(activations, 2, dim=1)\n",
    "list(groups)"
   ]
  },
  {
   "cell_type": "code",
   "execution_count": 68,
   "metadata": {},
   "outputs": [],
   "source": [
    "groupwise_mean = [torch.mean(groups[i]) for i in range(0,2)]"
   ]
  },
  {
   "cell_type": "code",
   "execution_count": 69,
   "metadata": {},
   "outputs": [
    {
     "data": {
      "text/plain": [
       "[tensor(18.3919), tensor(8.2599)]"
      ]
     },
     "execution_count": 69,
     "metadata": {},
     "output_type": "execute_result"
    }
   ],
   "source": [
    "groupwise_mean"
   ]
  },
  {
   "cell_type": "code",
   "execution_count": 70,
   "metadata": {},
   "outputs": [
    {
     "data": {
      "text/plain": [
       "[tensor(26.1979), tensor(17.9086)]"
      ]
     },
     "execution_count": 70,
     "metadata": {},
     "output_type": "execute_result"
    }
   ],
   "source": [
    "groupwise_std = [torch.std(groups[i]) for i in range(0,2)]\n",
    "groupwise_std"
   ]
  },
  {
   "cell_type": "markdown",
   "metadata": {},
   "source": [
    "### Test channelwise receptive field calcualtions"
   ]
  },
  {
   "cell_type": "code",
   "execution_count": 71,
   "metadata": {},
   "outputs": [],
   "source": [
    "def calculate_receptive_field_layer_no_batch_norm(feature_maps, linear_map_param_1, \n",
    "                                                  linear_map_param_2):\n",
    "    number_of_maps = feature_maps[1]\n",
    "    std_map_wise = feature_maps.transpose(0,1).contiguous().view(number_of_maps, -1).std(1)\n",
    "    receptive_fields = feature_maps.transpose(1,3).div(std_map_wise).transpose(1,3)\n",
    "    receptive_fields = torch.sigmoid(linear_map_param_1 * receptive_fields + linear_map_param_2)\n",
    "    return receptive_fields"
   ]
  },
  {
   "cell_type": "code",
   "execution_count": 72,
   "metadata": {},
   "outputs": [
    {
     "ename": "TypeError",
     "evalue": "calculate_receptive_field_layer_no_batch_norm() missing 2 required positional arguments: 'linear_map_param_1' and 'linear_map_param_2'",
     "output_type": "error",
     "traceback": [
      "\u001b[0;31m---------------------------------------------------------------------------\u001b[0m",
      "\u001b[0;31mTypeError\u001b[0m                                 Traceback (most recent call last)",
      "\u001b[0;32m<ipython-input-72-755dd229b2d0>\u001b[0m in \u001b[0;36m<module>\u001b[0;34m()\u001b[0m\n\u001b[0;32m----> 1\u001b[0;31m \u001b[0mcalculate_receptive_field_layer_no_batch_norm\u001b[0m\u001b[0;34m(\u001b[0m\u001b[0mactivations\u001b[0m\u001b[0;34m)\u001b[0m\u001b[0;34m\u001b[0m\u001b[0;34m\u001b[0m\u001b[0m\n\u001b[0m\u001b[1;32m      2\u001b[0m \u001b[0mprint\u001b[0m\u001b[0;34m(\u001b[0m\u001b[0mactivations\u001b[0m\u001b[0;34m.\u001b[0m\u001b[0mshape\u001b[0m\u001b[0;34m)\u001b[0m\u001b[0;34m\u001b[0m\u001b[0;34m\u001b[0m\u001b[0m\n",
      "\u001b[0;31mTypeError\u001b[0m: calculate_receptive_field_layer_no_batch_norm() missing 2 required positional arguments: 'linear_map_param_1' and 'linear_map_param_2'"
     ]
    }
   ],
   "source": [
    "calculate_receptive_field_layer_no_batch_norm(activations)\n",
    "print(activations.shape)"
   ]
  },
  {
   "cell_type": "code",
   "execution_count": 74,
   "metadata": {},
   "outputs": [
    {
     "name": "stdout",
     "output_type": "stream",
     "text": [
      "torch.Size([5, 2, 2, 2])\n"
     ]
    }
   ],
   "source": [
    "kk=activations.transpose(0,1)\n",
    "print(kk.shape)\n",
    "c =kk.contiguous().view(5, -1)"
   ]
  },
  {
   "cell_type": "code",
   "execution_count": 75,
   "metadata": {},
   "outputs": [
    {
     "data": {
      "text/plain": [
       "torch.Size([5, 8])"
      ]
     },
     "execution_count": 75,
     "metadata": {},
     "output_type": "execute_result"
    }
   ],
   "source": [
    "c.shape"
   ]
  },
  {
   "cell_type": "code",
   "execution_count": 76,
   "metadata": {},
   "outputs": [
    {
     "data": {
      "text/plain": [
       "tensor([23.8029, 29.7446, 22.0265, 14.1724, 14.1724])"
      ]
     },
     "execution_count": 76,
     "metadata": {},
     "output_type": "execute_result"
    }
   ],
   "source": [
    "B = torch.mean(c,1)\n",
    "c.std(1)"
   ]
  },
  {
   "cell_type": "code",
   "execution_count": 77,
   "metadata": {},
   "outputs": [
    {
     "name": "stdout",
     "output_type": "stream",
     "text": [
      "tensor([[[[ -6.1708,  -1.5236],\n",
      "          [ -9.8483,  -5.5783]],\n",
      "\n",
      "         [[ -7.0740,  20.7048],\n",
      "          [-20.8505,  -3.9211]],\n",
      "\n",
      "         [[  6.8540, -27.8816],\n",
      "          [  8.0026, -18.3840]],\n",
      "\n",
      "         [[ -3.6077,   3.8480],\n",
      "          [-12.8417,  -6.4187]],\n",
      "\n",
      "         [[ -3.6077,   3.8480],\n",
      "          [-12.8417,  -6.4187]]],\n",
      "\n",
      "\n",
      "        [[[ 22.2881,  40.2754],\n",
      "          [ 38.0442,  46.3490]],\n",
      "\n",
      "         [[ 24.2835,  55.5061],\n",
      "          [ 46.1751,  55.6113]],\n",
      "\n",
      "         [[ 16.1214,  26.2990],\n",
      "          [ 28.3241,  32.6018]],\n",
      "\n",
      "         [[ 15.7239,  17.1413],\n",
      "          [ 21.0698,  25.3058]],\n",
      "\n",
      "         [[ 15.7239,  17.1413],\n",
      "          [ 21.0698,  25.3058]]]])\n",
      "torch.Size([2, 5, 2, 2])\n"
     ]
    }
   ],
   "source": [
    "print(activations)\n",
    "print(activations.shape)"
   ]
  },
  {
   "cell_type": "code",
   "execution_count": 78,
   "metadata": {},
   "outputs": [
    {
     "name": "stdout",
     "output_type": "stream",
     "text": [
      "tensor([[[[ -6.1708,  -7.0740,   6.8540,  -3.6077,  -3.6077],\n",
      "          [ -9.8483, -20.8505,   8.0026, -12.8417, -12.8417]],\n",
      "\n",
      "         [[ -1.5236,  20.7048, -27.8816,   3.8480,   3.8480],\n",
      "          [ -5.5783,  -3.9211, -18.3840,  -6.4187,  -6.4187]]],\n",
      "\n",
      "\n",
      "        [[[ 22.2881,  24.2835,  16.1214,  15.7239,  15.7239],\n",
      "          [ 38.0442,  46.1751,  28.3241,  21.0698,  21.0698]],\n",
      "\n",
      "         [[ 40.2754,  55.5061,  26.2990,  17.1413,  17.1413],\n",
      "          [ 46.3490,  55.6113,  32.6018,  25.3058,  25.3058]]]])\n",
      "torch.Size([2, 2, 2, 5])\n"
     ]
    },
    {
     "data": {
      "text/plain": [
       "tensor([[[[-61.7085, -15.2364],\n",
       "          [-98.4825, -55.7826]],\n",
       "\n",
       "         [[ -7.0740,  20.7048],\n",
       "          [-20.8505,  -3.9211]],\n",
       "\n",
       "         [[  6.8540, -27.8816],\n",
       "          [  8.0026, -18.3840]],\n",
       "\n",
       "         [[ -3.6077,   3.8480],\n",
       "          [-12.8417,  -6.4187]],\n",
       "\n",
       "         [[ -3.6077,   3.8480],\n",
       "          [-12.8417,  -6.4187]]],\n",
       "\n",
       "\n",
       "        [[[222.8805, 402.7539],\n",
       "          [380.4422, 463.4900]],\n",
       "\n",
       "         [[ 24.2835,  55.5061],\n",
       "          [ 46.1751,  55.6113]],\n",
       "\n",
       "         [[ 16.1214,  26.2990],\n",
       "          [ 28.3241,  32.6018]],\n",
       "\n",
       "         [[ 15.7239,  17.1413],\n",
       "          [ 21.0698,  25.3058]],\n",
       "\n",
       "         [[ 15.7239,  17.1413],\n",
       "          [ 21.0698,  25.3058]]]])"
      ]
     },
     "execution_count": 78,
     "metadata": {},
     "output_type": "execute_result"
    }
   ],
   "source": [
    "kk=activations.transpose(1,3)\n",
    "print(kk)\n",
    "print(kk.shape)\n",
    "activations.transpose(1,3).div(torch.Tensor([0.1,1,1,1,1])).transpose(1,3)"
   ]
  },
  {
   "cell_type": "code",
   "execution_count": 79,
   "metadata": {},
   "outputs": [
    {
     "name": "stdout",
     "output_type": "stream",
     "text": [
      "tensor([[[[-11.3417,  -2.0473],\n",
      "          [-18.6965, -10.1565]],\n",
      "\n",
      "         [[-13.1479,  42.4096],\n",
      "          [-40.7011,  -6.8422]],\n",
      "\n",
      "         [[ 14.7080, -54.7632],\n",
      "          [ 17.0052, -35.7680]],\n",
      "\n",
      "         [[ -6.2155,   8.6960],\n",
      "          [-24.6834, -11.8375]],\n",
      "\n",
      "         [[ -6.2155,   8.6960],\n",
      "          [-24.6834, -11.8375]]],\n",
      "\n",
      "\n",
      "        [[[ 45.5761,  81.5508],\n",
      "          [ 77.0884,  93.6980]],\n",
      "\n",
      "         [[ 49.5669, 112.0123],\n",
      "          [ 93.3503, 112.2226]],\n",
      "\n",
      "         [[ 33.2427,  53.5979],\n",
      "          [ 57.6482,  66.2036]],\n",
      "\n",
      "         [[ 32.4477,  35.2825],\n",
      "          [ 43.1396,  51.6116]],\n",
      "\n",
      "         [[ 32.4477,  35.2825],\n",
      "          [ 43.1396,  51.6116]]]])\n"
     ]
    }
   ],
   "source": [
    "receptive_fields = 2.0 * activations + 1.0\n",
    "print(receptive_fields)"
   ]
  },
  {
   "cell_type": "code",
   "execution_count": 80,
   "metadata": {},
   "outputs": [
    {
     "name": "stdout",
     "output_type": "stream",
     "text": [
      "tensor([[[[1.1868e-05, 1.1433e-01],\n",
      "          [7.5895e-09, 3.8820e-05]],\n",
      "\n",
      "         [[1.9495e-06, 1.0000e+00],\n",
      "          [2.1074e-18, 1.0666e-03]],\n",
      "\n",
      "         [[1.0000e+00, 1.6468e-24],\n",
      "          [1.0000e+00, 2.9253e-16]],\n",
      "\n",
      "         [[1.9942e-03, 9.9983e-01],\n",
      "          [1.9060e-11, 7.2283e-06]],\n",
      "\n",
      "         [[1.9942e-03, 9.9983e-01],\n",
      "          [1.9060e-11, 7.2283e-06]]],\n",
      "\n",
      "\n",
      "        [[[1.0000e+00, 1.0000e+00],\n",
      "          [1.0000e+00, 1.0000e+00]],\n",
      "\n",
      "         [[1.0000e+00, 1.0000e+00],\n",
      "          [1.0000e+00, 1.0000e+00]],\n",
      "\n",
      "         [[1.0000e+00, 1.0000e+00],\n",
      "          [1.0000e+00, 1.0000e+00]],\n",
      "\n",
      "         [[1.0000e+00, 1.0000e+00],\n",
      "          [1.0000e+00, 1.0000e+00]],\n",
      "\n",
      "         [[1.0000e+00, 1.0000e+00],\n",
      "          [1.0000e+00, 1.0000e+00]]]])\n"
     ]
    }
   ],
   "source": [
    "receptive_fields = torch.sigmoid(receptive_fields)\n",
    "print(receptive_fields)"
   ]
  },
  {
   "cell_type": "code",
   "execution_count": null,
   "metadata": {},
   "outputs": [],
   "source": []
  },
  {
   "cell_type": "code",
   "execution_count": 81,
   "metadata": {},
   "outputs": [],
   "source": [
    "receptive_fields.shape\n",
    "receptive_fields= receptive_fields.transpose(1, 3).add(torch.Tensor([0.1,1,1,1,2])).transpose(1,3)"
   ]
  },
  {
   "cell_type": "code",
   "execution_count": 82,
   "metadata": {},
   "outputs": [
    {
     "name": "stdout",
     "output_type": "stream",
     "text": [
      "tensor([[[[0.1000, 0.2143],\n",
      "          [0.1000, 0.1000]],\n",
      "\n",
      "         [[1.0000, 2.0000],\n",
      "          [1.0000, 1.0011]],\n",
      "\n",
      "         [[2.0000, 1.0000],\n",
      "          [2.0000, 1.0000]],\n",
      "\n",
      "         [[1.0020, 1.9998],\n",
      "          [1.0000, 1.0000]],\n",
      "\n",
      "         [[2.0020, 2.9998],\n",
      "          [2.0000, 2.0000]]],\n",
      "\n",
      "\n",
      "        [[[1.1000, 1.1000],\n",
      "          [1.1000, 1.1000]],\n",
      "\n",
      "         [[2.0000, 2.0000],\n",
      "          [2.0000, 2.0000]],\n",
      "\n",
      "         [[2.0000, 2.0000],\n",
      "          [2.0000, 2.0000]],\n",
      "\n",
      "         [[2.0000, 2.0000],\n",
      "          [2.0000, 2.0000]],\n",
      "\n",
      "         [[3.0000, 3.0000],\n",
      "          [3.0000, 3.0000]]]])\n"
     ]
    }
   ],
   "source": [
    "print(receptive_fields)"
   ]
  },
  {
   "cell_type": "code",
   "execution_count": 83,
   "metadata": {},
   "outputs": [
    {
     "name": "stdout",
     "output_type": "stream",
     "text": [
      "torch.Size([2, 5, 2, 2])\n"
     ]
    }
   ],
   "source": [
    "print(receptive_fields.shape)"
   ]
  },
  {
   "cell_type": "code",
   "execution_count": 92,
   "metadata": {},
   "outputs": [
    {
     "name": "stdout",
     "output_type": "stream",
     "text": [
      "[tensor([[[[ -6.1708,  -1.5236],\n",
      "          [ -9.8483,  -5.5783]],\n",
      "\n",
      "         [[ -7.0740,  20.7048],\n",
      "          [-20.8505,  -3.9211]]],\n",
      "\n",
      "\n",
      "        [[[ 22.2881,  40.2754],\n",
      "          [ 38.0442,  46.3490]],\n",
      "\n",
      "         [[ 24.2835,  55.5061],\n",
      "          [ 46.1751,  55.6113]]]]), tensor([[[[  6.8540, -27.8816],\n",
      "          [  8.0026, -18.3840]],\n",
      "\n",
      "         [[ -3.6077,   3.8480],\n",
      "          [-12.8417,  -6.4187]]],\n",
      "\n",
      "\n",
      "        [[[ 16.1214,  26.2990],\n",
      "          [ 28.3241,  32.6018]],\n",
      "\n",
      "         [[ 15.7239,  17.1413],\n",
      "          [ 21.0698,  25.3058]]]]), tensor([[[[ -3.6077,   3.8480],\n",
      "          [-12.8417,  -6.4187]]],\n",
      "\n",
      "\n",
      "        [[[ 15.7239,  17.1413],\n",
      "          [ 21.0698,  25.3058]]]])]\n"
     ]
    }
   ],
   "source": [
    "groups = torch.split(activations, 2, dim=1)\n",
    "groups = list(groups)\n",
    "print(groups)"
   ]
  },
  {
   "cell_type": "markdown",
   "metadata": {},
   "source": [
    "### Test regularizer on activations in layer"
   ]
  },
  {
   "cell_type": "markdown",
   "metadata": {},
   "source": [
    "#### calculate the numerator"
   ]
  },
  {
   "cell_type": "code",
   "execution_count": 264,
   "metadata": {},
   "outputs": [
    {
     "name": "stdout",
     "output_type": "stream",
     "text": [
      "torch.Size([2, 2, 2, 2])\n",
      "tensor([[[[ -6.1708,  -1.5236],\n",
      "          [ -9.8483,  -5.5783]],\n",
      "\n",
      "         [[ -7.0740,  20.7048],\n",
      "          [-20.8505,  -3.9211]]],\n",
      "\n",
      "\n",
      "        [[[ 22.2881,  40.2754],\n",
      "          [ 38.0442,  46.3490]],\n",
      "\n",
      "         [[ 24.2835,  55.5061],\n",
      "          [ 46.1751,  55.6113]]]])\n"
     ]
    }
   ],
   "source": [
    "print(groups[0].shape)\n",
    "print(groups[0])"
   ]
  },
  {
   "cell_type": "code",
   "execution_count": 265,
   "metadata": {},
   "outputs": [
    {
     "name": "stdout",
     "output_type": "stream",
     "text": [
      "torch.Size([2, 2, 2, 2])\n"
     ]
    }
   ],
   "source": [
    "difference_tensor = torch.sub(groups[0], groups[0][0][0])\n",
    "difference_tensor_2 = torch.sub(groups[1], groups[1][0][0])\n",
    "print(difference_tensor.shape)"
   ]
  },
  {
   "cell_type": "code",
   "execution_count": 266,
   "metadata": {},
   "outputs": [
    {
     "name": "stdout",
     "output_type": "stream",
     "text": [
      "tensor(410.5658)\n",
      "tensor(320.4058)\n"
     ]
    }
   ],
   "source": [
    "print(difference_tensor.norm(1))\n",
    "print(difference_tensor_2.norm(1))\n"
   ]
  },
  {
   "cell_type": "code",
   "execution_count": 267,
   "metadata": {},
   "outputs": [
    {
     "data": {
      "text/plain": [
       "tensor([[[[  0.0000,   0.0000],\n",
       "          [  0.0000,   0.0000]],\n",
       "\n",
       "         [[ -0.9031,  22.2285],\n",
       "          [-11.0023,   1.6572]]],\n",
       "\n",
       "\n",
       "        [[[ 28.4589,  41.7990],\n",
       "          [ 47.8925,  51.9273]],\n",
       "\n",
       "         [[ 30.4543,  57.0298],\n",
       "          [ 56.0234,  61.1896]]]])"
      ]
     },
     "execution_count": 267,
     "metadata": {},
     "output_type": "execute_result"
    }
   ],
   "source": [
    "difference_tensor"
   ]
  },
  {
   "cell_type": "code",
   "execution_count": 306,
   "metadata": {},
   "outputs": [
    {
     "name": "stdout",
     "output_type": "stream",
     "text": [
      "tensor([[[  0.0000,   0.0000],\n",
      "         [  0.0000,   0.0000]],\n",
      "\n",
      "        [[ -0.9031,  22.2285],\n",
      "         [-11.0023,   1.6572]]])\n",
      "tensor([[[ 0.0000,  0.0000],\n",
      "         [ 0.0000,  0.0000]],\n",
      "\n",
      "        [[ 1.9954, 15.2308],\n",
      "         [ 8.1309,  9.2623]]])\n",
      "tensor([[[  0.0000,   0.0000],\n",
      "         [  0.0000,   0.0000]],\n",
      "\n",
      "        [[-10.4618,  31.7296],\n",
      "         [-20.8443,  11.9652]]])\n",
      "tensor([[[ 0.0000,  0.0000],\n",
      "         [ 0.0000,  0.0000]],\n",
      "\n",
      "        [[-0.3975, -9.1577],\n",
      "         [-7.2543, -7.2960]]])\n"
     ]
    }
   ],
   "source": [
    "input = torch.empty(2)\n",
    "l1_norms = torch.zeros_like(input)\n",
    "batch_size = 2\n",
    "for i in range(0, 2):\n",
    "    current_group = groups[i]\n",
    "    norm = torch.zeros(1)\n",
    "    \n",
    "    for j in range(0, 2):\n",
    "        difference_tensor = torch.sub(current_group[j], current_group[j][0])\n",
    "        print(difference_tensor)\n",
    "        norm = norm  + difference_tensor.norm(1)\n",
    "    \n",
    "    #difference_tensor = torch.sub(current_group, current_group[0][0])\n",
    "    l1_norms[i] = norm"
   ]
  },
  {
   "cell_type": "code",
   "execution_count": 269,
   "metadata": {},
   "outputs": [
    {
     "data": {
      "text/plain": [
       "tensor([70.4105, 99.1064])"
      ]
     },
     "execution_count": 269,
     "metadata": {},
     "output_type": "execute_result"
    }
   ],
   "source": [
    "l1_norms"
   ]
  },
  {
   "cell_type": "code",
   "execution_count": 270,
   "metadata": {},
   "outputs": [
    {
     "data": {
      "text/plain": [
       "tensor([[[[  6.8540, -27.8816],\n",
       "          [  8.0026, -18.3840]],\n",
       "\n",
       "         [[ -3.6077,   3.8480],\n",
       "          [-12.8417,  -6.4187]]],\n",
       "\n",
       "\n",
       "        [[[ 16.1214,  26.2990],\n",
       "          [ 28.3241,  32.6018]],\n",
       "\n",
       "         [[ 15.7239,  17.1413],\n",
       "          [ 21.0698,  25.3058]]]])"
      ]
     },
     "execution_count": 270,
     "metadata": {},
     "output_type": "execute_result"
    }
   ],
   "source": [
    "current_group"
   ]
  },
  {
   "cell_type": "code",
   "execution_count": 271,
   "metadata": {},
   "outputs": [
    {
     "data": {
      "text/plain": [
       "torch.Size([2, 2])"
      ]
     },
     "execution_count": 271,
     "metadata": {},
     "output_type": "execute_result"
    }
   ],
   "source": [
    "current_group[0][0].shape"
   ]
  },
  {
   "cell_type": "code",
   "execution_count": 272,
   "metadata": {},
   "outputs": [
    {
     "data": {
      "text/plain": [
       "tensor([[[ 0.0000,  0.0000],\n",
       "         [ 0.0000,  0.0000]],\n",
       "\n",
       "        [[-0.3975, -9.1577],\n",
       "         [-7.2543, -7.2960]]])"
      ]
     },
     "execution_count": 272,
     "metadata": {},
     "output_type": "execute_result"
    }
   ],
   "source": [
    "difference_tensor"
   ]
  },
  {
   "cell_type": "markdown",
   "metadata": {},
   "source": [
    "### calculate with denominator"
   ]
  },
  {
   "cell_type": "code",
   "execution_count": 273,
   "metadata": {},
   "outputs": [
    {
     "name": "stdout",
     "output_type": "stream",
     "text": [
      "torch.Size([2, 2, 2, 2])\n",
      "[tensor([[[[ -6.1708,  -1.5236],\n",
      "          [ -9.8483,  -5.5783]],\n",
      "\n",
      "         [[ -7.0740,  20.7048],\n",
      "          [-20.8505,  -3.9211]]],\n",
      "\n",
      "\n",
      "        [[[ 22.2881,  40.2754],\n",
      "          [ 38.0442,  46.3490]],\n",
      "\n",
      "         [[ 24.2835,  55.5061],\n",
      "          [ 46.1751,  55.6113]]]]), tensor([[[[  6.8540, -27.8816],\n",
      "          [  8.0026, -18.3840]],\n",
      "\n",
      "         [[ -3.6077,   3.8480],\n",
      "          [-12.8417,  -6.4187]]],\n",
      "\n",
      "\n",
      "        [[[ 16.1214,  26.2990],\n",
      "          [ 28.3241,  32.6018]],\n",
      "\n",
      "         [[ 15.7239,  17.1413],\n",
      "          [ 21.0698,  25.3058]]]]), tensor([[[[ -3.6077,   3.8480],\n",
      "          [-12.8417,  -6.4187]]],\n",
      "\n",
      "\n",
      "        [[[ 15.7239,  17.1413],\n",
      "          [ 21.0698,  25.3058]]]])]\n"
     ]
    }
   ],
   "source": [
    "print(groups[0].shape)\n",
    "print(groups)"
   ]
  },
  {
   "cell_type": "code",
   "execution_count": 308,
   "metadata": {},
   "outputs": [
    {
     "name": "stdout",
     "output_type": "stream",
     "text": [
      "torch.Size([2, 2, 2])\n",
      "tensor([[  0.0000,   0.0000,   0.0000,   0.0000],\n",
      "        [ -0.9031,  22.2285, -11.0023,   1.6572]])\n",
      "torch.Size([2, 2, 2])\n",
      "tensor([[ 0.0000,  0.0000,  0.0000,  0.0000],\n",
      "        [ 1.9954, 15.2308,  8.1309,  9.2623]])\n",
      "torch.Size([2, 2, 2])\n",
      "tensor([[  0.0000,   0.0000,   0.0000,   0.0000],\n",
      "        [-10.4618,  31.7296, -20.8443,  11.9652]])\n",
      "torch.Size([2, 2, 2])\n",
      "tensor([[ 0.0000,  0.0000,  0.0000,  0.0000],\n",
      "        [-0.3975, -9.1577, -7.2543, -7.2960]])\n"
     ]
    }
   ],
   "source": [
    "input = torch.empty(2)\n",
    "l1_norms = torch.zeros_like(input)\n",
    "for i in range(0, 2):\n",
    "    current_group = groups[i]\n",
    "    # print(current_group.size())\n",
    "    current_norm = torch.zeros(1)\n",
    "    for j in range(0, 2):\n",
    "        current_map_set = current_group[j]  \n",
    "        print(current_map_set.shape)\n",
    "        num = current_group.size(0)\n",
    "        # print(num)\n",
    "        sub_tensor = current_map_set.contiguous().view(num, -1)\n",
    "        # print(sub_tensor.shape)\n",
    "        sub_tensor_2 = current_map_set[0].view(-1,4)\n",
    "        # print(sub_tensor_2.shape)\n",
    "        difference_tensor = torch.sub(sub_tensor, sub_tensor_2)\n",
    "        print(difference_tensor)\n",
    "        num_tensor = difference_tensor.norm(1, dim=1)\n",
    "        denom_tensor = torch.add(sub_tensor.norm(1, dim=1), sub_tensor_2.norm(1))\n",
    "        value_tensor = torch.div(num_tensor, denom_tensor).norm(1)\n",
    "        current_norm = current_norm + value_tensor\n",
    "    l1_norms[i] = current_norm"
   ]
  },
  {
   "cell_type": "code",
   "execution_count": 309,
   "metadata": {},
   "outputs": [
    {
     "name": "stdout",
     "output_type": "stream",
     "text": [
      "tensor([[16.1214, 26.2990, 28.3241, 32.6018],\n",
      "        [15.7239, 17.1413, 21.0698, 25.3058]])\n"
     ]
    }
   ],
   "source": [
    "print(sub_tensor)"
   ]
  },
  {
   "cell_type": "code",
   "execution_count": 310,
   "metadata": {},
   "outputs": [
    {
     "name": "stdout",
     "output_type": "stream",
     "text": [
      "tensor([206.6925, 182.5870])\n"
     ]
    }
   ],
   "source": [
    "print(denom_tensor)"
   ]
  },
  {
   "cell_type": "code",
   "execution_count": 311,
   "metadata": {},
   "outputs": [
    {
     "name": "stdout",
     "output_type": "stream",
     "text": [
      "tensor([ 0.0000, 24.1055])\n"
     ]
    }
   ],
   "source": [
    "print(num_tensor)"
   ]
  },
  {
   "cell_type": "code",
   "execution_count": 312,
   "metadata": {},
   "outputs": [
    {
     "data": {
      "text/plain": [
       "tensor([0.5784, 0.9859])"
      ]
     },
     "execution_count": 312,
     "metadata": {},
     "output_type": "execute_result"
    }
   ],
   "source": [
    "l1_norms"
   ]
  },
  {
   "cell_type": "code",
   "execution_count": 313,
   "metadata": {},
   "outputs": [
    {
     "data": {
      "text/plain": [
       "tensor([0.5784, 0.9859])"
      ]
     },
     "execution_count": 313,
     "metadata": {},
     "output_type": "execute_result"
    }
   ],
   "source": [
    "l1_norms"
   ]
  },
  {
   "cell_type": "code",
   "execution_count": 314,
   "metadata": {},
   "outputs": [
    {
     "data": {
      "text/plain": [
       "tensor([[ 0.0000,  0.0000,  0.0000,  0.0000],\n",
       "        [-0.3975, -9.1577, -7.2543, -7.2960]])"
      ]
     },
     "execution_count": 314,
     "metadata": {},
     "output_type": "execute_result"
    }
   ],
   "source": [
    "difference_tensor"
   ]
  },
  {
   "cell_type": "code",
   "execution_count": 315,
   "metadata": {},
   "outputs": [
    {
     "data": {
      "text/plain": [
       "tensor([ 0.0000, 24.1055])"
      ]
     },
     "execution_count": 315,
     "metadata": {},
     "output_type": "execute_result"
    }
   ],
   "source": [
    "difference_tensor.norm(1, dim=1)"
   ]
  },
  {
   "cell_type": "markdown",
   "metadata": {},
   "source": [
    "### Activation regularizer across a pair of layer"
   ]
  },
  {
   "cell_type": "code",
   "execution_count": 177,
   "metadata": {},
   "outputs": [
    {
     "data": {
      "text/plain": [
       "torch.Size([2, 5, 3, 3])"
      ]
     },
     "execution_count": 177,
     "metadata": {},
     "output_type": "execute_result"
    }
   ],
   "source": [
    "# our first set of activations are : <activations>\n",
    "#create second set of activations\n",
    "inputs = torch.randn(2,2,5,5)\n",
    "activations_set2 = F.conv2d(inputs,mock_filter_combined)\n",
    "activations_set2.shape"
   ]
  },
  {
   "cell_type": "code",
   "execution_count": 178,
   "metadata": {},
   "outputs": [
    {
     "name": "stdout",
     "output_type": "stream",
     "text": [
      "torch.Size([2, 5, 2, 2])\n"
     ]
    }
   ],
   "source": [
    "print(activations.shape)"
   ]
  },
  {
   "cell_type": "code",
   "execution_count": 193,
   "metadata": {},
   "outputs": [],
   "source": [
    "maps_per_group = int(len(activations_set2[1]) / 2)\n",
    "#print(maps_per_group)\n",
    "activation_groups = torch.split(activations_set2, 2, dim=1)\n",
    "activation_groups = list(activation_groups)"
   ]
  },
  {
   "cell_type": "code",
   "execution_count": 194,
   "metadata": {},
   "outputs": [
    {
     "data": {
      "text/plain": [
       "[tensor([[[[ -1.3348,  -8.6145,   8.6003],\n",
       "           [-30.6904, -23.3993, -16.8704],\n",
       "           [  6.9054, -13.7017, -10.1715]],\n",
       " \n",
       "          [[ 13.9408, -12.4795,  15.8232],\n",
       "           [-30.1931, -26.1316,  -1.5836],\n",
       "           [ -4.8341, -30.3453,  -7.3337]]],\n",
       " \n",
       " \n",
       "         [[[-20.0745, -36.9113, -22.3157],\n",
       "           [  1.5723,   6.4226,  26.4029],\n",
       "           [-20.2081, -10.8876,  10.6963]],\n",
       " \n",
       "          [[-22.8600, -41.2298, -18.6144],\n",
       "           [  0.4209,  -7.9651,  15.0301],\n",
       "           [-29.0653, -12.9288,   8.3575]]]]),\n",
       " tensor([[[[ -3.2511,  -0.3013,  -0.8952],\n",
       "           [ -4.3069, -25.3189, -23.0628],\n",
       "           [  1.2393,  11.0749, -25.8167]],\n",
       " \n",
       "          [[  1.2795,  -7.4962,  14.2076],\n",
       "           [-10.3752, -12.2399,   3.0166],\n",
       "           [  0.0946, -12.5814, -14.0192]]],\n",
       " \n",
       " \n",
       "         [[[-32.1756, -12.2432, -16.3602],\n",
       "           [-19.4285, -12.7395,  22.1246],\n",
       "           [-10.2177, -30.6002,   7.4415]],\n",
       " \n",
       "          [[ -3.7118, -18.4657, -11.5817],\n",
       "           [-18.2931, -12.3778,   8.1685],\n",
       "           [-23.5995,   2.7269,   7.2455]]]]),\n",
       " tensor([[[[  1.2795,  -7.4962,  14.2076],\n",
       "           [-10.3752, -12.2399,   3.0166],\n",
       "           [  0.0946, -12.5814, -14.0192]]],\n",
       " \n",
       " \n",
       "         [[[ -3.7118, -18.4657, -11.5817],\n",
       "           [-18.2931, -12.3778,   8.1685],\n",
       "           [-23.5995,   2.7269,   7.2455]]]])]"
      ]
     },
     "execution_count": 194,
     "metadata": {},
     "output_type": "execute_result"
    }
   ],
   "source": [
    "activation_groups"
   ]
  },
  {
   "cell_type": "code",
   "execution_count": 210,
   "metadata": {},
   "outputs": [],
   "source": [
    "maps_per_group = int(len(activations[1]) / 2)\n",
    "#print(maps_per_group)\n",
    "activation_groups_layer_1 = torch.split(activations, 2, dim=1)\n",
    "activation_groups_layer_1 = list(activation_groups_layer_1)"
   ]
  },
  {
   "cell_type": "code",
   "execution_count": 211,
   "metadata": {},
   "outputs": [
    {
     "data": {
      "text/plain": [
       "[tensor([[[[ -6.1708,  -1.5236],\n",
       "           [ -9.8483,  -5.5783]],\n",
       " \n",
       "          [[ -7.0740,  20.7048],\n",
       "           [-20.8505,  -3.9211]]],\n",
       " \n",
       " \n",
       "         [[[ 22.2881,  40.2754],\n",
       "           [ 38.0442,  46.3490]],\n",
       " \n",
       "          [[ 24.2835,  55.5061],\n",
       "           [ 46.1751,  55.6113]]]]), tensor([[[[  6.8540, -27.8816],\n",
       "           [  8.0026, -18.3840]],\n",
       " \n",
       "          [[ -3.6077,   3.8480],\n",
       "           [-12.8417,  -6.4187]]],\n",
       " \n",
       " \n",
       "         [[[ 16.1214,  26.2990],\n",
       "           [ 28.3241,  32.6018]],\n",
       " \n",
       "          [[ 15.7239,  17.1413],\n",
       "           [ 21.0698,  25.3058]]]]), tensor([[[[ -3.6077,   3.8480],\n",
       "           [-12.8417,  -6.4187]]],\n",
       " \n",
       " \n",
       "         [[[ 15.7239,  17.1413],\n",
       "           [ 21.0698,  25.3058]]]])]"
      ]
     },
     "execution_count": 211,
     "metadata": {},
     "output_type": "execute_result"
    }
   ],
   "source": [
    "activation_groups_layer_1"
   ]
  },
  {
   "cell_type": "code",
   "execution_count": 205,
   "metadata": {},
   "outputs": [],
   "source": [
    "input = torch.empty(2)\n",
    "groupwise_activation_norms = torch.zeros_like(input)"
   ]
  },
  {
   "cell_type": "code",
   "execution_count": 316,
   "metadata": {},
   "outputs": [
    {
     "ename": "RuntimeError",
     "evalue": "The size of tensor a (9) must match the size of tensor b (4) at non-singleton dimension 1",
     "output_type": "error",
     "traceback": [
      "\u001b[0;31m---------------------------------------------------------------------------\u001b[0m",
      "\u001b[0;31mRuntimeError\u001b[0m                              Traceback (most recent call last)",
      "\u001b[0;32m<ipython-input-316-f81e235d874b>\u001b[0m in \u001b[0;36m<module>\u001b[0;34m()\u001b[0m\n\u001b[1;32m     10\u001b[0m     \u001b[0mfirst_map_row_view\u001b[0m \u001b[0;34m=\u001b[0m  \u001b[0mcurrent_group_layer_1\u001b[0m\u001b[0;34m[\u001b[0m\u001b[0;36m0\u001b[0m\u001b[0;34m]\u001b[0m\u001b[0;34m[\u001b[0m\u001b[0;36m0\u001b[0m\u001b[0;34m]\u001b[0m\u001b[0;34m.\u001b[0m\u001b[0mview\u001b[0m\u001b[0;34m(\u001b[0m\u001b[0;34m-\u001b[0m\u001b[0;36m1\u001b[0m\u001b[0;34m,\u001b[0m \u001b[0msize_of_map_layer_1\u001b[0m\u001b[0;34m)\u001b[0m  \u001b[0;31m# shape: 1 X (Height * Width)\u001b[0m\u001b[0;34m\u001b[0m\u001b[0;34m\u001b[0m\u001b[0m\n\u001b[1;32m     11\u001b[0m \u001b[0;34m\u001b[0m\u001b[0m\n\u001b[0;32m---> 12\u001b[0;31m     \u001b[0mdifference_tensor\u001b[0m \u001b[0;34m=\u001b[0m \u001b[0mtorch\u001b[0m\u001b[0;34m.\u001b[0m\u001b[0msub\u001b[0m\u001b[0;34m(\u001b[0m\u001b[0mmap_per_row_view\u001b[0m\u001b[0;34m,\u001b[0m \u001b[0mfirst_map_row_view\u001b[0m\u001b[0;34m)\u001b[0m\u001b[0;34m\u001b[0m\u001b[0;34m\u001b[0m\u001b[0m\n\u001b[0m\u001b[1;32m     13\u001b[0m     \u001b[0mnumerator_tensor\u001b[0m \u001b[0;34m=\u001b[0m \u001b[0mdifference_tensor\u001b[0m\u001b[0;34m.\u001b[0m\u001b[0mnorm\u001b[0m\u001b[0;34m(\u001b[0m\u001b[0;36m1\u001b[0m\u001b[0;34m,\u001b[0m \u001b[0mdim\u001b[0m\u001b[0;34m=\u001b[0m\u001b[0;36m1\u001b[0m\u001b[0;34m)\u001b[0m\u001b[0;34m\u001b[0m\u001b[0;34m\u001b[0m\u001b[0m\n\u001b[1;32m     14\u001b[0m     \u001b[0mdenominator_tensor\u001b[0m \u001b[0;34m=\u001b[0m \u001b[0mtorch\u001b[0m\u001b[0;34m.\u001b[0m\u001b[0madd\u001b[0m\u001b[0;34m(\u001b[0m\u001b[0mmap_per_row_view\u001b[0m\u001b[0;34m.\u001b[0m\u001b[0mnorm\u001b[0m\u001b[0;34m(\u001b[0m\u001b[0;36m1\u001b[0m\u001b[0;34m,\u001b[0m \u001b[0mdim\u001b[0m\u001b[0;34m=\u001b[0m\u001b[0;36m1\u001b[0m\u001b[0;34m)\u001b[0m\u001b[0;34m,\u001b[0m \u001b[0mfirst_map_row_view\u001b[0m\u001b[0;34m.\u001b[0m\u001b[0mnorm\u001b[0m\u001b[0;34m(\u001b[0m\u001b[0;36m1\u001b[0m\u001b[0;34m)\u001b[0m\u001b[0;34m)\u001b[0m\u001b[0;34m\u001b[0m\u001b[0;34m\u001b[0m\u001b[0m\n",
      "\u001b[0;31mRuntimeError\u001b[0m: The size of tensor a (9) must match the size of tensor b (4) at non-singleton dimension 1"
     ]
    }
   ],
   "source": [
    "for i in range(0, 2):\n",
    "    current_group = activation_groups[i]\n",
    "    current_group_layer_1 = activation_groups_layer_1[i]\n",
    "    \n",
    "    num = current_group.size(0) * current_group.size(1)\n",
    "    size_of_map = current_group.size(2) * current_group.size(3)\n",
    "    size_of_map_layer_1 = current_group_layer_1.size(2) * current_group_layer_1.size(3)\n",
    "    \n",
    "    map_per_row_view = current_group.contiguous().view(num, -1)       # shape: (Batches*Channels) X (Height * Width)\n",
    "    first_map_row_view =  current_group_layer_1[0][0].view(-1, size_of_map_layer_1)  # shape: 1 X (Height * Width)\n",
    "    \n",
    "    difference_tensor = torch.sub(map_per_row_view, first_map_row_view)\n",
    "    numerator_tensor = difference_tensor.norm(1, dim=1)\n",
    "    denominator_tensor = torch.add(map_per_row_view.norm(1, dim=1), first_map_row_view.norm(1))\n",
    "    groupwise_activation_norms[i] = torch.div(numerator_tensor, denominator_tensor).sum()"
   ]
  },
  {
   "cell_type": "code",
   "execution_count": 215,
   "metadata": {},
   "outputs": [
    {
     "data": {
      "text/plain": [
       "torch.Size([2, 2, 3, 3])"
      ]
     },
     "execution_count": 215,
     "metadata": {},
     "output_type": "execute_result"
    }
   ],
   "source": [
    "activation_groups[i].shape"
   ]
  },
  {
   "cell_type": "code",
   "execution_count": 216,
   "metadata": {},
   "outputs": [
    {
     "data": {
      "text/plain": [
       "torch.Size([2, 2, 2, 2])"
      ]
     },
     "execution_count": 216,
     "metadata": {},
     "output_type": "execute_result"
    }
   ],
   "source": [
    "activation_groups_layer_1[i].shape"
   ]
  },
  {
   "cell_type": "code",
   "execution_count": 217,
   "metadata": {},
   "outputs": [
    {
     "data": {
      "text/plain": [
       "torch.Size([2, 2])"
      ]
     },
     "execution_count": 217,
     "metadata": {},
     "output_type": "execute_result"
    }
   ],
   "source": [
    "activation_groups_layer_1[i][0][0].unsqueeze(0)"
   ]
  },
  {
   "cell_type": "code",
   "execution_count": null,
   "metadata": {},
   "outputs": [],
   "source": []
  },
  {
   "cell_type": "code",
   "execution_count": null,
   "metadata": {},
   "outputs": [],
   "source": []
  },
  {
   "cell_type": "code",
   "execution_count": null,
   "metadata": {},
   "outputs": [],
   "source": []
  },
  {
   "cell_type": "code",
   "execution_count": null,
   "metadata": {},
   "outputs": [],
   "source": []
  },
  {
   "cell_type": "code",
   "execution_count": null,
   "metadata": {},
   "outputs": [],
   "source": []
  },
  {
   "cell_type": "code",
   "execution_count": null,
   "metadata": {},
   "outputs": [],
   "source": []
  },
  {
   "cell_type": "code",
   "execution_count": null,
   "metadata": {},
   "outputs": [],
   "source": []
  },
  {
   "cell_type": "code",
   "execution_count": null,
   "metadata": {},
   "outputs": [],
   "source": []
  },
  {
   "cell_type": "code",
   "execution_count": null,
   "metadata": {},
   "outputs": [],
   "source": []
  },
  {
   "cell_type": "code",
   "execution_count": null,
   "metadata": {},
   "outputs": [],
   "source": []
  },
  {
   "cell_type": "code",
   "execution_count": null,
   "metadata": {},
   "outputs": [],
   "source": []
  }
 ],
 "metadata": {
  "kernelspec": {
   "display_name": "Python 3",
   "language": "python",
   "name": "python3"
  },
  "language_info": {
   "codemirror_mode": {
    "name": "ipython",
    "version": 3
   },
   "file_extension": ".py",
   "mimetype": "text/x-python",
   "name": "python",
   "nbconvert_exporter": "python",
   "pygments_lexer": "ipython3",
   "version": "3.6.7"
  }
 },
 "nbformat": 4,
 "nbformat_minor": 2
}
