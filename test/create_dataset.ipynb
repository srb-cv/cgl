{
 "cells": [
  {
   "cell_type": "code",
   "execution_count": 1,
   "metadata": {},
   "outputs": [],
   "source": [
    "import numpy as np\n",
    "from matplotlib import pyplot as plt\n",
    "%matplotlib inline\n",
    "import cv2\n",
    "import random\n",
    "from PIL import Image"
   ]
  },
  {
   "cell_type": "code",
   "execution_count": 2,
   "metadata": {},
   "outputs": [],
   "source": [
    "height = 64\n",
    "width = 64\n",
    "blank_image = np.ones((height,width,3), np.uint8) * 255\n",
    "c=4"
   ]
  },
  {
   "cell_type": "code",
   "execution_count": 3,
   "metadata": {},
   "outputs": [],
   "source": [
    "color_list = [(255,0,0),(0,255,0),(0,0,255)]\n",
    "figure_list = ['CIRCLE','SQUARE','TRIANGLE']\n",
    "color_dict = {'RED':(255,0,0),'GREEN':(0,255,0),'BLUE':(0,0,255)}\n",
    "color_label_dict = {'RED':10, 'GREEN':20, 'BLUE':30}\n",
    "shape_label_dict = {'CIRCLE':10, 'SQUARE':20, 'TRIANGLE':30}\n",
    "\n",
    "label_dict = {'CIRCLE_RED':10, 'CIRCLE_GREEN':20, 'CIRCLE_BLUE':30,\n",
    "             'SQUARE_RED':40, 'SQUARE_GREEN':50, 'SQUARE_BLUE':60,\n",
    "             'TRIANGLE_RED':70, 'TRIANGLE_GREEN':80, 'TRIANGLE_BLUE':90}\n"
   ]
  },
  {
   "cell_type": "code",
   "execution_count": 4,
   "metadata": {},
   "outputs": [],
   "source": [
    "def draw_shapes(img, random_figure, random_color, pts):\n",
    "    x = pts[0]\n",
    "    y = pts[1]\n",
    "    if random_figure == 'SQUARE':\n",
    "        img = cv2.rectangle(img,(x-c,y-c),(x+c, y+c),random_color,-1)\n",
    "    elif random_figure == 'TRIANGLE':\n",
    "        pt1 = (x-c, y+c)\n",
    "        pt2 = (x+c, y+c)\n",
    "        pt3 = (x, y-c)\n",
    "        triangle_cnt = np.array([pt1, pt2, pt3])\n",
    "        img = cv2.drawContours(img, [triangle_cnt], 0,random_color, -1)\n",
    "    elif random_figure == 'CIRCLE':\n",
    "        img = cv2.circle(img, (x,y), c,random_color,-1)\n",
    "    else :\n",
    "        print(\"Invalid choice of figure(or may be invalid color)\")\n",
    "        return None\n",
    "    return img\n",
    "\n",
    "\n",
    "def draw_labels_shapes(shape_label, random_figure, random_color, pts):\n",
    "    x = pts[0]\n",
    "    y = pts[1]\n",
    "    if random_figure == 'SQUARE':\n",
    "        shape_label = cv2.rectangle(shape_label,(x-c,y-c),(x+c, y+c), \n",
    "                                    (shape_label_dict[random_figure],0,0),-1)\n",
    "    elif random_figure == 'TRIANGLE':\n",
    "        pt1 = (x-c, y+c)\n",
    "        pt2 = (x+c, y+c)\n",
    "        pt3 = (x, y-c)\n",
    "        triangle_cnt = np.array([pt1, pt2, pt3])\n",
    "        shape_label = cv2.drawContours(shape_label, [triangle_cnt], 0, \n",
    "                                       (shape_label_dict[random_figure],0,0), -1)\n",
    "    elif random_figure == 'CIRCLE':\n",
    "        shape_label = cv2.circle(shape_label, (x,y), c, \n",
    "                                 (shape_label_dict[random_figure],0,0) ,-1)\n",
    "    else :\n",
    "        print(\"Invalid choice of figure(or may be invalid color)\")\n",
    "        return None\n",
    "    return shape_label\n",
    "\n",
    "\n",
    "def draw_label_colors(color_label, random_figure, random_color, pts):\n",
    "    x = pts[0]\n",
    "    y = pts[1]\n",
    "    if random_figure == 'SQUARE':\n",
    "        color_label = cv2.rectangle(color_label,(x-c,y-c),(x+c, y+c), \n",
    "                                    (color_label_dict[random_color],0,0),-1)\n",
    "    elif random_figure == 'TRIANGLE':\n",
    "        pt1 = (x-c, y+c)\n",
    "        pt2 = (x+c, y+c)\n",
    "        pt3 = (x, y-c)\n",
    "        triangle_cnt = np.array([pt1, pt2, pt3])\n",
    "        color_label = cv2.drawContours(color_label, [triangle_cnt], 0, \n",
    "                                       (color_label_dict[random_color],0,0), -1)\n",
    "    elif random_figure == 'CIRCLE':\n",
    "        color_label = cv2.circle(color_label, (x,y), c, (color_label_dict[random_color],0,0),-1)\n",
    "    else :\n",
    "        print(\"Invalid choice of figure(or may be invalid color)\")\n",
    "        return None\n",
    "    return color_label\n",
    "\n",
    "\n",
    "\n",
    "def draw_labels(label, random_figure, random_color, pts):\n",
    "    x = pts[0]\n",
    "    y = pts[1]\n",
    "    if random_figure == 'SQUARE':\n",
    "        label = cv2.rectangle(label,(x-c,y-c),(x+c, y+c), \n",
    "                                    (label_dict[random_figure+'_'+random_color],0,0),-1)\n",
    "    elif random_figure == 'TRIANGLE':\n",
    "        pt1 = (x-c, y+c)\n",
    "        pt2 = (x+c, y+c)\n",
    "        pt3 = (x, y-c)\n",
    "        triangle_cnt = np.array([pt1, pt2, pt3])\n",
    "        label = cv2.drawContours(label, [triangle_cnt], 0, \n",
    "                                       (label_dict[random_figure+'_'+random_color],0,0), -1)\n",
    "    elif random_figure == 'CIRCLE':\n",
    "        label = cv2.circle(label, (x,y), c, \n",
    "                           (label_dict[random_figure+'_'+random_color],0,0),-1)\n",
    "    else :\n",
    "        print(\"Invalid choice of figure(or may be invalid color)\")\n",
    "        return None\n",
    "    return label\n",
    "    "
   ]
  },
  {
   "cell_type": "code",
   "execution_count": 5,
   "metadata": {},
   "outputs": [],
   "source": [
    "def draw_random_figure(img):\n",
    "    #random_number = random.choice([1,2])\n",
    "    random_number = 2\n",
    "    random_color = random.choice(color_list)\n",
    "    random_figure = random.choice(figure_list)\n",
    "    if random_number==1:\n",
    "        x, y = np.random.randint(c, img.shape[1]-c, size=(2))\n",
    "        img = draw_shapes(img, random_figure, random_color, (x,y))\n",
    "        print(random_color)\n",
    "        print(random_figure)\n",
    "        print(x, y)\n",
    "        \n",
    "    if random_number==2:\n",
    "        x = np.random.randint(c, img.shape[1]-c, size=(1))\n",
    "        #x = c+4\n",
    "        y = np.random.randint(c, img.shape[0]/2-c, size=(1))\n",
    "        #y = int(img.shape[0]/2-c)\n",
    "        draw_shapes(img, random_figure, random_color, (x,y))\n",
    "        print(random_color)\n",
    "        print(random_figure)\n",
    "        print(x, y)\n",
    "        \n",
    "        random_color = random.choice(color_list)\n",
    "        random_figure = random.choice(figure_list)\n",
    "        x = np.random.randint(c, img.shape[1]-c, size=(1))\n",
    "        #x = c + 4\n",
    "        y = np.random.randint(img.shape[0]/2 + c + 2, img.shape[0]-c, size=(1))\n",
    "        #y = int(img.shape[0]/2 + c +2)\n",
    "        draw_shapes(img, random_figure, random_color, (x,y))\n",
    "        print(random_color)\n",
    "        print(random_figure)\n",
    "        print(x, y)\n",
    "    \n",
    "    \n",
    "    return img\n",
    "    "
   ]
  },
  {
   "cell_type": "code",
   "execution_count": 6,
   "metadata": {},
   "outputs": [],
   "source": [
    "colors = ['RED', 'GREEN', 'BLUE']\n",
    "shapes = ['SQUARE', 'TRIANGLE', 'CIRCLE']"
   ]
  },
  {
   "cell_type": "code",
   "execution_count": 7,
   "metadata": {},
   "outputs": [],
   "source": [
    "from itertools import combinations_with_replacement\n",
    "from itertools import product"
   ]
  },
  {
   "cell_type": "code",
   "execution_count": 8,
   "metadata": {},
   "outputs": [],
   "source": [
    "comb_colors = combinations_with_replacement(colors, 2)\n"
   ]
  },
  {
   "cell_type": "code",
   "execution_count": 9,
   "metadata": {},
   "outputs": [],
   "source": [
    "perm_colors = product(colors, repeat=2)"
   ]
  },
  {
   "cell_type": "code",
   "execution_count": 10,
   "metadata": {},
   "outputs": [],
   "source": [
    "comb_shapes = combinations_with_replacement(shapes, 2)"
   ]
  },
  {
   "cell_type": "code",
   "execution_count": 11,
   "metadata": {},
   "outputs": [],
   "source": [
    "classes = list(product(perm_colors, comb_shapes))"
   ]
  },
  {
   "cell_type": "code",
   "execution_count": 12,
   "metadata": {},
   "outputs": [
    {
     "name": "stdout",
     "output_type": "stream",
     "text": [
      "0 (('RED', 'RED'), ('SQUARE', 'SQUARE'))\n",
      "1 (('RED', 'RED'), ('SQUARE', 'TRIANGLE'))\n",
      "2 (('RED', 'RED'), ('SQUARE', 'CIRCLE'))\n",
      "3 (('RED', 'RED'), ('TRIANGLE', 'TRIANGLE'))\n",
      "4 (('RED', 'RED'), ('TRIANGLE', 'CIRCLE'))\n",
      "5 (('RED', 'RED'), ('CIRCLE', 'CIRCLE'))\n",
      "6 (('RED', 'GREEN'), ('SQUARE', 'SQUARE'))\n",
      "7 (('RED', 'GREEN'), ('SQUARE', 'TRIANGLE'))\n",
      "8 (('RED', 'GREEN'), ('SQUARE', 'CIRCLE'))\n",
      "9 (('RED', 'GREEN'), ('TRIANGLE', 'TRIANGLE'))\n",
      "10 (('RED', 'GREEN'), ('TRIANGLE', 'CIRCLE'))\n",
      "11 (('RED', 'GREEN'), ('CIRCLE', 'CIRCLE'))\n",
      "12 (('RED', 'BLUE'), ('SQUARE', 'SQUARE'))\n",
      "13 (('RED', 'BLUE'), ('SQUARE', 'TRIANGLE'))\n",
      "14 (('RED', 'BLUE'), ('SQUARE', 'CIRCLE'))\n",
      "15 (('RED', 'BLUE'), ('TRIANGLE', 'TRIANGLE'))\n",
      "16 (('RED', 'BLUE'), ('TRIANGLE', 'CIRCLE'))\n",
      "17 (('RED', 'BLUE'), ('CIRCLE', 'CIRCLE'))\n",
      "18 (('GREEN', 'RED'), ('SQUARE', 'SQUARE'))\n",
      "19 (('GREEN', 'RED'), ('SQUARE', 'TRIANGLE'))\n",
      "20 (('GREEN', 'RED'), ('SQUARE', 'CIRCLE'))\n",
      "21 (('GREEN', 'RED'), ('TRIANGLE', 'TRIANGLE'))\n",
      "22 (('GREEN', 'RED'), ('TRIANGLE', 'CIRCLE'))\n",
      "23 (('GREEN', 'RED'), ('CIRCLE', 'CIRCLE'))\n",
      "24 (('GREEN', 'GREEN'), ('SQUARE', 'SQUARE'))\n",
      "25 (('GREEN', 'GREEN'), ('SQUARE', 'TRIANGLE'))\n",
      "26 (('GREEN', 'GREEN'), ('SQUARE', 'CIRCLE'))\n",
      "27 (('GREEN', 'GREEN'), ('TRIANGLE', 'TRIANGLE'))\n",
      "28 (('GREEN', 'GREEN'), ('TRIANGLE', 'CIRCLE'))\n",
      "29 (('GREEN', 'GREEN'), ('CIRCLE', 'CIRCLE'))\n",
      "30 (('GREEN', 'BLUE'), ('SQUARE', 'SQUARE'))\n",
      "31 (('GREEN', 'BLUE'), ('SQUARE', 'TRIANGLE'))\n",
      "32 (('GREEN', 'BLUE'), ('SQUARE', 'CIRCLE'))\n",
      "33 (('GREEN', 'BLUE'), ('TRIANGLE', 'TRIANGLE'))\n",
      "34 (('GREEN', 'BLUE'), ('TRIANGLE', 'CIRCLE'))\n",
      "35 (('GREEN', 'BLUE'), ('CIRCLE', 'CIRCLE'))\n",
      "36 (('BLUE', 'RED'), ('SQUARE', 'SQUARE'))\n",
      "37 (('BLUE', 'RED'), ('SQUARE', 'TRIANGLE'))\n",
      "38 (('BLUE', 'RED'), ('SQUARE', 'CIRCLE'))\n",
      "39 (('BLUE', 'RED'), ('TRIANGLE', 'TRIANGLE'))\n",
      "40 (('BLUE', 'RED'), ('TRIANGLE', 'CIRCLE'))\n",
      "41 (('BLUE', 'RED'), ('CIRCLE', 'CIRCLE'))\n",
      "42 (('BLUE', 'GREEN'), ('SQUARE', 'SQUARE'))\n",
      "43 (('BLUE', 'GREEN'), ('SQUARE', 'TRIANGLE'))\n",
      "44 (('BLUE', 'GREEN'), ('SQUARE', 'CIRCLE'))\n",
      "45 (('BLUE', 'GREEN'), ('TRIANGLE', 'TRIANGLE'))\n",
      "46 (('BLUE', 'GREEN'), ('TRIANGLE', 'CIRCLE'))\n",
      "47 (('BLUE', 'GREEN'), ('CIRCLE', 'CIRCLE'))\n",
      "48 (('BLUE', 'BLUE'), ('SQUARE', 'SQUARE'))\n",
      "49 (('BLUE', 'BLUE'), ('SQUARE', 'TRIANGLE'))\n",
      "50 (('BLUE', 'BLUE'), ('SQUARE', 'CIRCLE'))\n",
      "51 (('BLUE', 'BLUE'), ('TRIANGLE', 'TRIANGLE'))\n",
      "52 (('BLUE', 'BLUE'), ('TRIANGLE', 'CIRCLE'))\n",
      "53 (('BLUE', 'BLUE'), ('CIRCLE', 'CIRCLE'))\n"
     ]
    }
   ],
   "source": [
    "for i, a_class in enumerate(classes):\n",
    "    print(i, a_class)"
   ]
  },
  {
   "cell_type": "code",
   "execution_count": 13,
   "metadata": {},
   "outputs": [],
   "source": [
    "classes.remove((('GREEN', 'BLUE'), ('CIRCLE', 'CIRCLE')))\n",
    "classes.remove((('GREEN', 'BLUE'), ('SQUARE', 'SQUARE')))\n",
    "classes.remove((('GREEN', 'BLUE'), ('TRIANGLE', 'TRIANGLE')))\n",
    "\n",
    "classes.remove((('BLUE', 'RED'), ('CIRCLE', 'CIRCLE')))\n",
    "classes.remove((('BLUE', 'RED'), ('SQUARE', 'SQUARE')))\n",
    "classes.remove((('BLUE', 'RED'), ('TRIANGLE', 'TRIANGLE')))\n",
    "\n",
    "classes.remove((('GREEN', 'RED'), ('CIRCLE', 'CIRCLE')))\n",
    "classes.remove((('GREEN', 'RED'), ('SQUARE', 'SQUARE')))\n",
    "classes.remove((('GREEN', 'RED'), ('TRIANGLE', 'TRIANGLE')))\n"
   ]
  },
  {
   "cell_type": "code",
   "execution_count": 14,
   "metadata": {},
   "outputs": [
    {
     "name": "stdout",
     "output_type": "stream",
     "text": [
      "0 (('RED', 'RED'), ('SQUARE', 'SQUARE'))\n",
      "1 (('RED', 'RED'), ('SQUARE', 'TRIANGLE'))\n",
      "2 (('RED', 'RED'), ('SQUARE', 'CIRCLE'))\n",
      "3 (('RED', 'RED'), ('TRIANGLE', 'TRIANGLE'))\n",
      "4 (('RED', 'RED'), ('TRIANGLE', 'CIRCLE'))\n",
      "5 (('RED', 'RED'), ('CIRCLE', 'CIRCLE'))\n",
      "6 (('RED', 'GREEN'), ('SQUARE', 'SQUARE'))\n",
      "7 (('RED', 'GREEN'), ('SQUARE', 'TRIANGLE'))\n",
      "8 (('RED', 'GREEN'), ('SQUARE', 'CIRCLE'))\n",
      "9 (('RED', 'GREEN'), ('TRIANGLE', 'TRIANGLE'))\n",
      "10 (('RED', 'GREEN'), ('TRIANGLE', 'CIRCLE'))\n",
      "11 (('RED', 'GREEN'), ('CIRCLE', 'CIRCLE'))\n",
      "12 (('RED', 'BLUE'), ('SQUARE', 'SQUARE'))\n",
      "13 (('RED', 'BLUE'), ('SQUARE', 'TRIANGLE'))\n",
      "14 (('RED', 'BLUE'), ('SQUARE', 'CIRCLE'))\n",
      "15 (('RED', 'BLUE'), ('TRIANGLE', 'TRIANGLE'))\n",
      "16 (('RED', 'BLUE'), ('TRIANGLE', 'CIRCLE'))\n",
      "17 (('RED', 'BLUE'), ('CIRCLE', 'CIRCLE'))\n",
      "18 (('GREEN', 'RED'), ('SQUARE', 'TRIANGLE'))\n",
      "19 (('GREEN', 'RED'), ('SQUARE', 'CIRCLE'))\n",
      "20 (('GREEN', 'RED'), ('TRIANGLE', 'CIRCLE'))\n",
      "21 (('GREEN', 'GREEN'), ('SQUARE', 'SQUARE'))\n",
      "22 (('GREEN', 'GREEN'), ('SQUARE', 'TRIANGLE'))\n",
      "23 (('GREEN', 'GREEN'), ('SQUARE', 'CIRCLE'))\n",
      "24 (('GREEN', 'GREEN'), ('TRIANGLE', 'TRIANGLE'))\n",
      "25 (('GREEN', 'GREEN'), ('TRIANGLE', 'CIRCLE'))\n",
      "26 (('GREEN', 'GREEN'), ('CIRCLE', 'CIRCLE'))\n",
      "27 (('GREEN', 'BLUE'), ('SQUARE', 'TRIANGLE'))\n",
      "28 (('GREEN', 'BLUE'), ('SQUARE', 'CIRCLE'))\n",
      "29 (('GREEN', 'BLUE'), ('TRIANGLE', 'CIRCLE'))\n",
      "30 (('BLUE', 'RED'), ('SQUARE', 'TRIANGLE'))\n",
      "31 (('BLUE', 'RED'), ('SQUARE', 'CIRCLE'))\n",
      "32 (('BLUE', 'RED'), ('TRIANGLE', 'CIRCLE'))\n",
      "33 (('BLUE', 'GREEN'), ('SQUARE', 'SQUARE'))\n",
      "34 (('BLUE', 'GREEN'), ('SQUARE', 'TRIANGLE'))\n",
      "35 (('BLUE', 'GREEN'), ('SQUARE', 'CIRCLE'))\n",
      "36 (('BLUE', 'GREEN'), ('TRIANGLE', 'TRIANGLE'))\n",
      "37 (('BLUE', 'GREEN'), ('TRIANGLE', 'CIRCLE'))\n",
      "38 (('BLUE', 'GREEN'), ('CIRCLE', 'CIRCLE'))\n",
      "39 (('BLUE', 'BLUE'), ('SQUARE', 'SQUARE'))\n",
      "40 (('BLUE', 'BLUE'), ('SQUARE', 'TRIANGLE'))\n",
      "41 (('BLUE', 'BLUE'), ('SQUARE', 'CIRCLE'))\n",
      "42 (('BLUE', 'BLUE'), ('TRIANGLE', 'TRIANGLE'))\n",
      "43 (('BLUE', 'BLUE'), ('TRIANGLE', 'CIRCLE'))\n",
      "44 (('BLUE', 'BLUE'), ('CIRCLE', 'CIRCLE'))\n"
     ]
    }
   ],
   "source": [
    "for i, a_class in enumerate(classes):\n",
    "    print(i, a_class)"
   ]
  },
  {
   "cell_type": "code",
   "execution_count": 54,
   "metadata": {},
   "outputs": [],
   "source": [
    "import _pickle as cPickle"
   ]
  },
  {
   "cell_type": "code",
   "execution_count": 55,
   "metadata": {},
   "outputs": [],
   "source": [
    "cPickle.dump(classes, open('classes.pkl', 'wb'))"
   ]
  },
  {
   "cell_type": "code",
   "execution_count": 56,
   "metadata": {},
   "outputs": [],
   "source": [
    "new_classes = cPickle.load(open('classes.pkl', 'rb'))"
   ]
  },
  {
   "cell_type": "code",
   "execution_count": 57,
   "metadata": {},
   "outputs": [],
   "source": [
    "assert classes==new_classes\n"
   ]
  },
  {
   "cell_type": "code",
   "execution_count": 58,
   "metadata": {},
   "outputs": [
    {
     "data": {
      "text/plain": [
       "45"
      ]
     },
     "execution_count": 58,
     "metadata": {},
     "output_type": "execute_result"
    }
   ],
   "source": [
    "len(new_classes)"
   ]
  },
  {
   "cell_type": "code",
   "execution_count": 59,
   "metadata": {},
   "outputs": [],
   "source": [
    "def create_class_images(class_tuple, img):\n",
    "    shape_label = np.zeros((img.shape[0],img.shape[1],3), np.uint8) \n",
    "    color_label = np.zeros((img.shape[0],img.shape[1],3), np.uint8) \n",
    "    label = np.zeros((img.shape[0],img.shape[1],3), np.uint8) \n",
    "    \n",
    "    colors, shapes = class_tuple\n",
    "    \n",
    "    x = np.random.randint(c, img.shape[1]-c, size=(1))\n",
    "    y = np.random.randint(c, img.shape[0]/2-c, size=(1))\n",
    "    draw_shapes(img, shapes[0], color_dict[colors[0]], (x,y))\n",
    "    draw_labels_shapes(shape_label, shapes[0], colors[0], (x,y))\n",
    "    draw_label_colors(color_label, shapes[0], colors[0], (x,y))\n",
    "    draw_labels(label, shapes[0], colors[0], (x,y))\n",
    "\n",
    "    x = np.random.randint(c, img.shape[1]-c, size=(1))\n",
    "    y = np.random.randint(img.shape[0]/2 + c + 2, img.shape[0]-c, size=(1))\n",
    "    draw_shapes(img, shapes[1], color_dict[colors[1]], (x,y))\n",
    "    draw_labels_shapes(shape_label, shapes[1], colors[1], (x,y))\n",
    "    draw_label_colors(color_label, shapes[1], colors[1], (x,y))\n",
    "    draw_labels(label, shapes[1], colors[1], (x,y))\n",
    "    \n",
    "    return img, shape_label, color_label, label"
   ]
  },
  {
   "cell_type": "code",
   "execution_count": 60,
   "metadata": {
    "scrolled": true
   },
   "outputs": [
    {
     "data": {
      "image/png": "[encoded data removed]",
      "text/plain": [
       "<Figure size 432x288 with 1 Axes>"
      ]
     },
     "metadata": {
      "needs_background": "light"
     },
     "output_type": "display_data"
    }
   ],
   "source": [
    "img = np.ones((height,width,3), np.uint8) * 255\n",
    "img, shape_label, color_label, label = create_class_images(new_classes[13],img)\n",
    "plt.imshow(img)\n",
    "plt.show()"
   ]
  },
  {
   "cell_type": "code",
   "execution_count": 61,
   "metadata": {},
   "outputs": [
    {
     "data": {
      "text/plain": [
       "array([[  0,   0, 255],\n",
       "       [255,   0,   0],\n",
       "       [255, 255, 255]], dtype=uint8)"
      ]
     },
     "execution_count": 61,
     "metadata": {},
     "output_type": "execute_result"
    }
   ],
   "source": [
    "np.unique(img.reshape(-1, img.shape[2]), axis=0)"
   ]
  },
  {
   "cell_type": "code",
   "execution_count": 62,
   "metadata": {},
   "outputs": [
    {
     "data": {
      "image/png": "[encoded data removed]",
      "text/plain": [
       "<Figure size 432x288 with 1 Axes>"
      ]
     },
     "metadata": {
      "needs_background": "light"
     },
     "output_type": "display_data"
    },
    {
     "name": "stdout",
     "output_type": "stream",
     "text": [
      "the unique labels: \n",
      " [[ 0  0  0]\n",
      " [20  0  0]\n",
      " [30  0  0]]\n",
      "shape of the label  (64, 64, 3)\n"
     ]
    }
   ],
   "source": [
    "plt.imshow(shape_label)\n",
    "plt.show()\n",
    "print(\"the unique labels: \\n\", np.unique(shape_label.reshape(-1, shape_label.shape[2]), axis=0))\n",
    "print(\"shape of the label \", shape_label.shape)"
   ]
  },
  {
   "cell_type": "code",
   "execution_count": 63,
   "metadata": {},
   "outputs": [
    {
     "data": {
      "image/png": "[encoded data removed]",
      "text/plain": [
       "<Figure size 432x288 with 1 Axes>"
      ]
     },
     "metadata": {
      "needs_background": "light"
     },
     "output_type": "display_data"
    },
    {
     "name": "stdout",
     "output_type": "stream",
     "text": [
      "the unique labels: \n",
      " [[ 0  0  0]\n",
      " [10  0  0]\n",
      " [30  0  0]]\n",
      "shape of the label  (64, 64, 3)\n"
     ]
    }
   ],
   "source": [
    "plt.imshow(color_label)\n",
    "plt.show()\n",
    "print(\"the unique labels: \\n\", np.unique(color_label.reshape(-1, color_label.shape[2]), axis=0))\n",
    "print(\"shape of the label \", color_label.shape)"
   ]
  },
  {
   "cell_type": "code",
   "execution_count": 64,
   "metadata": {},
   "outputs": [
    {
     "data": {
      "image/png": "[encoded data removed]",
      "text/plain": [
       "<Figure size 432x288 with 1 Axes>"
      ]
     },
     "metadata": {
      "needs_background": "light"
     },
     "output_type": "display_data"
    },
    {
     "name": "stdout",
     "output_type": "stream",
     "text": [
      "the unique labels: \n",
      " [[ 0  0  0]\n",
      " [40  0  0]\n",
      " [90  0  0]]\n",
      "shape of the label  (64, 64, 3)\n"
     ]
    }
   ],
   "source": [
    "plt.imshow(label)\n",
    "plt.show()\n",
    "print(\"the unique labels: \\n\", np.unique(label.reshape(-1, label.shape[2]), axis=0))\n",
    "print(\"shape of the label \", label.shape)"
   ]
  },
  {
   "cell_type": "code",
   "execution_count": null,
   "metadata": {},
   "outputs": [],
   "source": []
  },
  {
   "cell_type": "code",
   "execution_count": null,
   "metadata": {},
   "outputs": [],
   "source": []
  },
  {
   "cell_type": "code",
   "execution_count": null,
   "metadata": {},
   "outputs": [],
   "source": []
  }
 ],
 "metadata": {
  "kernelspec": {
   "display_name": "Python 3",
   "language": "python",
   "name": "python3"
  },
  "language_info": {
   "codemirror_mode": {
    "name": "ipython",
    "version": 3
   },
   "file_extension": ".py",
   "mimetype": "text/x-python",
   "name": "python",
   "nbconvert_exporter": "python",
   "pygments_lexer": "ipython3",
   "version": "3.6.7"
  }
 },
 "nbformat": 4,
 "nbformat_minor": 2
}
